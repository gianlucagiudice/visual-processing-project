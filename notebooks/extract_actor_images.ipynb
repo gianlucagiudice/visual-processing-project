{
 "cells": [
  {
   "cell_type": "code",
   "execution_count": 1,
   "outputs": [],
   "source": [
    "from os import path\n",
    "from bs4 import BeautifulSoup\n",
    "import pandas as pd\n",
    "\n",
    "METADATA_DESTINATION = '../dataset/imdb_crop/'\n",
    "METADATA_CROPPED_FILE_MATLAB = METADATA_DESTINATION + 'imdb.mat'"
   ],
   "metadata": {
    "collapsed": false,
    "pycharm": {
     "name": "#%%\n"
    }
   }
  },
  {
   "cell_type": "code",
   "execution_count": 2,
   "outputs": [
    {
     "data": {
      "text/plain": "' RETRIEVING NAMES\\nnames = open(\\'names.html\\', \\'r\\', errors=\\'ignore\\')\\nactors = open(\"500actors.txt\", \\'w\\')\\n\\nactors_names = []\\nsoup = BeautifulSoup(names, \\'html.parser\\')\\nfor s in soup.findAll(\\'span\\'):\\n    if not(\\'<img\\' in str(s.contents[0])) and not(\\'<span\\' in str(s.contents[0])):\\n        if not(s.contents[0].isdigit()) and not(\\'%\\' in str(s.contents[0])):\\n            if s.contents[0] != \\'Global Sites\\' and s.contents[0] != \\'Company\\':\\n                actors_names.append(s.contents[0])\\n\\nfor a in actors_names:\\n    actors.write(a + \\';\\')\\n'"
     },
     "execution_count": 2,
     "metadata": {},
     "output_type": "execute_result"
    }
   ],
   "source": [
    "''' RETRIEVING NAMES\n",
    "names = open('names.html', 'r', errors='ignore')\n",
    "actors = open(\"500actors.txt\", 'w')\n",
    "\n",
    "actors_names = []\n",
    "soup = BeautifulSoup(names, 'html.parser')\n",
    "for s in soup.findAll('span'):\n",
    "    if not('<img' in str(s.contents[0])) and not('<span' in str(s.contents[0])):\n",
    "        if not(s.contents[0].isdigit()) and not('%' in str(s.contents[0])):\n",
    "            if s.contents[0] != 'Global Sites' and s.contents[0] != 'Company':\n",
    "                actors_names.append(s.contents[0])\n",
    "\n",
    "for a in actors_names:\n",
    "    actors.write(a + ';')\n",
    "'''"
   ],
   "metadata": {
    "collapsed": false,
    "pycharm": {
     "name": "#%%\n"
    }
   }
  },
  {
   "cell_type": "code",
   "execution_count": 3,
   "outputs": [
    {
     "data": {
      "text/plain": "1481"
     },
     "execution_count": 3,
     "metadata": {},
     "output_type": "execute_result"
    }
   ],
   "source": [
    "actors = open(\"500actors.txt\", 'r')\n",
    "actors = actors.read().split(';')[:-1]\n",
    "len(actors)"
   ],
   "metadata": {
    "collapsed": false,
    "pycharm": {
     "name": "#%%\n"
    }
   }
  },
  {
   "cell_type": "code",
   "execution_count": 4,
   "outputs": [
    {
     "data": {
      "text/plain": "' 500ACTORS IN IMDB\\nhead, tail = path.split(METADATA_CROPPED_FILE_MATLAB)\\npath_serialized = path.join(head, \\'imdb.pickle\\')\\ndf = pd.read_pickle(path_serialized)\\ndf.head()\\n\\ndf_500actors = pd.DataFrame(columns=df.columns)\\nfor actor in actors:\\n    q = \\'name==\"\\' + actor + \\'\"\\'\\n    df_500actors = pd.concat([df_500actors, df.query(q)])\\ndf_500actors.reset_index()\\n\\nlen(df_500actors)\\n\\ndf_500actors = df_500actors[df_500actors.full_path != \"04/nm0000204_rm3206975232_1981-6-9_2002.jpg\"]\\nlen(df_500actors)\\n\\nhead, tail = path.split(METADATA_CROPPED_FILE_MATLAB)\\npath_serialized = path.join(head, \\'imdb_500actors.pickle\\')\\ndf_500actors.to_pickle(path_serialized)\\n\\ndf_500actors = pd.read_pickle(path_serialized)\\ndf_500actors.head()\\n\\ndf_500actors.describe()\\n'"
     },
     "execution_count": 4,
     "metadata": {},
     "output_type": "execute_result"
    }
   ],
   "source": [
    "''' 500ACTORS IN IMDB\n",
    "head, tail = path.split(METADATA_CROPPED_FILE_MATLAB)\n",
    "path_serialized = path.join(head, 'imdb.pickle')\n",
    "df = pd.read_pickle(path_serialized)\n",
    "df.head()\n",
    "\n",
    "df_500actors = pd.DataFrame(columns=df.columns)\n",
    "for actor in actors:\n",
    "    q = 'name==\"' + actor + '\"'\n",
    "    df_500actors = pd.concat([df_500actors, df.query(q)])\n",
    "df_500actors.reset_index()\n",
    "\n",
    "len(df_500actors)\n",
    "\n",
    "df_500actors = df_500actors[df_500actors.full_path != \"04/nm0000204_rm3206975232_1981-6-9_2002.jpg\"]\n",
    "len(df_500actors)\n",
    "\n",
    "head, tail = path.split(METADATA_CROPPED_FILE_MATLAB)\n",
    "path_serialized = path.join(head, 'imdb_500actors.pickle')\n",
    "df_500actors.to_pickle(path_serialized)\n",
    "\n",
    "df_500actors = pd.read_pickle(path_serialized)\n",
    "df_500actors.head()\n",
    "\n",
    "df_500actors.describe()\n",
    "'''"
   ],
   "metadata": {
    "collapsed": false,
    "pycharm": {
     "name": "#%%\n"
    }
   }
  },
  {
   "cell_type": "code",
   "execution_count": 80,
   "outputs": [
    {
     "name": "stderr",
     "output_type": "stream",
     "text": [
      "WARNING: C:\\Users\\lucre\\AppData\\Local\\Temp/ipykernel_5848/3280361057.py:21: FutureWarning: pandas.io.json.json_normalize is deprecated, use pandas.json_normalize instead\n",
      "  results_df = pd.io.json.json_normalize(results['results']['bindings'])\n",
      "\n"
     ]
    }
   ],
   "source": [
    "from SPARQLWrapper import SPARQLWrapper, JSON\n",
    "import pandas as pd\n",
    "sparql = SPARQLWrapper(\"https://query.wikidata.org/sparql\")\n",
    "# From https://www.wikidata.org/wiki/Wikidata:SPARQL_query_service/queries/examples#Cats\n",
    "sparql.setQuery(\"\"\"\n",
    "SELECT  DISTINCT ?gender (SAMPLE(?birth) as ?birth_date)\n",
    " (SAMPLE(?death_date) as ?dateOfDeath)  WHERE {\n",
    "?id wdt:P31 wd:Q5.\n",
    "?id wdt:P569 ?birth .\n",
    "?id wdt:P21 ?gender.\n",
    "OPTIONAL{?id wdt:P570 ?death_date .}\n",
    "SERVICE wikibase:label {\n",
    "bd:serviceParam wikibase:language \"en\".\n",
    "?id rdfs:label ?idLabel .\n",
    "}?id ?label \"Natalie Portman\"@en.\n",
    "}\n",
    "GROUP BY ?gender\n",
    "\"\"\")\n",
    "sparql.setReturnFormat(JSON)\n",
    "results = sparql.query().convert()\n",
    "results_df = pd.io.json.json_normalize(results['results']['bindings'])"
   ],
   "metadata": {
    "collapsed": false,
    "pycharm": {
     "name": "#%%\n"
    }
   }
  },
  {
   "cell_type": "code",
   "execution_count": 81,
   "outputs": [
    {
     "name": "stdout",
     "output_type": "stream",
     "text": [
      "http://www.wikidata.org/entity/Q6581072\n",
      "1981-06-09T00:00:00Z\n"
     ]
    }
   ],
   "source": [
    "# male Q6581097\n",
    "# female Q6581072\n",
    "print(results_df['gender.value'].values[0])\n",
    "print(results_df['birth_date.value'].values[0])"
   ],
   "metadata": {
    "collapsed": false,
    "pycharm": {
     "name": "#%%\n"
    }
   }
  }
 ],
 "metadata": {
  "kernelspec": {
   "display_name": "Python 3",
   "language": "python",
   "name": "python3"
  },
  "language_info": {
   "codemirror_mode": {
    "name": "ipython",
    "version": 2
   },
   "file_extension": ".py",
   "mimetype": "text/x-python",
   "name": "python",
   "nbconvert_exporter": "python",
   "pygments_lexer": "ipython2",
   "version": "2.7.6"
  }
 },
 "nbformat": 4,
 "nbformat_minor": 0
}