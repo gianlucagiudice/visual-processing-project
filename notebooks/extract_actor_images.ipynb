{
 "cells": [
  {
   "cell_type": "code",
   "execution_count": 1,
   "outputs": [],
   "source": [
    "from os import path\n",
    "from bs4 import BeautifulSoup\n",
    "import pandas as pd\n",
    "\n",
    "METADATA_DESTINATION = '../dataset/imdb_crop/'\n",
    "METADATA_CROPPED_FILE_MATLAB = METADATA_DESTINATION + 'imdb.mat'"
   ],
   "metadata": {
    "collapsed": false,
    "pycharm": {
     "name": "#%%\n"
    }
   }
  },
  {
   "cell_type": "code",
   "execution_count": 3,
   "outputs": [
    {
     "ename": "SyntaxError",
     "evalue": "EOF while scanning triple-quoted string literal (Temp/ipykernel_29128/3710662835.py, line 4)",
     "output_type": "error",
     "traceback": [
      "\u001B[1;36m  File \u001B[1;32m\"C:\\Users\\lucre\\AppData\\Local\\Temp/ipykernel_29128/3710662835.py\"\u001B[1;36m, line \u001B[1;32m4\u001B[0m\n\u001B[1;33m    \u001B[0m\n\u001B[1;37m    ^\u001B[0m\n\u001B[1;31mSyntaxError\u001B[0m\u001B[1;31m:\u001B[0m EOF while scanning triple-quoted string literal\n"
     ]
    }
   ],
   "source": [
    "''' scraping purpose\n",
    "names = open('names.html', 'r', errors='ignore')\n",
    "actors = open(\"500actors.txt\", 'w')\n",
    "'''"
   ],
   "metadata": {
    "collapsed": false,
    "pycharm": {
     "name": "#%%\n"
    }
   }
  },
  {
   "cell_type": "code",
   "execution_count": 97,
   "outputs": [],
   "source": [
    "'''\n",
    "actors_names = []\n",
    "soup = BeautifulSoup(names, 'html.parser')\n",
    "for s in soup.findAll('span'):\n",
    "    if not('<img' in str(s.contents[0])) and not('<span' in str(s.contents[0])):\n",
    "        if not(s.contents[0].isdigit()) and not('%' in str(s.contents[0])):\n",
    "            if s.contents[0] != 'Global Sites' and s.contents[0] != 'Company':\n",
    "                actors_names.append(s.contents[0])\n",
    "'''"
   ],
   "metadata": {
    "collapsed": false,
    "pycharm": {
     "name": "#%%\n"
    }
   }
  },
  {
   "cell_type": "code",
   "execution_count": 99,
   "outputs": [],
   "source": [
    "'''\n",
    "for a in actors_names:\n",
    "    actors.write(a + ';')\n",
    "'''"
   ],
   "metadata": {
    "collapsed": false,
    "pycharm": {
     "name": "#%%\n"
    }
   }
  },
  {
   "cell_type": "code",
   "execution_count": 13,
   "outputs": [
    {
     "data": {
      "text/plain": "1481"
     },
     "execution_count": 13,
     "metadata": {},
     "output_type": "execute_result"
    }
   ],
   "source": [
    "actors = open(\"500actors.txt\", 'r')\n",
    "actors = actors.read().split(';')[:-1]\n",
    "len(actors)"
   ],
   "metadata": {
    "collapsed": false,
    "pycharm": {
     "name": "#%%\n"
    }
   }
  },
  {
   "cell_type": "code",
   "execution_count": 14,
   "outputs": [
    {
     "data": {
      "text/plain": "   age  gender                                     full_path           name  \\\n0   68     1.0   01/nm0000001_rm124825600_1899-5-10_1968.jpg   Fred Astaire   \n1   70     1.0  01/nm0000001_rm3343756032_1899-5-10_1970.jpg   Fred Astaire   \n3   68     1.0   01/nm0000001_rm946909184_1899-5-10_1968.jpg   Fred Astaire   \n4   68     1.0   01/nm0000001_rm980463616_1899-5-10_1968.jpg   Fred Astaire   \n5   66     0.0  02/nm0000002_rm1075631616_1924-9-16_1991.jpg  Lauren Bacall   \n\n                                       face_location  face_score  photo_taken  \\\n0  [1072.926, 161.838, 1214.7839999999999, 303.69...    1.459693         1968   \n1                [477.184, 100.352, 622.592, 245.76]    2.543198         1970   \n3  [622.8855056426588, 424.21750383700805, 844.33...    1.872117         1968   \n4  [1013.8590023603723, 233.8820422075853, 1201.5...    1.158766         1968   \n5  [686.6768205940973, 458.4672137293982, 1198.10...    3.490563         1991   \n\n   celeb_id  second_face_score     dob  standard_dob  \n0      6488           1.118973  693726          1900  \n1      6488           1.852008  693726          1900  \n3      6488                NaN  693726          1900  \n4      6488                NaN  693726          1900  \n5     11516           1.345335  702986          1925  ",
      "text/html": "<div>\n<style scoped>\n    .dataframe tbody tr th:only-of-type {\n        vertical-align: middle;\n    }\n\n    .dataframe tbody tr th {\n        vertical-align: top;\n    }\n\n    .dataframe thead th {\n        text-align: right;\n    }\n</style>\n<table border=\"1\" class=\"dataframe\">\n  <thead>\n    <tr style=\"text-align: right;\">\n      <th></th>\n      <th>age</th>\n      <th>gender</th>\n      <th>full_path</th>\n      <th>name</th>\n      <th>face_location</th>\n      <th>face_score</th>\n      <th>photo_taken</th>\n      <th>celeb_id</th>\n      <th>second_face_score</th>\n      <th>dob</th>\n      <th>standard_dob</th>\n    </tr>\n  </thead>\n  <tbody>\n    <tr>\n      <th>0</th>\n      <td>68</td>\n      <td>1.0</td>\n      <td>01/nm0000001_rm124825600_1899-5-10_1968.jpg</td>\n      <td>Fred Astaire</td>\n      <td>[1072.926, 161.838, 1214.7839999999999, 303.69...</td>\n      <td>1.459693</td>\n      <td>1968</td>\n      <td>6488</td>\n      <td>1.118973</td>\n      <td>693726</td>\n      <td>1900</td>\n    </tr>\n    <tr>\n      <th>1</th>\n      <td>70</td>\n      <td>1.0</td>\n      <td>01/nm0000001_rm3343756032_1899-5-10_1970.jpg</td>\n      <td>Fred Astaire</td>\n      <td>[477.184, 100.352, 622.592, 245.76]</td>\n      <td>2.543198</td>\n      <td>1970</td>\n      <td>6488</td>\n      <td>1.852008</td>\n      <td>693726</td>\n      <td>1900</td>\n    </tr>\n    <tr>\n      <th>3</th>\n      <td>68</td>\n      <td>1.0</td>\n      <td>01/nm0000001_rm946909184_1899-5-10_1968.jpg</td>\n      <td>Fred Astaire</td>\n      <td>[622.8855056426588, 424.21750383700805, 844.33...</td>\n      <td>1.872117</td>\n      <td>1968</td>\n      <td>6488</td>\n      <td>NaN</td>\n      <td>693726</td>\n      <td>1900</td>\n    </tr>\n    <tr>\n      <th>4</th>\n      <td>68</td>\n      <td>1.0</td>\n      <td>01/nm0000001_rm980463616_1899-5-10_1968.jpg</td>\n      <td>Fred Astaire</td>\n      <td>[1013.8590023603723, 233.8820422075853, 1201.5...</td>\n      <td>1.158766</td>\n      <td>1968</td>\n      <td>6488</td>\n      <td>NaN</td>\n      <td>693726</td>\n      <td>1900</td>\n    </tr>\n    <tr>\n      <th>5</th>\n      <td>66</td>\n      <td>0.0</td>\n      <td>02/nm0000002_rm1075631616_1924-9-16_1991.jpg</td>\n      <td>Lauren Bacall</td>\n      <td>[686.6768205940973, 458.4672137293982, 1198.10...</td>\n      <td>3.490563</td>\n      <td>1991</td>\n      <td>11516</td>\n      <td>1.345335</td>\n      <td>702986</td>\n      <td>1925</td>\n    </tr>\n  </tbody>\n</table>\n</div>"
     },
     "execution_count": 14,
     "metadata": {},
     "output_type": "execute_result"
    }
   ],
   "source": [
    "head, tail = path.split(METADATA_CROPPED_FILE_MATLAB)\n",
    "path_serialized = path.join(head, 'imdb.pickle')\n",
    "df = pd.read_pickle(path_serialized)\n",
    "df.head()"
   ],
   "metadata": {
    "collapsed": false,
    "pycharm": {
     "name": "#%%\n"
    }
   }
  },
  {
   "cell_type": "code",
   "execution_count": 15,
   "outputs": [
    {
     "data": {
      "text/plain": "        index age  gender                                    full_path  \\\n0       17156  75     1.0  51/nm0000151_rm1071620864_1937-6-1_2013.jpg   \n1       17159  75     1.0  51/nm0000151_rm1134012160_1937-6-1_2013.jpg   \n2       17162  75     1.0  51/nm0000151_rm1167566592_1937-6-1_2013.jpg   \n3       17164  74     1.0  51/nm0000151_rm1182968320_1937-6-1_2012.jpg   \n4       17169  54     1.0  51/nm0000151_rm1265159680_1937-6-1_1992.jpg   \n...       ...  ..     ...                                          ...   \n79761  304644  49     1.0  16/nm0148516_rm2827603712_1964-6-3_2014.jpg   \n79762  304645  49     1.0  16/nm0148516_rm2844380928_1964-6-3_2014.jpg   \n79763  304646  49     1.0  16/nm0148516_rm2995375872_1964-6-3_2014.jpg   \n79764  304647  49     1.0  16/nm0148516_rm3028930304_1964-6-3_2014.jpg   \n79765  304648  49     1.0  16/nm0148516_rm3079261952_1964-6-3_2014.jpg   \n\n                      name                                      face_location  \\\n0           Morgan Freeman  [792.2451384587582, 511.2861558956442, 948.236...   \n1           Morgan Freeman  [975.2079502486731, 187.41180004736628, 1181.6...   \n2           Morgan Freeman  [1432.388812468628, 491.37512005505687, 1769.1...   \n3           Morgan Freeman  [423.486473844671, 283.00698256311404, 1053.59...   \n4           Morgan Freeman  [1590.3480236143484, 389.49876330044805, 2017....   \n...                    ...                                                ...   \n79761  Aleksey Serebryakov  [604.2967631446854, 171.43046463444276, 771.63...   \n79762  Aleksey Serebryakov             [1099.776, 149.504, 1245.184, 294.912]   \n79763  Aleksey Serebryakov  [1582.4422769175164, 493.7262194854495, 1896.4...   \n79764  Aleksey Serebryakov  [445.8115415013483, 365.1272612283759, 806.842...   \n79765  Aleksey Serebryakov  [465.45750011841574, 280.09370007104945, 880.4...   \n\n       face_score photo_taken celeb_id  second_face_score     dob standard_dob  \n0        1.676097        2013    14122                NaN  707627         1938  \n1        0.880068        2013    14122                NaN  707627         1938  \n2        1.511784        2013    14122           0.897216  707627         1938  \n3        2.950409        2012    14122                NaN  707627         1938  \n4        3.109534        1992    14122           1.875366  707627         1938  \n...           ...         ...      ...                ...     ...          ...  \n79761    3.848068        2014      426           2.681266  717491         1965  \n79762    3.400708        2014      426           2.082423  717491         1965  \n79763    3.356085        2014      426           2.316574  717491         1965  \n79764    4.723559        2014      426           2.973913  717491         1965  \n79765    4.311066        2014      426           0.749320  717491         1965  \n\n[79766 rows x 12 columns]",
      "text/html": "<div>\n<style scoped>\n    .dataframe tbody tr th:only-of-type {\n        vertical-align: middle;\n    }\n\n    .dataframe tbody tr th {\n        vertical-align: top;\n    }\n\n    .dataframe thead th {\n        text-align: right;\n    }\n</style>\n<table border=\"1\" class=\"dataframe\">\n  <thead>\n    <tr style=\"text-align: right;\">\n      <th></th>\n      <th>index</th>\n      <th>age</th>\n      <th>gender</th>\n      <th>full_path</th>\n      <th>name</th>\n      <th>face_location</th>\n      <th>face_score</th>\n      <th>photo_taken</th>\n      <th>celeb_id</th>\n      <th>second_face_score</th>\n      <th>dob</th>\n      <th>standard_dob</th>\n    </tr>\n  </thead>\n  <tbody>\n    <tr>\n      <th>0</th>\n      <td>17156</td>\n      <td>75</td>\n      <td>1.0</td>\n      <td>51/nm0000151_rm1071620864_1937-6-1_2013.jpg</td>\n      <td>Morgan Freeman</td>\n      <td>[792.2451384587582, 511.2861558956442, 948.236...</td>\n      <td>1.676097</td>\n      <td>2013</td>\n      <td>14122</td>\n      <td>NaN</td>\n      <td>707627</td>\n      <td>1938</td>\n    </tr>\n    <tr>\n      <th>1</th>\n      <td>17159</td>\n      <td>75</td>\n      <td>1.0</td>\n      <td>51/nm0000151_rm1134012160_1937-6-1_2013.jpg</td>\n      <td>Morgan Freeman</td>\n      <td>[975.2079502486731, 187.41180004736628, 1181.6...</td>\n      <td>0.880068</td>\n      <td>2013</td>\n      <td>14122</td>\n      <td>NaN</td>\n      <td>707627</td>\n      <td>1938</td>\n    </tr>\n    <tr>\n      <th>2</th>\n      <td>17162</td>\n      <td>75</td>\n      <td>1.0</td>\n      <td>51/nm0000151_rm1167566592_1937-6-1_2013.jpg</td>\n      <td>Morgan Freeman</td>\n      <td>[1432.388812468628, 491.37512005505687, 1769.1...</td>\n      <td>1.511784</td>\n      <td>2013</td>\n      <td>14122</td>\n      <td>0.897216</td>\n      <td>707627</td>\n      <td>1938</td>\n    </tr>\n    <tr>\n      <th>3</th>\n      <td>17164</td>\n      <td>74</td>\n      <td>1.0</td>\n      <td>51/nm0000151_rm1182968320_1937-6-1_2012.jpg</td>\n      <td>Morgan Freeman</td>\n      <td>[423.486473844671, 283.00698256311404, 1053.59...</td>\n      <td>2.950409</td>\n      <td>2012</td>\n      <td>14122</td>\n      <td>NaN</td>\n      <td>707627</td>\n      <td>1938</td>\n    </tr>\n    <tr>\n      <th>4</th>\n      <td>17169</td>\n      <td>54</td>\n      <td>1.0</td>\n      <td>51/nm0000151_rm1265159680_1937-6-1_1992.jpg</td>\n      <td>Morgan Freeman</td>\n      <td>[1590.3480236143484, 389.49876330044805, 2017....</td>\n      <td>3.109534</td>\n      <td>1992</td>\n      <td>14122</td>\n      <td>1.875366</td>\n      <td>707627</td>\n      <td>1938</td>\n    </tr>\n    <tr>\n      <th>...</th>\n      <td>...</td>\n      <td>...</td>\n      <td>...</td>\n      <td>...</td>\n      <td>...</td>\n      <td>...</td>\n      <td>...</td>\n      <td>...</td>\n      <td>...</td>\n      <td>...</td>\n      <td>...</td>\n      <td>...</td>\n    </tr>\n    <tr>\n      <th>79761</th>\n      <td>304644</td>\n      <td>49</td>\n      <td>1.0</td>\n      <td>16/nm0148516_rm2827603712_1964-6-3_2014.jpg</td>\n      <td>Aleksey Serebryakov</td>\n      <td>[604.2967631446854, 171.43046463444276, 771.63...</td>\n      <td>3.848068</td>\n      <td>2014</td>\n      <td>426</td>\n      <td>2.681266</td>\n      <td>717491</td>\n      <td>1965</td>\n    </tr>\n    <tr>\n      <th>79762</th>\n      <td>304645</td>\n      <td>49</td>\n      <td>1.0</td>\n      <td>16/nm0148516_rm2844380928_1964-6-3_2014.jpg</td>\n      <td>Aleksey Serebryakov</td>\n      <td>[1099.776, 149.504, 1245.184, 294.912]</td>\n      <td>3.400708</td>\n      <td>2014</td>\n      <td>426</td>\n      <td>2.082423</td>\n      <td>717491</td>\n      <td>1965</td>\n    </tr>\n    <tr>\n      <th>79763</th>\n      <td>304646</td>\n      <td>49</td>\n      <td>1.0</td>\n      <td>16/nm0148516_rm2995375872_1964-6-3_2014.jpg</td>\n      <td>Aleksey Serebryakov</td>\n      <td>[1582.4422769175164, 493.7262194854495, 1896.4...</td>\n      <td>3.356085</td>\n      <td>2014</td>\n      <td>426</td>\n      <td>2.316574</td>\n      <td>717491</td>\n      <td>1965</td>\n    </tr>\n    <tr>\n      <th>79764</th>\n      <td>304647</td>\n      <td>49</td>\n      <td>1.0</td>\n      <td>16/nm0148516_rm3028930304_1964-6-3_2014.jpg</td>\n      <td>Aleksey Serebryakov</td>\n      <td>[445.8115415013483, 365.1272612283759, 806.842...</td>\n      <td>4.723559</td>\n      <td>2014</td>\n      <td>426</td>\n      <td>2.973913</td>\n      <td>717491</td>\n      <td>1965</td>\n    </tr>\n    <tr>\n      <th>79765</th>\n      <td>304648</td>\n      <td>49</td>\n      <td>1.0</td>\n      <td>16/nm0148516_rm3079261952_1964-6-3_2014.jpg</td>\n      <td>Aleksey Serebryakov</td>\n      <td>[465.45750011841574, 280.09370007104945, 880.4...</td>\n      <td>4.311066</td>\n      <td>2014</td>\n      <td>426</td>\n      <td>0.749320</td>\n      <td>717491</td>\n      <td>1965</td>\n    </tr>\n  </tbody>\n</table>\n<p>79766 rows × 12 columns</p>\n</div>"
     },
     "execution_count": 15,
     "metadata": {},
     "output_type": "execute_result"
    }
   ],
   "source": [
    "df_500actors = pd.DataFrame(columns=df.columns)\n",
    "for actor in actors:\n",
    "    q = 'name==\"' + actor + '\"'\n",
    "    df_500actors = pd.concat([df_500actors, df.query(q)])\n",
    "df_500actors.reset_index()"
   ],
   "metadata": {
    "collapsed": false,
    "pycharm": {
     "name": "#%%\n"
    }
   }
  },
  {
   "cell_type": "code",
   "execution_count": 16,
   "outputs": [
    {
     "data": {
      "text/plain": "79766"
     },
     "execution_count": 16,
     "metadata": {},
     "output_type": "execute_result"
    }
   ],
   "source": [
    "len(df_500actors)"
   ],
   "metadata": {
    "collapsed": false,
    "pycharm": {
     "name": "#%%\n"
    }
   }
  },
  {
   "cell_type": "code",
   "execution_count": 17,
   "outputs": [
    {
     "data": {
      "text/plain": "79765"
     },
     "execution_count": 17,
     "metadata": {},
     "output_type": "execute_result"
    }
   ],
   "source": [
    "df_500actors = df_500actors[df_500actors.full_path != \"04/nm0000204_rm3206975232_1981-6-9_2002.jpg\"]\n",
    "len(df_500actors)"
   ],
   "metadata": {
    "collapsed": false,
    "pycharm": {
     "name": "#%%\n"
    }
   }
  },
  {
   "cell_type": "code",
   "execution_count": 18,
   "outputs": [],
   "source": [
    "head, tail = path.split(METADATA_CROPPED_FILE_MATLAB)\n",
    "path_serialized = path.join(head, 'imdb_500actors.pickle')\n",
    "df_500actors.to_pickle(path_serialized)"
   ],
   "metadata": {
    "collapsed": false,
    "pycharm": {
     "name": "#%%\n"
    }
   }
  },
  {
   "cell_type": "code",
   "execution_count": 19,
   "outputs": [
    {
     "data": {
      "text/plain": "      age  gender                                    full_path  \\\n17156  75     1.0  51/nm0000151_rm1071620864_1937-6-1_2013.jpg   \n17159  75     1.0  51/nm0000151_rm1134012160_1937-6-1_2013.jpg   \n17162  75     1.0  51/nm0000151_rm1167566592_1937-6-1_2013.jpg   \n17164  74     1.0  51/nm0000151_rm1182968320_1937-6-1_2012.jpg   \n17169  54     1.0  51/nm0000151_rm1265159680_1937-6-1_1992.jpg   \n\n                 name                                      face_location  \\\n17156  Morgan Freeman  [792.2451384587582, 511.2861558956442, 948.236...   \n17159  Morgan Freeman  [975.2079502486731, 187.41180004736628, 1181.6...   \n17162  Morgan Freeman  [1432.388812468628, 491.37512005505687, 1769.1...   \n17164  Morgan Freeman  [423.486473844671, 283.00698256311404, 1053.59...   \n17169  Morgan Freeman  [1590.3480236143484, 389.49876330044805, 2017....   \n\n       face_score photo_taken celeb_id  second_face_score     dob standard_dob  \n17156    1.676097        2013    14122                NaN  707627         1938  \n17159    0.880068        2013    14122                NaN  707627         1938  \n17162    1.511784        2013    14122           0.897216  707627         1938  \n17164    2.950409        2012    14122                NaN  707627         1938  \n17169    3.109534        1992    14122           1.875366  707627         1938  ",
      "text/html": "<div>\n<style scoped>\n    .dataframe tbody tr th:only-of-type {\n        vertical-align: middle;\n    }\n\n    .dataframe tbody tr th {\n        vertical-align: top;\n    }\n\n    .dataframe thead th {\n        text-align: right;\n    }\n</style>\n<table border=\"1\" class=\"dataframe\">\n  <thead>\n    <tr style=\"text-align: right;\">\n      <th></th>\n      <th>age</th>\n      <th>gender</th>\n      <th>full_path</th>\n      <th>name</th>\n      <th>face_location</th>\n      <th>face_score</th>\n      <th>photo_taken</th>\n      <th>celeb_id</th>\n      <th>second_face_score</th>\n      <th>dob</th>\n      <th>standard_dob</th>\n    </tr>\n  </thead>\n  <tbody>\n    <tr>\n      <th>17156</th>\n      <td>75</td>\n      <td>1.0</td>\n      <td>51/nm0000151_rm1071620864_1937-6-1_2013.jpg</td>\n      <td>Morgan Freeman</td>\n      <td>[792.2451384587582, 511.2861558956442, 948.236...</td>\n      <td>1.676097</td>\n      <td>2013</td>\n      <td>14122</td>\n      <td>NaN</td>\n      <td>707627</td>\n      <td>1938</td>\n    </tr>\n    <tr>\n      <th>17159</th>\n      <td>75</td>\n      <td>1.0</td>\n      <td>51/nm0000151_rm1134012160_1937-6-1_2013.jpg</td>\n      <td>Morgan Freeman</td>\n      <td>[975.2079502486731, 187.41180004736628, 1181.6...</td>\n      <td>0.880068</td>\n      <td>2013</td>\n      <td>14122</td>\n      <td>NaN</td>\n      <td>707627</td>\n      <td>1938</td>\n    </tr>\n    <tr>\n      <th>17162</th>\n      <td>75</td>\n      <td>1.0</td>\n      <td>51/nm0000151_rm1167566592_1937-6-1_2013.jpg</td>\n      <td>Morgan Freeman</td>\n      <td>[1432.388812468628, 491.37512005505687, 1769.1...</td>\n      <td>1.511784</td>\n      <td>2013</td>\n      <td>14122</td>\n      <td>0.897216</td>\n      <td>707627</td>\n      <td>1938</td>\n    </tr>\n    <tr>\n      <th>17164</th>\n      <td>74</td>\n      <td>1.0</td>\n      <td>51/nm0000151_rm1182968320_1937-6-1_2012.jpg</td>\n      <td>Morgan Freeman</td>\n      <td>[423.486473844671, 283.00698256311404, 1053.59...</td>\n      <td>2.950409</td>\n      <td>2012</td>\n      <td>14122</td>\n      <td>NaN</td>\n      <td>707627</td>\n      <td>1938</td>\n    </tr>\n    <tr>\n      <th>17169</th>\n      <td>54</td>\n      <td>1.0</td>\n      <td>51/nm0000151_rm1265159680_1937-6-1_1992.jpg</td>\n      <td>Morgan Freeman</td>\n      <td>[1590.3480236143484, 389.49876330044805, 2017....</td>\n      <td>3.109534</td>\n      <td>1992</td>\n      <td>14122</td>\n      <td>1.875366</td>\n      <td>707627</td>\n      <td>1938</td>\n    </tr>\n  </tbody>\n</table>\n</div>"
     },
     "execution_count": 19,
     "metadata": {},
     "output_type": "execute_result"
    }
   ],
   "source": [
    "df_500actors = pd.read_pickle(path_serialized)\n",
    "df_500actors.head()"
   ],
   "metadata": {
    "collapsed": false,
    "pycharm": {
     "name": "#%%\n"
    }
   }
  },
  {
   "cell_type": "code",
   "execution_count": 20,
   "outputs": [
    {
     "data": {
      "text/plain": "             gender    face_score  second_face_score\ncount  79765.000000  79765.000000       44137.000000\nmean       0.597129      3.302833           2.491896\nstd        0.490478      1.229054           1.096539\nmin        0.000000      0.730919           0.730930\n25%        0.000000      2.388378           1.596038\n50%        1.000000      3.303640           2.382068\n75%        1.000000      4.235855           3.290962\nmax        1.000000      7.381689           6.102236",
      "text/html": "<div>\n<style scoped>\n    .dataframe tbody tr th:only-of-type {\n        vertical-align: middle;\n    }\n\n    .dataframe tbody tr th {\n        vertical-align: top;\n    }\n\n    .dataframe thead th {\n        text-align: right;\n    }\n</style>\n<table border=\"1\" class=\"dataframe\">\n  <thead>\n    <tr style=\"text-align: right;\">\n      <th></th>\n      <th>gender</th>\n      <th>face_score</th>\n      <th>second_face_score</th>\n    </tr>\n  </thead>\n  <tbody>\n    <tr>\n      <th>count</th>\n      <td>79765.000000</td>\n      <td>79765.000000</td>\n      <td>44137.000000</td>\n    </tr>\n    <tr>\n      <th>mean</th>\n      <td>0.597129</td>\n      <td>3.302833</td>\n      <td>2.491896</td>\n    </tr>\n    <tr>\n      <th>std</th>\n      <td>0.490478</td>\n      <td>1.229054</td>\n      <td>1.096539</td>\n    </tr>\n    <tr>\n      <th>min</th>\n      <td>0.000000</td>\n      <td>0.730919</td>\n      <td>0.730930</td>\n    </tr>\n    <tr>\n      <th>25%</th>\n      <td>0.000000</td>\n      <td>2.388378</td>\n      <td>1.596038</td>\n    </tr>\n    <tr>\n      <th>50%</th>\n      <td>1.000000</td>\n      <td>3.303640</td>\n      <td>2.382068</td>\n    </tr>\n    <tr>\n      <th>75%</th>\n      <td>1.000000</td>\n      <td>4.235855</td>\n      <td>3.290962</td>\n    </tr>\n    <tr>\n      <th>max</th>\n      <td>1.000000</td>\n      <td>7.381689</td>\n      <td>6.102236</td>\n    </tr>\n  </tbody>\n</table>\n</div>"
     },
     "execution_count": 20,
     "metadata": {},
     "output_type": "execute_result"
    }
   ],
   "source": [
    "df_500actors.describe()"
   ],
   "metadata": {
    "collapsed": false,
    "pycharm": {
     "name": "#%%\n"
    }
   }
  },
  {
   "cell_type": "code",
   "execution_count": null,
   "outputs": [],
   "source": [],
   "metadata": {
    "collapsed": false,
    "pycharm": {
     "name": "#%%\n"
    }
   }
  }
 ],
 "metadata": {
  "kernelspec": {
   "display_name": "Python 3",
   "language": "python",
   "name": "python3"
  },
  "language_info": {
   "codemirror_mode": {
    "name": "ipython",
    "version": 2
   },
   "file_extension": ".py",
   "mimetype": "text/x-python",
   "name": "python",
   "nbconvert_exporter": "python",
   "pygments_lexer": "ipython2",
   "version": "2.7.6"
  }
 },
 "nbformat": 4,
 "nbformat_minor": 0
}