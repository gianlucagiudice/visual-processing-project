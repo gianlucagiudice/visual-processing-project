{
 "cells": [
  {
   "cell_type": "code",
   "execution_count": 1,
   "outputs": [],
   "source": [
    "from os import path\n",
    "from bs4 import BeautifulSoup\n",
    "import pandas as pd\n",
    "import re\n",
    "from tqdm import tqdm\n",
    "METADATA_DESTINATION = '../dataset/imdb_crop/'\n",
    "METADATA_CROPPED_FILE_MATLAB = METADATA_DESTINATION + 'imdb.mat'"
   ],
   "metadata": {
    "collapsed": false,
    "pycharm": {
     "name": "#%%\n"
    }
   }
  },
  {
   "cell_type": "code",
   "execution_count": 2,
   "outputs": [
    {
     "data": {
      "text/plain": "'\\n# RETRIEVING NAMES AND IMG URLS\\nnames = open(\\'names.html\\', \\'r\\', errors=\\'ignore\\')\\nactors = open(\"most_famous_actors.txt\", \\'w\\')\\n\\nactors_names = []\\nimg_urls = []\\nsoup = BeautifulSoup(names, \\'html.parser\\')\\nfor span in soup.findAll(\\'span\\'):\\n    for img in span.findAll(\\'img\\'):\\n        if img:\\n            actors_names.append(img.attrs[\\'alt\\'])\\n            img_urls.append(re.split(r\\' |,\\', img.attrs[\\'srcset\\'])[-2])\\n\\nfor i in range(len(actors_names)):\\n    actors.write(actors_names[i] + \\';\\' + img_urls[i] + \\'\\n\\')\\n'"
     },
     "execution_count": 2,
     "metadata": {},
     "output_type": "execute_result"
    }
   ],
   "source": [
    "'''\n",
    "# RETRIEVING NAMES AND IMG URLS\n",
    "names = open('names.html', 'r', errors='ignore')\n",
    "actors = open(\"most_famous_actors.txt\", 'w')\n",
    "\n",
    "actors_names = []\n",
    "img_urls = []\n",
    "soup = BeautifulSoup(names, 'html.parser')\n",
    "for span in soup.findAll('span'):\n",
    "    for img in span.findAll('img'):\n",
    "        if img:\n",
    "            actors_names.append(img.attrs['alt'])\n",
    "            img_urls.append(re.split(r' |,', img.attrs['srcset'])[-2])\n",
    "\n",
    "for i in range(len(actors_names)):\n",
    "    actors.write(actors_names[i] + ';' + img_urls[i] + '\\n')\n",
    "'''"
   ],
   "metadata": {
    "collapsed": false,
    "pycharm": {
     "name": "#%%\n"
    }
   }
  },
  {
   "cell_type": "code",
   "execution_count": 3,
   "outputs": [],
   "source": [
    "actors = open(\"most_famous_actors.txt\", 'r')\n",
    "actors = actors.read()\n",
    "actors_names = re.split(r';|\\n', actors)[::2]\n",
    "actors_names = actors_names[:-1]\n",
    "actors_img_urls = re.split(r';|\\n', actors)[1::2]"
   ],
   "metadata": {
    "collapsed": false,
    "pycharm": {
     "name": "#%%\n"
    }
   }
  },
  {
   "cell_type": "code",
   "execution_count": null,
   "outputs": [],
   "source": [
    "'''\n",
    "# MOST FAMOUS ACTORS IN IMDB\n",
    "head, tail = path.split(METADATA_CROPPED_FILE_MATLAB)\n",
    "path_serialized = path.join(head, 'imdb.pickle')\n",
    "df = pd.read_pickle(path_serialized)\n",
    "df.head()\n",
    "\n",
    "df_actors = pd.DataFrame(columns=['name', 'url_image', 'gender', 'age'])\n",
    "with tqdm(total=len(actors_names)) as pbar:\n",
    "        for i in range(len(actors_names)):\n",
    "            q = 'name==\"' + actors_names[i] + '\"'\n",
    "            query_results = df.query(q)[[\"age\",\"gender\"]]\n",
    "            if not query_results.empty:\n",
    "                new_row = query_results.iloc[0]\n",
    "                new_row['name'] = actors_names[i]\n",
    "                new_row['url_img'] = actors_img_urls[i]\n",
    "                df_actors = df_actors.append(new_row)\n",
    "                pbar.update(1)\n",
    "df_actors.reset_index()\n",
    "\n",
    "len(df_actors)\n",
    "\n",
    "\n",
    "head, tail = path.split(METADATA_CROPPED_FILE_MATLAB)\n",
    "path_serialized = path.join(head, 'imdb_most_famous_actors.pickle')\n",
    "df_actors.to_pickle(path_serialized)\n",
    "\n",
    "df_actors = pd.read_pickle(path_serialized)\n",
    "df_actors.head()\n",
    "\n",
    "df_actors.describe(include='all')\n",
    "'''"
   ],
   "metadata": {
    "collapsed": false,
    "pycharm": {
     "name": "#%%\n"
    }
   }
  },
  {
   "cell_type": "code",
   "execution_count": 80,
   "outputs": [
    {
     "name": "stderr",
     "output_type": "stream",
     "text": [
      "WARNING: C:\\Users\\lucre\\AppData\\Local\\Temp/ipykernel_5848/3280361057.py:21: FutureWarning: pandas.io.json.json_normalize is deprecated, use pandas.json_normalize instead\n",
      "  results_df = pd.io.json.json_normalize(results['results']['bindings'])\n",
      "\n"
     ]
    }
   ],
   "source": [
    "from SPARQLWrapper import SPARQLWrapper, JSON\n",
    "import pandas as pd\n",
    "sparql = SPARQLWrapper(\"https://query.wikidata.org/sparql\")\n",
    "# From https://www.wikidata.org/wiki/Wikidata:SPARQL_query_service/queries/examples#Cats\n",
    "sparql.setQuery(\"\"\"\n",
    "SELECT  DISTINCT ?gender (SAMPLE(?birth) as ?birth_date)\n",
    " (SAMPLE(?death_date) as ?dateOfDeath)  WHERE {\n",
    "?id wdt:P31 wd:Q5.\n",
    "?id wdt:P569 ?birth .\n",
    "?id wdt:P21 ?gender.\n",
    "OPTIONAL{?id wdt:P570 ?death_date .}\n",
    "SERVICE wikibase:label {\n",
    "bd:serviceParam wikibase:language \"en\".\n",
    "?id rdfs:label ?idLabel .\n",
    "}?id ?label \"Natalie Portman\"@en.\n",
    "}\n",
    "GROUP BY ?gender\n",
    "\"\"\")\n",
    "sparql.setReturnFormat(JSON)\n",
    "results = sparql.query().convert()\n",
    "results_df = pd.io.json.json_normalize(results['results']['bindings'])"
   ],
   "metadata": {
    "collapsed": false,
    "pycharm": {
     "name": "#%%\n"
    }
   }
  },
  {
   "cell_type": "code",
   "execution_count": 81,
   "outputs": [
    {
     "name": "stdout",
     "output_type": "stream",
     "text": [
      "http://www.wikidata.org/entity/Q6581072\n",
      "1981-06-09T00:00:00Z\n"
     ]
    }
   ],
   "source": [
    "# male Q6581097\n",
    "# female Q6581072\n",
    "print(results_df['gender.value'].values[0])\n",
    "print(results_df['birth_date.value'].values[0])"
   ],
   "metadata": {
    "collapsed": false,
    "pycharm": {
     "name": "#%%\n"
    }
   }
  }
 ],
 "metadata": {
  "kernelspec": {
   "display_name": "Python 3",
   "language": "python",
   "name": "python3"
  },
  "language_info": {
   "codemirror_mode": {
    "name": "ipython",
    "version": 2
   },
   "file_extension": ".py",
   "mimetype": "text/x-python",
   "name": "python",
   "nbconvert_exporter": "python",
   "pygments_lexer": "ipython2",
   "version": "2.7.6"
  }
 },
 "nbformat": 4,
 "nbformat_minor": 0
}