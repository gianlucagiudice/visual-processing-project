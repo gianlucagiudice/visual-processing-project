{
 "cells": [
  {
   "cell_type": "code",
   "execution_count": 37,
   "outputs": [],
   "source": [
    "import numpy as np\n",
    "import scipy.io as sio\n",
    "import os\n",
    "import pandas as pd"
   ],
   "metadata": {
    "collapsed": false,
    "pycharm": {
     "name": "#%%\n"
    }
   }
  },
  {
   "cell_type": "code",
   "execution_count": 38,
   "outputs": [],
   "source": [
    "# Matlab file path\n",
    "METADATA_FILE_MATLAB = '../dataset/FDDB/dataset_labels_multibox.mat'"
   ],
   "metadata": {
    "collapsed": false,
    "pycharm": {
     "name": "#%%\n"
    }
   }
  },
  {
   "cell_type": "code",
   "execution_count": 39,
   "outputs": [],
   "source": [
    "mat_obj = sio.loadmat(METADATA_FILE_MATLAB)\n",
    "mat_dta = mat_obj['data2']\n"
   ],
   "metadata": {
    "collapsed": false,
    "pycharm": {
     "name": "#%%\n"
    }
   }
  },
  {
   "cell_type": "code",
   "execution_count": 40,
   "outputs": [],
   "source": [
    "paths = []\n",
    "bboxes = []\n",
    "for path, bbox in mat_dta:\n",
    "    # Path\n",
    "    norm_path = os.path.join('..', '..', 'dataset', *path[0].split('\\\\'))\n",
    "    paths.append(norm_path)\n",
    "    # Bounding boxes\n",
    "    bbox_list = []\n",
    "    for b in bbox.flatten():\n",
    "        rounded_list = [round(x) for x in list(b.flatten())]\n",
    "        bbox_list.append(rounded_list)\n",
    "    bboxes.append(bbox_list)"
   ],
   "metadata": {
    "collapsed": false,
    "pycharm": {
     "name": "#%%\n"
    }
   }
  },
  {
   "cell_type": "code",
   "execution_count": 41,
   "outputs": [],
   "source": [
    "lines = []\n",
    "\n",
    "for f_name, b in zip(paths, bboxes):\n",
    "    fix_box = []\n",
    "    for box in b:\n",
    "        fix_box.append([box[0], box[1], box[0]+box[2], box[1]+box[3]])\n",
    "    all_bbox = ' '.join([','.join([str(s) for s in x] + [str(0)]) for x in fix_box])\n",
    "    row = f'{f_name} {all_bbox}'\n",
    "    lines.append(row)\n"
   ],
   "metadata": {
    "collapsed": false,
    "pycharm": {
     "name": "#%%\n"
    }
   }
  },
  {
   "cell_type": "code",
   "execution_count": 42,
   "outputs": [],
   "source": [
    "with open('../libs/keras-yolo3/model_data/fddb_annotation.txt', 'w') as f:\n",
    "    f.write('\\n'.join(lines))"
   ],
   "metadata": {
    "collapsed": false,
    "pycharm": {
     "name": "#%%\n"
    }
   }
  }
 ],
 "metadata": {
  "kernelspec": {
   "display_name": "Python 3",
   "language": "python",
   "name": "python3"
  },
  "language_info": {
   "codemirror_mode": {
    "name": "ipython",
    "version": 2
   },
   "file_extension": ".py",
   "mimetype": "text/x-python",
   "name": "python",
   "nbconvert_exporter": "python",
   "pygments_lexer": "ipython2",
   "version": "2.7.6"
  }
 },
 "nbformat": 4,
 "nbformat_minor": 0
}