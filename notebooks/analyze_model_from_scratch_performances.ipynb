{
 "cells": [
  {
   "cell_type": "code",
   "execution_count": 4,
   "metadata": {
    "collapsed": true
   },
   "outputs": [
    {
     "data": {
      "text/plain": "{'loss': 0.005795324221253395,\n 'gender_output_loss': 0.0009622240322642028,\n 'age_output_loss': 0.002908651949837804,\n 'gender_output_accuracy': 1.0,\n 'age_output_mean_absolute_error': 0.04055314511060715,\n 'times': [0.7419488430023193, 0.12008023262023926]}"
     },
     "execution_count": 4,
     "metadata": {},
     "output_type": "execute_result"
    }
   ],
   "source": [
    "import pickle\n",
    "\n",
    "with open('../doc/reports/model_from_scratch_evaluation.pickle', 'rb') as f:\n",
    "    res_dict = pickle.load(f)\n",
    "res_dict"
   ]
  },
  {
   "cell_type": "code",
   "execution_count": 10,
   "outputs": [
    {
     "name": "stdout",
     "output_type": "stream",
     "text": [
      "Avg time: 0.4310145378112793\n",
      "Std time: 0.31093430519104004\n"
     ]
    }
   ],
   "source": [
    "import numpy as np\n",
    "times = np.array(res_dict['times'])\n",
    "avg_time = times.mean()\n",
    "std_time = times.std()\n",
    "\n",
    "print(f'Avg time: {avg_time}\\n'\n",
    "      f'Std time: {std_time}')"
   ],
   "metadata": {
    "collapsed": false,
    "pycharm": {
     "name": "#%%\n"
    }
   }
  }
 ],
 "metadata": {
  "kernelspec": {
   "display_name": "Python 3",
   "language": "python",
   "name": "python3"
  },
  "language_info": {
   "codemirror_mode": {
    "name": "ipython",
    "version": 2
   },
   "file_extension": ".py",
   "mimetype": "text/x-python",
   "name": "python",
   "nbconvert_exporter": "python",
   "pygments_lexer": "ipython2",
   "version": "2.7.6"
  }
 },
 "nbformat": 4,
 "nbformat_minor": 0
}