{
 "cells": [
  {
   "cell_type": "code",
   "execution_count": 1,
   "metadata": {
    "collapsed": true,
    "pycharm": {
     "name": "#%%\n"
    }
   },
   "outputs": [],
   "source": [
    "import cv2\n",
    "import numpy as np\n",
    "import matplotlib.pyplot as plt\n",
    "import pandas as pd\n",
    "\n",
    "from src.models.HandcraftedModel import HandcraftedModel\n",
    "from src.DataManager import DataManager\n",
    "\n",
    "from src.models.Model import IMAGE_INPUT_SIZE\n",
    "from src.config import IMDB_CROPPED_PATH, IMBD_CROPPED_METADATA_FILENAME\n",
    "\n",
    "from sklearn.svm import SVC\n",
    "from sklearn.neighbors import KNeighborsClassifier\n",
    "from sklearn.metrics import accuracy_score, confusion_matrix\n",
    "\n",
    "from keras import Sequential\n",
    "from keras.layers import Dense"
   ]
  },
  {
   "cell_type": "code",
   "execution_count": 49,
   "outputs": [
    {
     "name": "stdout",
     "output_type": "stream",
     "text": [
      "Read training images ...\n"
     ]
    },
    {
     "name": "stderr",
     "output_type": "stream",
     "text": [
      "100%|██████████| 273/273 [00:00<00:00, 340.08it/s]\n"
     ]
    },
    {
     "name": "stdout",
     "output_type": "stream",
     "text": [
      "Read validation images ...\n"
     ]
    },
    {
     "name": "stderr",
     "output_type": "stream",
     "text": [
      "100%|██████████| 49/49 [00:00<00:00, 420.34it/s]\n"
     ]
    },
    {
     "name": "stdout",
     "output_type": "stream",
     "text": [
      "Read test images ...\n"
     ]
    },
    {
     "name": "stderr",
     "output_type": "stream",
     "text": [
      "100%|██████████| 138/138 [00:00<00:00, 359.74it/s]\n"
     ]
    },
    {
     "name": "stdout",
     "output_type": "stream",
     "text": [
      "Extracting dataset features ...\n"
     ]
    },
    {
     "name": "stderr",
     "output_type": "stream",
     "text": [
      "100%|██████████| 273/273 [02:32<00:00,  1.79it/s]\n"
     ]
    },
    {
     "name": "stdout",
     "output_type": "stream",
     "text": [
      "Extracting dataset features ...\n"
     ]
    },
    {
     "name": "stderr",
     "output_type": "stream",
     "text": [
      "100%|██████████| 49/49 [00:25<00:00,  1.92it/s]\n"
     ]
    },
    {
     "name": "stdout",
     "output_type": "stream",
     "text": [
      "Extracting dataset features ...\n"
     ]
    },
    {
     "name": "stderr",
     "output_type": "stream",
     "text": [
      "100%|██████████| 138/138 [01:19<00:00,  1.73it/s]\n"
     ]
    },
    {
     "name": "stdout",
     "output_type": "stream",
     "text": [
      "Deleted a maximum of 133 columns\n",
      "Deleted 5 rows\n",
      "Deleted 1 rows\n",
      "Deleted 5 rows\n"
     ]
    }
   ],
   "source": [
    "N_SAMPLE = .001\n",
    "\n",
    "# Read the data\n",
    "data_manager = DataManager(IMDB_CROPPED_PATH, IMBD_CROPPED_METADATA_FILENAME, IMAGE_INPUT_SIZE,\n",
    "                           n_subset=N_SAMPLE, normalize_images=False, normalize_age=True)\n",
    "data = data_manager.get_dataset()\n",
    "\n",
    "# Split into train, validation, test\n",
    "train, validation, test = data_manager.split_dataset(data)\n",
    "\n",
    "# Read images\n",
    "print('Read training images ...')\n",
    "X_train, y_train = data_manager.get_X(train), data_manager.get_y(train)\n",
    "print('Read validation images ...')\n",
    "X_val, y_val = data_manager.get_X(validation), data_manager.get_y(validation)\n",
    "print('Read test images ...')\n",
    "X_test, y_test = data_manager.get_X(test), data_manager.get_y(test)\n",
    "\n",
    "n_sift = 150\n",
    "color_hist_bins = 128\n",
    "lbp_n_points = 24\n",
    "lbp_radius = 3\n",
    "handcrafted_model = HandcraftedModel(n_sift, color_hist_bins, lbp_n_points, lbp_radius)\n",
    "\n",
    "# EXTRACTIONS\n",
    "df_train = handcrafted_model.extract_dataset_features(X_train, y_train)\n",
    "df_val = handcrafted_model.extract_dataset_features(X_val, y_val)\n",
    "df_test = handcrafted_model.extract_dataset_features(X_test, y_test)\n",
    "\n",
    "# CLEANING FROM NANS\n",
    "data_manager.delete_nan_columns(df_train, df_val, df_test)\n",
    "data_manager.delete_nan_label_rows(df_train)\n",
    "data_manager.delete_nan_label_rows(df_val)\n",
    "data_manager.delete_nan_label_rows(df_test)"
   ],
   "metadata": {
    "collapsed": false,
    "pycharm": {
     "name": "#%%\n"
    }
   }
  },
  {
   "cell_type": "code",
   "execution_count": 50,
   "outputs": [],
   "source": [
    "# srotolo\n",
    "df_train_new = pd.DataFrame()\n",
    "for _, row in df_train.iterrows():\n",
    "    d = {}\n",
    "    i = 0\n",
    "    for col in range(26):\n",
    "        d[i] = row[col]\n",
    "        i = i + 1\n",
    "    for col in range(26, len(df_train.columns) - 2):\n",
    "        for el in row[col]:\n",
    "            d[i] = el\n",
    "            i = i + 1\n",
    "    df_train_new = df_train_new.append(d, ignore_index=True)\n",
    "\n",
    "df_val_new = pd.DataFrame()\n",
    "for _, row in df_val.iterrows():\n",
    "    d = {}\n",
    "    i = 0\n",
    "    for col in range(26):\n",
    "        d[i] = row[col]\n",
    "        i = i + 1\n",
    "    for col in range(26, len(df_val.columns) - 2):\n",
    "        for el in row[col]:\n",
    "            d[i] = el\n",
    "            i = i + 1\n",
    "    df_val_new = df_val_new.append(d, ignore_index=True)\n",
    "\n",
    "df_test_new = pd.DataFrame()\n",
    "for _, row in df_test.iterrows():\n",
    "    d = {}\n",
    "    i = 0\n",
    "    for col in range(26):\n",
    "        d[i] = row[col]\n",
    "        i = i + 1\n",
    "    for col in range(26, len(df_test.columns) - 2):\n",
    "        for el in row[col]:\n",
    "            d[i] = el\n",
    "            i = i + 1\n",
    "    df_test_new = df_test_new.append(d, ignore_index=True)"
   ],
   "metadata": {
    "collapsed": false,
    "pycharm": {
     "name": "#%%\n"
    }
   }
  },
  {
   "cell_type": "code",
   "execution_count": 51,
   "outputs": [
    {
     "name": "stdout",
     "output_type": "stream",
     "text": [
      "(268, 2330)\n",
      "(48, 2330)\n",
      "(133, 2330)\n"
     ]
    }
   ],
   "source": [
    "print(df_train_new.shape)\n",
    "print(df_val_new.shape)\n",
    "print(df_test_new.shape)"
   ],
   "metadata": {
    "collapsed": false,
    "pycharm": {
     "name": "#%%\n"
    }
   }
  },
  {
   "cell_type": "code",
   "execution_count": 52,
   "outputs": [
    {
     "data": {
      "text/plain": "SVC()"
     },
     "execution_count": 52,
     "metadata": {},
     "output_type": "execute_result"
    }
   ],
   "source": [
    "clf = SVC()\n",
    "clf.fit(df_train_new, df_train[\"gender\"])"
   ],
   "metadata": {
    "collapsed": false,
    "pycharm": {
     "name": "#%%\n"
    }
   }
  },
  {
   "cell_type": "code",
   "execution_count": 53,
   "outputs": [
    {
     "name": "stdout",
     "output_type": "stream",
     "text": [
      "0.6165413533834586\n",
      "[[21 37]\n",
      " [14 61]]\n"
     ]
    }
   ],
   "source": [
    "preds = clf.predict(df_test_new)\n",
    "acc_test = accuracy_score(df_test[\"gender\"], preds)\n",
    "conf_mat_test = confusion_matrix(df_test[\"gender\"], preds)\n",
    "print(acc_test)\n",
    "print(conf_mat_test)"
   ],
   "metadata": {
    "collapsed": false,
    "pycharm": {
     "name": "#%%\n"
    }
   }
  },
  {
   "cell_type": "code",
   "execution_count": 54,
   "outputs": [
    {
     "name": "stdout",
     "output_type": "stream",
     "text": [
      "0.6090225563909775\n",
      "[[25 33]\n",
      " [19 56]]\n"
     ]
    }
   ],
   "source": [
    "from sklearn.neighbors import KNeighborsClassifier\n",
    "\n",
    "classifier = KNeighborsClassifier(n_neighbors=3,algorithm='brute')\n",
    "classifier.fit(df_train_new, df_train[\"gender\"])\n",
    "preds = classifier.predict(df_test_new)\n",
    "acc_test = accuracy_score(df_test[\"gender\"], preds)\n",
    "conf_mat_test = confusion_matrix(df_test[\"gender\"], preds)\n",
    "print(acc_test)\n",
    "print(conf_mat_test)"
   ],
   "metadata": {
    "collapsed": false,
    "pycharm": {
     "name": "#%%\n"
    }
   }
  },
  {
   "cell_type": "code",
   "execution_count": 9,
   "outputs": [
    {
     "name": "stdout",
     "output_type": "stream",
     "text": [
      "0.5\n",
      "[[0 6]\n",
      " [1 7]]\n"
     ]
    }
   ],
   "source": [
    "model = KNeighborsClassifier(7)\n",
    "model.fit(df_train.drop([\"gender\", \"age\"], axis=1), df_train[\"gender\"])\n",
    "\n",
    "prediction = model.predict(df_test.drop([\"gender\", \"age\"], axis=1))\n",
    "\n",
    "acc_test = accuracy_score(df_test[\"gender\"], prediction)\n",
    "conf_mat_test = confusion_matrix(df_test[\"gender\"], prediction)\n",
    "print(acc_test)\n",
    "print(conf_mat_test)\n",
    "#https://github.com/laz08/Image-gender-classification/tree/master/src/classifiers"
   ],
   "metadata": {
    "collapsed": false,
    "pycharm": {
     "name": "#%%\n"
    }
   }
  },
  {
   "cell_type": "code",
   "execution_count": null,
   "outputs": [],
   "source": [],
   "metadata": {
    "collapsed": false,
    "pycharm": {
     "name": "#%%\n"
    }
   }
  }
 ],
 "metadata": {
  "kernelspec": {
   "display_name": "Python 3",
   "language": "python",
   "name": "python3"
  },
  "language_info": {
   "codemirror_mode": {
    "name": "ipython",
    "version": 2
   },
   "file_extension": ".py",
   "mimetype": "text/x-python",
   "name": "python",
   "nbconvert_exporter": "python",
   "pygments_lexer": "ipython2",
   "version": "2.7.6"
  }
 },
 "nbformat": 4,
 "nbformat_minor": 0
}