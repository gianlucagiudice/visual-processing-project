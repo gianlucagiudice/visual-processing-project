{
 "cells": [
  {
   "cell_type": "code",
   "execution_count": 72,
   "metadata": {
    "collapsed": true
   },
   "outputs": [],
   "source": [
    "import math\n",
    "import os\n",
    "\n",
    "import cv2\n",
    "import matplotlib.pyplot as plt\n",
    "import numpy as np\n",
    "import pandas as pd\n",
    "import seaborn as sns\n",
    "from sklearn.metrics import confusion_matrix\n",
    "from sklearn.metrics import mean_squared_error, mean_absolute_error\n",
    "from sklearn.model_selection import train_test_split\n",
    "from sklearn.preprocessing import MinMaxScaler\n",
    "from sklearn.tree import DecisionTreeRegressor\n",
    "from tqdm import tqdm\n",
    "\n",
    "from src.DataManager import DataManager\n",
    "from src.config import IMDB_CROPPED_PATH, IMBD_CROPPED_METADATA_FILENAME\n",
    "from src.models.HandcraftedModel import HandcraftedModel\n",
    "from src.models.Model import IMAGE_INPUT_SIZE"
   ]
  },
  {
   "cell_type": "code",
   "execution_count": 3,
   "outputs": [
    {
     "name": "stderr",
     "output_type": "stream",
     "text": [
      "100%|██████████| 9780/9780 [00:16<00:00, 585.87it/s]\n"
     ]
    }
   ],
   "source": [
    "\n",
    "df = pd.DataFrame()\n",
    "\n",
    "with tqdm(total=len(os.listdir('../dataset/utk/crop_part1'))) as pbar:\n",
    "    for file in os.listdir('../dataset/utk/crop_part1'):\n",
    "        d = {}\n",
    "        d[\"path\"] = file\n",
    "        attr = file.split('_')\n",
    "        d[\"age\"] = attr[0]\n",
    "        # 0 male, 1 female\n",
    "        d[\"gender\"] = attr[1]\n",
    "        df = df.append(d, ignore_index=True)\n",
    "        pbar.update(1)"
   ],
   "metadata": {
    "collapsed": false,
    "pycharm": {
     "name": "#%%\n"
    }
   }
  },
  {
   "cell_type": "code",
   "execution_count": 4,
   "outputs": [
    {
     "data": {
      "text/plain": "                                          path   age gender\ncount                                     9780  9780   9780\nunique                                    9780    99      3\ntop     100_1_0_20170110183726390.jpg.chip.jpg     1      1\nfreq                                         1  1112   5407",
      "text/html": "<div>\n<style scoped>\n    .dataframe tbody tr th:only-of-type {\n        vertical-align: middle;\n    }\n\n    .dataframe tbody tr th {\n        vertical-align: top;\n    }\n\n    .dataframe thead th {\n        text-align: right;\n    }\n</style>\n<table border=\"1\" class=\"dataframe\">\n  <thead>\n    <tr style=\"text-align: right;\">\n      <th></th>\n      <th>path</th>\n      <th>age</th>\n      <th>gender</th>\n    </tr>\n  </thead>\n  <tbody>\n    <tr>\n      <th>count</th>\n      <td>9780</td>\n      <td>9780</td>\n      <td>9780</td>\n    </tr>\n    <tr>\n      <th>unique</th>\n      <td>9780</td>\n      <td>99</td>\n      <td>3</td>\n    </tr>\n    <tr>\n      <th>top</th>\n      <td>100_1_0_20170110183726390.jpg.chip.jpg</td>\n      <td>1</td>\n      <td>1</td>\n    </tr>\n    <tr>\n      <th>freq</th>\n      <td>1</td>\n      <td>1112</td>\n      <td>5407</td>\n    </tr>\n  </tbody>\n</table>\n</div>"
     },
     "execution_count": 4,
     "metadata": {},
     "output_type": "execute_result"
    }
   ],
   "source": [
    "df.describe()"
   ],
   "metadata": {
    "collapsed": false,
    "pycharm": {
     "name": "#%%\n"
    }
   }
  },
  {
   "cell_type": "code",
   "execution_count": 5,
   "outputs": [],
   "source": [
    "def standardize_age(dataset, scaler):\n",
    "    x = np.expand_dims(dataset['age'], -1)\n",
    "    scaler.fit(x)\n",
    "    new_x = scaler.transform(x)\n",
    "    dataset['age'] = new_x\n",
    "    return dataset\n",
    "\n",
    "\n",
    "scaler = MinMaxScaler()\n",
    "df = standardize_age(df, scaler)"
   ],
   "metadata": {
    "collapsed": false,
    "pycharm": {
     "name": "#%%\n"
    }
   }
  },
  {
   "cell_type": "code",
   "execution_count": 6,
   "outputs": [
    {
     "data": {
      "text/plain": "               age\ncount  1000.000000\nmean      0.122523\nstd       0.062354\nmin       0.082569\n25%       0.100917\n50%       0.119266\n75%       0.137615\nmax       1.000000",
      "text/html": "<div>\n<style scoped>\n    .dataframe tbody tr th:only-of-type {\n        vertical-align: middle;\n    }\n\n    .dataframe tbody tr th {\n        vertical-align: top;\n    }\n\n    .dataframe thead th {\n        text-align: right;\n    }\n</style>\n<table border=\"1\" class=\"dataframe\">\n  <thead>\n    <tr style=\"text-align: right;\">\n      <th></th>\n      <th>age</th>\n    </tr>\n  </thead>\n  <tbody>\n    <tr>\n      <th>count</th>\n      <td>1000.000000</td>\n    </tr>\n    <tr>\n      <th>mean</th>\n      <td>0.122523</td>\n    </tr>\n    <tr>\n      <th>std</th>\n      <td>0.062354</td>\n    </tr>\n    <tr>\n      <th>min</th>\n      <td>0.082569</td>\n    </tr>\n    <tr>\n      <th>25%</th>\n      <td>0.100917</td>\n    </tr>\n    <tr>\n      <th>50%</th>\n      <td>0.119266</td>\n    </tr>\n    <tr>\n      <th>75%</th>\n      <td>0.137615</td>\n    </tr>\n    <tr>\n      <th>max</th>\n      <td>1.000000</td>\n    </tr>\n  </tbody>\n</table>\n</div>"
     },
     "execution_count": 6,
     "metadata": {},
     "output_type": "execute_result"
    }
   ],
   "source": [
    "df = df[:1000]\n",
    "df.describe()"
   ],
   "metadata": {
    "collapsed": false,
    "pycharm": {
     "name": "#%%\n"
    }
   }
  },
  {
   "cell_type": "code",
   "execution_count": 7,
   "outputs": [],
   "source": [
    "def split_dataset(dataset):\n",
    "    train, test = train_test_split(dataset, test_size=0.3)\n",
    "    train, validation = train_test_split(dataset, test_size=.15)\n",
    "    return train, validation, test\n",
    "\n",
    "\n",
    "train, validation, test = split_dataset(df)"
   ],
   "metadata": {
    "collapsed": false,
    "pycharm": {
     "name": "#%%\n"
    }
   }
  },
  {
   "cell_type": "code",
   "execution_count": 8,
   "outputs": [
    {
     "name": "stderr",
     "output_type": "stream",
     "text": [
      "100%|██████████| 850/850 [00:01<00:00, 488.23it/s]\n",
      "100%|██████████| 300/300 [00:00<00:00, 974.04it/s]\n",
      "100%|██████████| 150/150 [00:00<00:00, 494.71it/s]\n"
     ]
    }
   ],
   "source": [
    "X_train = []\n",
    "y_train = pd.DataFrame(train[[\"gender\", \"age\"]])\n",
    "with tqdm(total=len(train)) as pbar:\n",
    "    for _, x in train.iterrows():\n",
    "        img = cv2.imread(\"../dataset/utk/crop_part1/\" + x[\"path\"])\n",
    "        X_train.append(img)\n",
    "        pbar.update(1)\n",
    "\n",
    "X_test = []\n",
    "y_test = pd.DataFrame(test[[\"gender\", \"age\"]])\n",
    "with tqdm(total=len(test)) as pbar:\n",
    "    for _, x in test.iterrows():\n",
    "        img = cv2.imread(\"../dataset/utk/crop_part1/\" + x[\"path\"])\n",
    "        X_test.append(img)\n",
    "        pbar.update(1)\n",
    "\n",
    "X_val = []\n",
    "y_val = pd.DataFrame(validation[[\"gender\", \"age\"]])\n",
    "with tqdm(total=len(validation)) as pbar:\n",
    "    for _, x in validation.iterrows():\n",
    "        img = cv2.imread(\"../dataset/utk/crop_part1/\" + x[\"path\"])\n",
    "        X_val.append(img)\n",
    "        pbar.update(1)"
   ],
   "metadata": {
    "collapsed": false,
    "pycharm": {
     "name": "#%%\n"
    }
   }
  },
  {
   "cell_type": "code",
   "execution_count": 9,
   "outputs": [
    {
     "name": "stdout",
     "output_type": "stream",
     "text": [
      "Extracting dataset features ...\n"
     ]
    },
    {
     "name": "stderr",
     "output_type": "stream",
     "text": [
      "100%|██████████| 850/850 [09:29<00:00,  1.49it/s]\n",
      "C:\\Users\\lucre\\PycharmProjects\\visual-processing-project\\src\\models\\HandcraftedModel.py:66: PerformanceWarning: DataFrame is highly fragmented.  This is usually the result of calling `frame.insert` many times, which has poor performance.  Consider joining all columns at once using pd.concat(axis=1) instead.  To get a de-fragmented frame, use `newframe = frame.copy()`\n",
      "  df[\"gender\"] = y[\"gender\"].values\n",
      "C:\\Users\\lucre\\PycharmProjects\\visual-processing-project\\src\\models\\HandcraftedModel.py:67: PerformanceWarning: DataFrame is highly fragmented.  This is usually the result of calling `frame.insert` many times, which has poor performance.  Consider joining all columns at once using pd.concat(axis=1) instead.  To get a de-fragmented frame, use `newframe = frame.copy()`\n",
      "  df[\"age\"] = y[\"age\"].values\n"
     ]
    },
    {
     "name": "stdout",
     "output_type": "stream",
     "text": [
      "Extracting dataset features ...\n"
     ]
    },
    {
     "name": "stderr",
     "output_type": "stream",
     "text": [
      "100%|██████████| 150/150 [01:14<00:00,  2.00it/s]\n"
     ]
    },
    {
     "name": "stdout",
     "output_type": "stream",
     "text": [
      "Extracting dataset features ...\n"
     ]
    },
    {
     "name": "stderr",
     "output_type": "stream",
     "text": [
      "100%|██████████| 300/300 [02:25<00:00,  2.05it/s]\n"
     ]
    },
    {
     "name": "stdout",
     "output_type": "stream",
     "text": [
      "Deleted a maximum of 129 columns\n"
     ]
    }
   ],
   "source": [
    "# EXTRACTIONS\n",
    "n_sift = 150\n",
    "color_hist_bins = 128\n",
    "lbp_n_points = 24\n",
    "lbp_radius = 3\n",
    "handcrafted_model = HandcraftedModel(n_sift, color_hist_bins, lbp_n_points, lbp_radius)\n",
    "\n",
    "df_train = handcrafted_model.extract_dataset_features(X_train, y_train)\n",
    "df_val = handcrafted_model.extract_dataset_features(X_val, y_val)\n",
    "df_test = handcrafted_model.extract_dataset_features(X_test, y_test)\n",
    "\n",
    "# CLEANING FROM NANS\n",
    "data_manager = DataManager(IMDB_CROPPED_PATH, IMBD_CROPPED_METADATA_FILENAME, IMAGE_INPUT_SIZE,\n",
    "                           n_subset=1, normalize_images=False, normalize_age=True)\n",
    "data_manager.delete_nan_columns(df_train, df_val, df_test)"
   ],
   "metadata": {
    "collapsed": false,
    "pycharm": {
     "name": "#%%\n"
    }
   }
  },
  {
   "cell_type": "code",
   "execution_count": 11,
   "outputs": [],
   "source": [
    "# srotolo\n",
    "df_train_new = pd.DataFrame()\n",
    "for _, row in df_train.iterrows():\n",
    "    d = {}\n",
    "    i = 0\n",
    "    for col in range(26):\n",
    "        d[i] = row[col]\n",
    "        i = i + 1\n",
    "    for col in range(26, len(df_train.columns) - 2):\n",
    "        for el in row[col]:\n",
    "            d[i] = el\n",
    "            i = i + 1\n",
    "    df_train_new = df_train_new.append(d, ignore_index=True)\n",
    "\n",
    "df_val_new = pd.DataFrame()\n",
    "for _, row in df_val.iterrows():\n",
    "    d = {}\n",
    "    i = 0\n",
    "    for col in range(26):\n",
    "        d[i] = row[col]\n",
    "        i = i + 1\n",
    "    for col in range(26, len(df_val.columns) - 2):\n",
    "        for el in row[col]:\n",
    "            d[i] = el\n",
    "            i = i + 1\n",
    "    df_val_new = df_val_new.append(d, ignore_index=True)\n",
    "\n",
    "df_test_new = pd.DataFrame()\n",
    "for _, row in df_test.iterrows():\n",
    "    d = {}\n",
    "    i = 0\n",
    "    for col in range(26):\n",
    "        d[i] = row[col]\n",
    "        i = i + 1\n",
    "    for col in range(26, len(df_test.columns) - 2):\n",
    "        for el in row[col]:\n",
    "            d[i] = el\n",
    "            i = i + 1\n",
    "    df_test_new = df_test_new.append(d, ignore_index=True)"
   ],
   "metadata": {
    "collapsed": false,
    "pycharm": {
     "name": "#%%\n"
    }
   }
  },
  {
   "cell_type": "code",
   "execution_count": 12,
   "outputs": [
    {
     "name": "stdout",
     "output_type": "stream",
     "text": [
      "(850, 2842)\n",
      "(150, 2842)\n",
      "(300, 2842)\n"
     ]
    }
   ],
   "source": [
    "print(df_train_new.shape)\n",
    "print(df_val_new.shape)\n",
    "print(df_test_new.shape)"
   ],
   "metadata": {
    "collapsed": false,
    "pycharm": {
     "name": "#%%\n"
    }
   }
  },
  {
   "cell_type": "code",
   "execution_count": 19,
   "outputs": [
    {
     "data": {
      "text/plain": "DecisionTreeRegressor(random_state=0)"
     },
     "execution_count": 19,
     "metadata": {},
     "output_type": "execute_result"
    }
   ],
   "source": [
    "regressor = DecisionTreeRegressor(random_state=0)\n",
    "regressor.fit(df_train_new, df_train[\"age\"])"
   ],
   "metadata": {
    "collapsed": false,
    "pycharm": {
     "name": "#%%\n"
    }
   }
  },
  {
   "cell_type": "code",
   "execution_count": 71,
   "outputs": [
    {
     "name": "stdout",
     "output_type": "stream",
     "text": [
      "1.7400000000000004\n",
      "1.319090595827292\n",
      "0.4366666666666674\n"
     ]
    },
    {
     "data": {
      "text/plain": "<Figure size 432x288 with 2 Axes>",
      "image/png": "[encoded data removed]"
     },
     "metadata": {
      "needs_background": "light"
     },
     "output_type": "display_data"
    }
   ],
   "source": [
    "preds_test = regressor.predict(df_test_new)\n",
    "age_test = scaler.inverse_transform([df_test[\"age\"]])[0]\n",
    "age_preds_test = scaler.inverse_transform([preds_test])[0]\n",
    "\n",
    "print(mean_squared_error(age_test, age_preds_test))\n",
    "print(math.sqrt(mean_squared_error(age_test, age_preds_test)))\n",
    "print(mean_absolute_error(age_test, age_preds_test))\n",
    "\n",
    "age_test_new = []\n",
    "for a in age_test:\n",
    "    if a < 80:\n",
    "        age_test_new.append(math.floor(a))\n",
    "\n",
    "age_preds_test_new = []\n",
    "for a in age_preds_test:\n",
    "    if a < 80:\n",
    "        age_preds_test_new.append(math.floor(a))\n",
    "\n",
    "conf_mat_test = confusion_matrix(age_test_new, age_preds_test_new)\n",
    "\n",
    "ax = sns.heatmap(conf_mat_test, linewidth=0.5)\n",
    "plt.show()"
   ],
   "metadata": {
    "collapsed": false,
    "pycharm": {
     "name": "#%%\n"
    }
   }
  },
  {
   "cell_type": "code",
   "execution_count": 70,
   "outputs": [
    {
     "name": "stdout",
     "output_type": "stream",
     "text": [
      "10.483333333333336\n",
      "3.2377976053690163\n",
      "2.5666666666666673\n"
     ]
    },
    {
     "data": {
      "text/plain": "<Figure size 432x288 with 2 Axes>",
      "image/png": "[encoded data removed]"
     },
     "metadata": {
      "needs_background": "light"
     },
     "output_type": "display_data"
    }
   ],
   "source": [
    "preds_val = regressor.predict(df_val_new)\n",
    "age_val = scaler.inverse_transform([df_val[\"age\"]])[0]\n",
    "age_preds_val = scaler.inverse_transform([preds_val])[0]\n",
    "\n",
    "print(mean_squared_error(age_val, age_preds_val))\n",
    "print(math.sqrt(mean_squared_error(age_val, age_preds_val)))\n",
    "print(mean_absolute_error(age_val, age_preds_val))\n",
    "\n",
    "age_val_new = []\n",
    "for a in age_val:\n",
    "    age_val_new.append(math.floor(a))\n",
    "\n",
    "age_preds_val_new = []\n",
    "for a in age_preds_val:\n",
    "    age_preds_val_new.append(math.floor(a))\n",
    "\n",
    "conf_mat_val = confusion_matrix(age_val_new, age_preds_val_new)\n",
    "\n",
    "ax = sns.heatmap(conf_mat_val, linewidth=0.5)\n",
    "plt.show()"
   ],
   "metadata": {
    "collapsed": false,
    "pycharm": {
     "name": "#%%\n"
    }
   }
  }
 ],
 "metadata": {
  "kernelspec": {
   "display_name": "Python 3",
   "language": "python",
   "name": "python3"
  },
  "language_info": {
   "codemirror_mode": {
    "name": "ipython",
    "version": 2
   },
   "file_extension": ".py",
   "mimetype": "text/x-python",
   "name": "python",
   "nbconvert_exporter": "python",
   "pygments_lexer": "ipython2",
   "version": "2.7.6"
  }
 },
 "nbformat": 4,
 "nbformat_minor": 0
}