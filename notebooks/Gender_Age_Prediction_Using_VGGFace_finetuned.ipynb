{
  "cells": [
    {
      "cell_type": "markdown",
      "metadata": {
        "id": "Y_mHB8Z-0Z7T"
      },
      "source": [
        "# **AGE and GENDER prediction using a pretrained VGG16**\n",
        "\n",
        "---"
      ]
    },
    {
      "cell_type": "markdown",
      "metadata": {
        "id": "Lk61MZjI85L_"
      },
      "source": [
        "## Import libraries\n"
      ]
    },
    {
      "cell_type": "code",
      "execution_count": null,
      "metadata": {
        "id": "33KEO4Om87d6"
      },
      "outputs": [],
      "source": [
        "import tarfile\n",
        "from google.colab import drive\n",
        "import shutil\n",
        "import os\n",
        "\n",
        "import numpy as np\n",
        "import pandas as pd\n",
        "import cv2\n",
        "\n",
        "import tensorflow as tf\n",
        "from tensorflow import keras\n",
        "\n",
        "from tensorflow.keras.applications.resnet_v2 import ResNet50V2 # modello resnet\n",
        "from tensorflow.keras.applications import VGG16 # modello resnet\n",
        "\n",
        "from tensorflow.keras.preprocessing import image\n",
        "from tensorflow.keras.models import Model\n",
        "from tensorflow.keras.layers import Dense, GlobalAveragePooling2D\n",
        "from tensorflow.keras import layers\n",
        "# Funzioni di ottimizzazione\n",
        "from tensorflow.keras.optimizers import SGD\n",
        "from tensorflow.keras.optimizers import Adam\n",
        "\n",
        "# salvataggio modelli e early_stopping regularization\n",
        "from keras.callbacks import EarlyStopping, ModelCheckpoint\n",
        "\n",
        "\n"
      ]
    },
    {
      "cell_type": "code",
      "execution_count": null,
      "metadata": {
        "colab": {
          "base_uri": "https://localhost:8080/"
        },
        "id": "1zl0C2GY4kj7",
        "outputId": "4a4d3fb6-362f-4dbe-844a-c5e903dc0313"
      },
      "outputs": [
        {
          "output_type": "stream",
          "name": "stdout",
          "text": [
            "\u001b[?25l\r\u001b[K     |███▍                            | 10 kB 17.7 MB/s eta 0:00:01\r\u001b[K     |██████▊                         | 20 kB 17.1 MB/s eta 0:00:01\r\u001b[K     |██████████                      | 30 kB 7.8 MB/s eta 0:00:01\r\u001b[K     |█████████████▍                  | 40 kB 6.8 MB/s eta 0:00:01\r\u001b[K     |████████████████▊               | 51 kB 5.8 MB/s eta 0:00:01\r\u001b[K     |████████████████████            | 61 kB 5.8 MB/s eta 0:00:01\r\u001b[K     |███████████████████████▍        | 71 kB 5.5 MB/s eta 0:00:01\r\u001b[K     |██████████████████████████▊     | 81 kB 6.1 MB/s eta 0:00:01\r\u001b[K     |██████████████████████████████  | 92 kB 6.1 MB/s eta 0:00:01\r\u001b[K     |████████████████████████████████| 98 kB 1.8 MB/s \n",
            "\u001b[?25h"
          ]
        }
      ],
      "source": [
        "!pip install -q -U keras-tuner\n",
        "import keras_tuner as kt"
      ]
    },
    {
      "cell_type": "markdown",
      "metadata": {
        "id": "wn8xC16z0tNw"
      },
      "source": [
        "## Data loading"
      ]
    },
    {
      "cell_type": "code",
      "execution_count": null,
      "metadata": {
        "colab": {
          "base_uri": "https://localhost:8080/"
        },
        "id": "zVOBOJad0lX3",
        "outputId": "d8129018-4f9d-40f5-93b8-868279ac6058"
      },
      "outputs": [
        {
          "output_type": "stream",
          "name": "stdout",
          "text": [
            "Mounted at /content/drive\n"
          ]
        }
      ],
      "source": [
        "\n",
        "# caricamento drive\n",
        "drive.mount('/content/drive', force_remount=True)\n",
        "\n",
        "# path principale delle cartella\n",
        "drive_path = '/content/drive/MyDrive/Visual_Progetto_VGG/'\n",
        "\n",
        "\n"
      ]
    },
    {
      "cell_type": "code",
      "source": [
        "# carico il dataset sulla macchina locale e lo scompatto nella root\n",
        "shutil.copyfile(drive_path + 'UTKFace.tar.gz', 'UTKFace.tar.gz')\n",
        "tar = tarfile.open('UTKFace.tar.gz')\n",
        "tar.extractall()\n",
        "tar.close()\n",
        "# cancello dalla root lo zip\n",
        "os.remove('UTKFace.tar.gz')"
      ],
      "metadata": {
        "id": "4VQjHvUgfnte"
      },
      "execution_count": null,
      "outputs": []
    },
    {
      "cell_type": "code",
      "execution_count": null,
      "metadata": {
        "colab": {
          "base_uri": "https://localhost:8080/"
        },
        "id": "P8z07xSV1-jk",
        "outputId": "32aea197-a223-497e-a499-4b7363e7f0b6"
      },
      "outputs": [
        {
          "output_type": "stream",
          "name": "stdout",
          "text": [
            "Numero di immagini:  23708\n"
          ]
        }
      ],
      "source": [
        "path = 'UTKFace/'\n",
        "\n",
        "files = os.listdir(path)\n",
        "\n",
        "print(f'Numero di immagini: ', len(files))"
      ]
    },
    {
      "cell_type": "code",
      "execution_count": null,
      "metadata": {
        "id": "NHM0XBXI41kc"
      },
      "outputs": [],
      "source": [
        "# Creazione del dataframe a partire dalla lista di file\n",
        "\n",
        "df = pd.DataFrame(columns=['img', 'gender_label', 'age_label']) \n",
        "\n",
        "for idx, f in enumerate(files):\n",
        "  \n",
        "  metadata = f.split('_')\n",
        "  \n",
        "  newrow = {'img': f, 'gender_label': metadata[1], 'age_label': int(metadata[0])}\n",
        "  \n",
        "  df = df.append(newrow, ignore_index = True)"
      ]
    },
    {
      "cell_type": "code",
      "execution_count": null,
      "metadata": {
        "colab": {
          "base_uri": "https://localhost:8080/",
          "height": 423
        },
        "id": "QktniNwrycp7",
        "outputId": "77f74420-a2aa-4581-b15a-8f2c74c4ccd1"
      },
      "outputs": [
        {
          "output_type": "execute_result",
          "data": {
            "text/html": [
              "\n",
              "  <div id=\"df-394cdee6-d97b-4958-b4f0-730e038f4e47\">\n",
              "    <div class=\"colab-df-container\">\n",
              "      <div>\n",
              "<style scoped>\n",
              "    .dataframe tbody tr th:only-of-type {\n",
              "        vertical-align: middle;\n",
              "    }\n",
              "\n",
              "    .dataframe tbody tr th {\n",
              "        vertical-align: top;\n",
              "    }\n",
              "\n",
              "    .dataframe thead th {\n",
              "        text-align: right;\n",
              "    }\n",
              "</style>\n",
              "<table border=\"1\" class=\"dataframe\">\n",
              "  <thead>\n",
              "    <tr style=\"text-align: right;\">\n",
              "      <th></th>\n",
              "      <th>img</th>\n",
              "      <th>gender_label</th>\n",
              "      <th>age_label</th>\n",
              "    </tr>\n",
              "  </thead>\n",
              "  <tbody>\n",
              "    <tr>\n",
              "      <th>0</th>\n",
              "      <td>4_0_2_20170110212945664.jpg.chip.jpg</td>\n",
              "      <td>0</td>\n",
              "      <td>0.026087</td>\n",
              "    </tr>\n",
              "    <tr>\n",
              "      <th>1</th>\n",
              "      <td>4_1_4_20161221193328366.jpg.chip.jpg</td>\n",
              "      <td>1</td>\n",
              "      <td>0.026087</td>\n",
              "    </tr>\n",
              "    <tr>\n",
              "      <th>2</th>\n",
              "      <td>32_1_0_20170105163404036.jpg.chip.jpg</td>\n",
              "      <td>1</td>\n",
              "      <td>0.269565</td>\n",
              "    </tr>\n",
              "    <tr>\n",
              "      <th>3</th>\n",
              "      <td>1_0_0_20170110213203795.jpg.chip.jpg</td>\n",
              "      <td>0</td>\n",
              "      <td>0.000000</td>\n",
              "    </tr>\n",
              "    <tr>\n",
              "      <th>4</th>\n",
              "      <td>54_0_0_20170117191328833.jpg.chip.jpg</td>\n",
              "      <td>0</td>\n",
              "      <td>0.460870</td>\n",
              "    </tr>\n",
              "    <tr>\n",
              "      <th>...</th>\n",
              "      <td>...</td>\n",
              "      <td>...</td>\n",
              "      <td>...</td>\n",
              "    </tr>\n",
              "    <tr>\n",
              "      <th>23703</th>\n",
              "      <td>32_1_1_20170113000027033.jpg.chip.jpg</td>\n",
              "      <td>1</td>\n",
              "      <td>0.269565</td>\n",
              "    </tr>\n",
              "    <tr>\n",
              "      <th>23704</th>\n",
              "      <td>36_0_1_20170113142152196.jpg.chip.jpg</td>\n",
              "      <td>0</td>\n",
              "      <td>0.304348</td>\n",
              "    </tr>\n",
              "    <tr>\n",
              "      <th>23705</th>\n",
              "      <td>58_0_0_20170104185312638.jpg.chip.jpg</td>\n",
              "      <td>0</td>\n",
              "      <td>0.495652</td>\n",
              "    </tr>\n",
              "    <tr>\n",
              "      <th>23706</th>\n",
              "      <td>26_1_3_20170104235151882.jpg.chip.jpg</td>\n",
              "      <td>1</td>\n",
              "      <td>0.217391</td>\n",
              "    </tr>\n",
              "    <tr>\n",
              "      <th>23707</th>\n",
              "      <td>2_0_2_20161219142335801.jpg.chip.jpg</td>\n",
              "      <td>0</td>\n",
              "      <td>0.008696</td>\n",
              "    </tr>\n",
              "  </tbody>\n",
              "</table>\n",
              "<p>23708 rows × 3 columns</p>\n",
              "</div>\n",
              "      <button class=\"colab-df-convert\" onclick=\"convertToInteractive('df-394cdee6-d97b-4958-b4f0-730e038f4e47')\"\n",
              "              title=\"Convert this dataframe to an interactive table.\"\n",
              "              style=\"display:none;\">\n",
              "        \n",
              "  <svg xmlns=\"http://www.w3.org/2000/svg\" height=\"24px\"viewBox=\"0 0 24 24\"\n",
              "       width=\"24px\">\n",
              "    <path d=\"M0 0h24v24H0V0z\" fill=\"none\"/>\n",
              "    <path d=\"M18.56 5.44l.94 2.06.94-2.06 2.06-.94-2.06-.94-.94-2.06-.94 2.06-2.06.94zm-11 1L8.5 8.5l.94-2.06 2.06-.94-2.06-.94L8.5 2.5l-.94 2.06-2.06.94zm10 10l.94 2.06.94-2.06 2.06-.94-2.06-.94-.94-2.06-.94 2.06-2.06.94z\"/><path d=\"M17.41 7.96l-1.37-1.37c-.4-.4-.92-.59-1.43-.59-.52 0-1.04.2-1.43.59L10.3 9.45l-7.72 7.72c-.78.78-.78 2.05 0 2.83L4 21.41c.39.39.9.59 1.41.59.51 0 1.02-.2 1.41-.59l7.78-7.78 2.81-2.81c.8-.78.8-2.07 0-2.86zM5.41 20L4 18.59l7.72-7.72 1.47 1.35L5.41 20z\"/>\n",
              "  </svg>\n",
              "      </button>\n",
              "      \n",
              "  <style>\n",
              "    .colab-df-container {\n",
              "      display:flex;\n",
              "      flex-wrap:wrap;\n",
              "      gap: 12px;\n",
              "    }\n",
              "\n",
              "    .colab-df-convert {\n",
              "      background-color: #E8F0FE;\n",
              "      border: none;\n",
              "      border-radius: 50%;\n",
              "      cursor: pointer;\n",
              "      display: none;\n",
              "      fill: #1967D2;\n",
              "      height: 32px;\n",
              "      padding: 0 0 0 0;\n",
              "      width: 32px;\n",
              "    }\n",
              "\n",
              "    .colab-df-convert:hover {\n",
              "      background-color: #E2EBFA;\n",
              "      box-shadow: 0px 1px 2px rgba(60, 64, 67, 0.3), 0px 1px 3px 1px rgba(60, 64, 67, 0.15);\n",
              "      fill: #174EA6;\n",
              "    }\n",
              "\n",
              "    [theme=dark] .colab-df-convert {\n",
              "      background-color: #3B4455;\n",
              "      fill: #D2E3FC;\n",
              "    }\n",
              "\n",
              "    [theme=dark] .colab-df-convert:hover {\n",
              "      background-color: #434B5C;\n",
              "      box-shadow: 0px 1px 3px 1px rgba(0, 0, 0, 0.15);\n",
              "      filter: drop-shadow(0px 1px 2px rgba(0, 0, 0, 0.3));\n",
              "      fill: #FFFFFF;\n",
              "    }\n",
              "  </style>\n",
              "\n",
              "      <script>\n",
              "        const buttonEl =\n",
              "          document.querySelector('#df-394cdee6-d97b-4958-b4f0-730e038f4e47 button.colab-df-convert');\n",
              "        buttonEl.style.display =\n",
              "          google.colab.kernel.accessAllowed ? 'block' : 'none';\n",
              "\n",
              "        async function convertToInteractive(key) {\n",
              "          const element = document.querySelector('#df-394cdee6-d97b-4958-b4f0-730e038f4e47');\n",
              "          const dataTable =\n",
              "            await google.colab.kernel.invokeFunction('convertToInteractive',\n",
              "                                                     [key], {});\n",
              "          if (!dataTable) return;\n",
              "\n",
              "          const docLinkHtml = 'Like what you see? Visit the ' +\n",
              "            '<a target=\"_blank\" href=https://colab.research.google.com/notebooks/data_table.ipynb>data table notebook</a>'\n",
              "            + ' to learn more about interactive tables.';\n",
              "          element.innerHTML = '';\n",
              "          dataTable['output_type'] = 'display_data';\n",
              "          await google.colab.output.renderOutput(dataTable, element);\n",
              "          const docLink = document.createElement('div');\n",
              "          docLink.innerHTML = docLinkHtml;\n",
              "          element.appendChild(docLink);\n",
              "        }\n",
              "      </script>\n",
              "    </div>\n",
              "  </div>\n",
              "  "
            ],
            "text/plain": [
              "                                         img gender_label  age_label\n",
              "0       4_0_2_20170110212945664.jpg.chip.jpg            0   0.026087\n",
              "1       4_1_4_20161221193328366.jpg.chip.jpg            1   0.026087\n",
              "2      32_1_0_20170105163404036.jpg.chip.jpg            1   0.269565\n",
              "3       1_0_0_20170110213203795.jpg.chip.jpg            0   0.000000\n",
              "4      54_0_0_20170117191328833.jpg.chip.jpg            0   0.460870\n",
              "...                                      ...          ...        ...\n",
              "23703  32_1_1_20170113000027033.jpg.chip.jpg            1   0.269565\n",
              "23704  36_0_1_20170113142152196.jpg.chip.jpg            0   0.304348\n",
              "23705  58_0_0_20170104185312638.jpg.chip.jpg            0   0.495652\n",
              "23706  26_1_3_20170104235151882.jpg.chip.jpg            1   0.217391\n",
              "23707   2_0_2_20161219142335801.jpg.chip.jpg            0   0.008696\n",
              "\n",
              "[23708 rows x 3 columns]"
            ]
          },
          "metadata": {},
          "execution_count": 18
        }
      ],
      "source": [
        "from sklearn.preprocessing import MinMaxScaler\n",
        "\n",
        "# Rescaling dell'età\n",
        "\n",
        "scaler = MinMaxScaler()\n",
        "\n",
        "x = np.expand_dims(df['age_label'], -1)\n",
        "scaler.fit(x)\n",
        "new_x = scaler.transform(x)\n",
        "df['age_label'] = new_x\n",
        "\n",
        "\n",
        "# Per tornare indietro:\n",
        "# scaler.inverse_transform(ages)\n",
        "df"
      ]
    },
    {
      "cell_type": "code",
      "execution_count": null,
      "metadata": {
        "id": "YF__DSwaBSa0"
      },
      "outputs": [],
      "source": [
        "# Split in train set e test set\n",
        "\n",
        "df = df.sample(frac=1, random_state=1234)\n",
        "df = df.reset_index()\n",
        "\n",
        "split_number = round(len(df)*0.8)\n",
        "\n",
        "df_train = df.loc[:split_number]\n",
        "df_test = df.loc[split_number+1:]\n"
      ]
    },
    {
      "cell_type": "code",
      "execution_count": null,
      "metadata": {
        "colab": {
          "base_uri": "https://localhost:8080/",
          "height": 423
        },
        "id": "L1bdVpQv4J_1",
        "outputId": "f73d2111-511d-4518-d1e5-edffe0df9171"
      },
      "outputs": [
        {
          "output_type": "execute_result",
          "data": {
            "text/html": [
              "\n",
              "  <div id=\"df-5257ec99-7a5b-4e60-a4ee-2e9646cf8fba\">\n",
              "    <div class=\"colab-df-container\">\n",
              "      <div>\n",
              "<style scoped>\n",
              "    .dataframe tbody tr th:only-of-type {\n",
              "        vertical-align: middle;\n",
              "    }\n",
              "\n",
              "    .dataframe tbody tr th {\n",
              "        vertical-align: top;\n",
              "    }\n",
              "\n",
              "    .dataframe thead th {\n",
              "        text-align: right;\n",
              "    }\n",
              "</style>\n",
              "<table border=\"1\" class=\"dataframe\">\n",
              "  <thead>\n",
              "    <tr style=\"text-align: right;\">\n",
              "      <th></th>\n",
              "      <th>index</th>\n",
              "      <th>img</th>\n",
              "      <th>gender_label</th>\n",
              "      <th>age_label</th>\n",
              "    </tr>\n",
              "  </thead>\n",
              "  <tbody>\n",
              "    <tr>\n",
              "      <th>0</th>\n",
              "      <td>2984</td>\n",
              "      <td>18_1_3_20170109214031495.jpg.chip.jpg</td>\n",
              "      <td>1</td>\n",
              "      <td>0.147826</td>\n",
              "    </tr>\n",
              "    <tr>\n",
              "      <th>1</th>\n",
              "      <td>13387</td>\n",
              "      <td>24_1_2_20170116165951514.jpg.chip.jpg</td>\n",
              "      <td>1</td>\n",
              "      <td>0.200000</td>\n",
              "    </tr>\n",
              "    <tr>\n",
              "      <th>2</th>\n",
              "      <td>20129</td>\n",
              "      <td>30_1_1_20170114032234898.jpg.chip.jpg</td>\n",
              "      <td>1</td>\n",
              "      <td>0.252174</td>\n",
              "    </tr>\n",
              "    <tr>\n",
              "      <th>3</th>\n",
              "      <td>6273</td>\n",
              "      <td>49_1_0_20170109013132704.jpg.chip.jpg</td>\n",
              "      <td>1</td>\n",
              "      <td>0.417391</td>\n",
              "    </tr>\n",
              "    <tr>\n",
              "      <th>4</th>\n",
              "      <td>1277</td>\n",
              "      <td>35_1_2_20170116191841660.jpg.chip.jpg</td>\n",
              "      <td>1</td>\n",
              "      <td>0.295652</td>\n",
              "    </tr>\n",
              "    <tr>\n",
              "      <th>...</th>\n",
              "      <td>...</td>\n",
              "      <td>...</td>\n",
              "      <td>...</td>\n",
              "      <td>...</td>\n",
              "    </tr>\n",
              "    <tr>\n",
              "      <th>18962</th>\n",
              "      <td>12343</td>\n",
              "      <td>30_1_2_20170104021619821.jpg.chip.jpg</td>\n",
              "      <td>1</td>\n",
              "      <td>0.252174</td>\n",
              "    </tr>\n",
              "    <tr>\n",
              "      <th>18963</th>\n",
              "      <td>14933</td>\n",
              "      <td>55_0_0_20170117135625808.jpg.chip.jpg</td>\n",
              "      <td>0</td>\n",
              "      <td>0.469565</td>\n",
              "    </tr>\n",
              "    <tr>\n",
              "      <th>18964</th>\n",
              "      <td>13267</td>\n",
              "      <td>24_1_0_20170109132509565.jpg.chip.jpg</td>\n",
              "      <td>1</td>\n",
              "      <td>0.200000</td>\n",
              "    </tr>\n",
              "    <tr>\n",
              "      <th>18965</th>\n",
              "      <td>19092</td>\n",
              "      <td>28_0_0_20170117180126293.jpg.chip.jpg</td>\n",
              "      <td>0</td>\n",
              "      <td>0.234783</td>\n",
              "    </tr>\n",
              "    <tr>\n",
              "      <th>18966</th>\n",
              "      <td>21545</td>\n",
              "      <td>42_0_3_20170104210357420.jpg.chip.jpg</td>\n",
              "      <td>0</td>\n",
              "      <td>0.356522</td>\n",
              "    </tr>\n",
              "  </tbody>\n",
              "</table>\n",
              "<p>18967 rows × 4 columns</p>\n",
              "</div>\n",
              "      <button class=\"colab-df-convert\" onclick=\"convertToInteractive('df-5257ec99-7a5b-4e60-a4ee-2e9646cf8fba')\"\n",
              "              title=\"Convert this dataframe to an interactive table.\"\n",
              "              style=\"display:none;\">\n",
              "        \n",
              "  <svg xmlns=\"http://www.w3.org/2000/svg\" height=\"24px\"viewBox=\"0 0 24 24\"\n",
              "       width=\"24px\">\n",
              "    <path d=\"M0 0h24v24H0V0z\" fill=\"none\"/>\n",
              "    <path d=\"M18.56 5.44l.94 2.06.94-2.06 2.06-.94-2.06-.94-.94-2.06-.94 2.06-2.06.94zm-11 1L8.5 8.5l.94-2.06 2.06-.94-2.06-.94L8.5 2.5l-.94 2.06-2.06.94zm10 10l.94 2.06.94-2.06 2.06-.94-2.06-.94-.94-2.06-.94 2.06-2.06.94z\"/><path d=\"M17.41 7.96l-1.37-1.37c-.4-.4-.92-.59-1.43-.59-.52 0-1.04.2-1.43.59L10.3 9.45l-7.72 7.72c-.78.78-.78 2.05 0 2.83L4 21.41c.39.39.9.59 1.41.59.51 0 1.02-.2 1.41-.59l7.78-7.78 2.81-2.81c.8-.78.8-2.07 0-2.86zM5.41 20L4 18.59l7.72-7.72 1.47 1.35L5.41 20z\"/>\n",
              "  </svg>\n",
              "      </button>\n",
              "      \n",
              "  <style>\n",
              "    .colab-df-container {\n",
              "      display:flex;\n",
              "      flex-wrap:wrap;\n",
              "      gap: 12px;\n",
              "    }\n",
              "\n",
              "    .colab-df-convert {\n",
              "      background-color: #E8F0FE;\n",
              "      border: none;\n",
              "      border-radius: 50%;\n",
              "      cursor: pointer;\n",
              "      display: none;\n",
              "      fill: #1967D2;\n",
              "      height: 32px;\n",
              "      padding: 0 0 0 0;\n",
              "      width: 32px;\n",
              "    }\n",
              "\n",
              "    .colab-df-convert:hover {\n",
              "      background-color: #E2EBFA;\n",
              "      box-shadow: 0px 1px 2px rgba(60, 64, 67, 0.3), 0px 1px 3px 1px rgba(60, 64, 67, 0.15);\n",
              "      fill: #174EA6;\n",
              "    }\n",
              "\n",
              "    [theme=dark] .colab-df-convert {\n",
              "      background-color: #3B4455;\n",
              "      fill: #D2E3FC;\n",
              "    }\n",
              "\n",
              "    [theme=dark] .colab-df-convert:hover {\n",
              "      background-color: #434B5C;\n",
              "      box-shadow: 0px 1px 3px 1px rgba(0, 0, 0, 0.15);\n",
              "      filter: drop-shadow(0px 1px 2px rgba(0, 0, 0, 0.3));\n",
              "      fill: #FFFFFF;\n",
              "    }\n",
              "  </style>\n",
              "\n",
              "      <script>\n",
              "        const buttonEl =\n",
              "          document.querySelector('#df-5257ec99-7a5b-4e60-a4ee-2e9646cf8fba button.colab-df-convert');\n",
              "        buttonEl.style.display =\n",
              "          google.colab.kernel.accessAllowed ? 'block' : 'none';\n",
              "\n",
              "        async function convertToInteractive(key) {\n",
              "          const element = document.querySelector('#df-5257ec99-7a5b-4e60-a4ee-2e9646cf8fba');\n",
              "          const dataTable =\n",
              "            await google.colab.kernel.invokeFunction('convertToInteractive',\n",
              "                                                     [key], {});\n",
              "          if (!dataTable) return;\n",
              "\n",
              "          const docLinkHtml = 'Like what you see? Visit the ' +\n",
              "            '<a target=\"_blank\" href=https://colab.research.google.com/notebooks/data_table.ipynb>data table notebook</a>'\n",
              "            + ' to learn more about interactive tables.';\n",
              "          element.innerHTML = '';\n",
              "          dataTable['output_type'] = 'display_data';\n",
              "          await google.colab.output.renderOutput(dataTable, element);\n",
              "          const docLink = document.createElement('div');\n",
              "          docLink.innerHTML = docLinkHtml;\n",
              "          element.appendChild(docLink);\n",
              "        }\n",
              "      </script>\n",
              "    </div>\n",
              "  </div>\n",
              "  "
            ],
            "text/plain": [
              "       index                                    img gender_label  age_label\n",
              "0       2984  18_1_3_20170109214031495.jpg.chip.jpg            1   0.147826\n",
              "1      13387  24_1_2_20170116165951514.jpg.chip.jpg            1   0.200000\n",
              "2      20129  30_1_1_20170114032234898.jpg.chip.jpg            1   0.252174\n",
              "3       6273  49_1_0_20170109013132704.jpg.chip.jpg            1   0.417391\n",
              "4       1277  35_1_2_20170116191841660.jpg.chip.jpg            1   0.295652\n",
              "...      ...                                    ...          ...        ...\n",
              "18962  12343  30_1_2_20170104021619821.jpg.chip.jpg            1   0.252174\n",
              "18963  14933  55_0_0_20170117135625808.jpg.chip.jpg            0   0.469565\n",
              "18964  13267  24_1_0_20170109132509565.jpg.chip.jpg            1   0.200000\n",
              "18965  19092  28_0_0_20170117180126293.jpg.chip.jpg            0   0.234783\n",
              "18966  21545  42_0_3_20170104210357420.jpg.chip.jpg            0   0.356522\n",
              "\n",
              "[18967 rows x 4 columns]"
            ]
          },
          "metadata": {},
          "execution_count": 34
        }
      ],
      "source": [
        "df_train"
      ]
    },
    {
      "cell_type": "code",
      "execution_count": null,
      "metadata": {
        "colab": {
          "base_uri": "https://localhost:8080/"
        },
        "id": "EJx6naB5KZgA",
        "outputId": "7e2274f5-1984-41eb-a67d-ae26ef04ef69"
      },
      "outputs": [
        {
          "output_type": "stream",
          "name": "stdout",
          "text": [
            "Found 16122 validated image filenames belonging to 2 classes.\n",
            "Found 16122 validated image filenames.\n",
            "Found 2845 validated image filenames belonging to 2 classes.\n",
            "Found 2845 validated image filenames.\n"
          ]
        }
      ],
      "source": [
        "# Definizione dei generator per il train e il test\n",
        "\n",
        "\n",
        "image_generator = keras.preprocessing.image.ImageDataGenerator(rescale=1./255, \n",
        "                                                               validation_split = 0.15)\n",
        " \n",
        "\n",
        "# carico il training set\n",
        "train_set_gender = image_generator.flow_from_dataframe(\n",
        "    dataframe = df_train,\n",
        "    directory = path, # path\n",
        "    x_col = 'img',\n",
        "    y_col = 'gender_label',\n",
        "    classes = ['0', '1'], # nome delle classi\n",
        "    target_size = (224,224),\n",
        "    class_mode = 'categorical',\n",
        "    batch_size = 128,\n",
        "    shuffle = False,\n",
        "    seed = 1234,\n",
        "    subset = 'training'\n",
        ")\n",
        "\n",
        "train_set_age = image_generator.flow_from_dataframe(\n",
        "    dataframe = df_train,\n",
        "    directory = path, # path\n",
        "    x_col = 'img',\n",
        "    y_col = 'age_label',\n",
        "    target_size = (224,224),\n",
        "    class_mode = 'raw',\n",
        "    batch_size = 128,\n",
        "    shuffle = False,\n",
        "    seed = 1234,\n",
        "    subset = 'training'\n",
        ")\n",
        "\n",
        "\n",
        "validation_set_gender = image_generator.flow_from_dataframe(\n",
        "    dataframe = df_train,\n",
        "    directory = path, # path\n",
        "    x_col = 'img',\n",
        "    y_col = 'gender_label',\n",
        "    classes = ['0', '1'], # nome delle classi\n",
        "    target_size = (224,224),\n",
        "    class_mode = 'categorical',\n",
        "    batch_size = 128,\n",
        "    shuffle = False,\n",
        "    seed = 1234,\n",
        "    subset = 'validation'\n",
        ")\n",
        "\n",
        "validation_set_age = image_generator.flow_from_dataframe(\n",
        "    dataframe = df_train,\n",
        "    directory = path, # path\n",
        "    x_col = 'img',\n",
        "    y_col = 'age_label',\n",
        "    target_size = (224,224),\n",
        "    class_mode = 'raw',\n",
        "    batch_size = 128,\n",
        "    shuffle = False,\n",
        "    seed = 1234,\n",
        "    subset = 'validation'\n",
        ")"
      ]
    },
    {
      "cell_type": "code",
      "execution_count": null,
      "metadata": {
        "colab": {
          "base_uri": "https://localhost:8080/"
        },
        "id": "Q0EOTo_1yeEU",
        "outputId": "6d2f5498-d937-4636-dae9-6ae71d9c4a02"
      },
      "outputs": [
        {
          "output_type": "stream",
          "name": "stdout",
          "text": [
            "Found 4741 validated image filenames.\n",
            "Found 4741 validated image filenames.\n"
          ]
        },
        {
          "output_type": "stream",
          "name": "stderr",
          "text": [
            "/usr/local/lib/python3.7/dist-packages/keras_preprocessing/image/dataframe_iterator.py:220: UserWarning: `classes` will be ignored given the class_mode=\"None\"\n",
            "  .format(self.class_mode))\n"
          ]
        }
      ],
      "source": [
        "test_generator = keras.preprocessing.image.ImageDataGenerator(rescale=1./255)\n",
        "\n",
        "test_set_gender = test_generator.flow_from_dataframe(\n",
        "    dataframe = df_test,\n",
        "    directory = path, # path\n",
        "    x_col = 'img',\n",
        "    y_col = 'gender_label',\n",
        "    classes = ['0', '1'], # nome delle classi\n",
        "    target_size = (224,224),\n",
        "    class_mode = None,\n",
        "    batch_size = 128,\n",
        "    shuffle = False,\n",
        "    seed = 1234\n",
        ")\n",
        "\n",
        "test_set_age = test_generator.flow_from_dataframe(\n",
        "    dataframe = df_test,\n",
        "    directory = path, # path\n",
        "    x_col = 'img',\n",
        "    y_col = 'age_label',\n",
        "    target_size = (224,224),\n",
        "    class_mode = None,\n",
        "    batch_size = 128,\n",
        "    shuffle = False,\n",
        "    seed = 1234\n",
        ")\n",
        "\n"
      ]
    },
    {
      "cell_type": "code",
      "execution_count": null,
      "metadata": {
        "colab": {
          "base_uri": "https://localhost:8080/"
        },
        "id": "_n5dvL2LMALe",
        "outputId": "857acb13-fab6-4e1c-a640-d45ad79dec96"
      },
      "outputs": [
        {
          "output_type": "stream",
          "name": "stdout",
          "text": [
            "Tipo delle immagini: <class 'keras.preprocessing.image.DataFrameIterator'>\n",
            "Numero di esempi di training: 16122\n",
            "Dimensione dell'immagine: (224, 224, 3)\n",
            "Range di valori dell'immagine [0.0,1.0]\n",
            "Tipo dei valori dell'immagine:  <class 'numpy.float32'>\n",
            "Numero di esempi per la classe 0: 8473\n",
            "Numero di esempi per la classe 1: 7649\n"
          ]
        }
      ],
      "source": [
        "# Visualizzo alcune informazioni di base sulle immagini\n",
        "print('Tipo delle immagini:', type(train_set_gender))\n",
        "print('Numero di esempi di training:', train_set_gender.samples)\n",
        "print(\"Dimensione dell'immagine: \" + str(train_set_gender.image_shape))\n",
        "print(\"Range di valori dell'immagine [\"+ str(train_set_gender[0][0].min()) + \",\" \n",
        "      + str(train_set_gender[0][0].max()) + \"]\")\n",
        "print(\"Tipo dei valori dell'immagine: \", type(train_set_gender[0][0][0][0][0][0]))\n",
        "\n",
        "from collections import Counter\n",
        "counter = Counter(train_set_gender.classes)\n",
        "print('Numero di esempi per la classe 0:', list(counter.values())[0])\n",
        "print('Numero di esempi per la classe 1:', list(counter.values())[1])"
      ]
    },
    {
      "cell_type": "code",
      "execution_count": null,
      "metadata": {
        "id": "YpaEg0Uh8dgu"
      },
      "outputs": [],
      "source": [
        "import matplotlib.pyplot as plt\n",
        "\n",
        "\n",
        "# visualizza a video alcune informazioni testuali di base sul training del modello\n",
        "# e due grafici per analizzare l'andamento della loss e dell'accuracy durante il training\n",
        "def resume_model_history(history, early_stop = None):\n",
        "  # estraggo il numero di epoche nel caso in cui l'early stopping è stato utilizzato\n",
        "  if early_stop is not None:\n",
        "    # verifico se l'early stop è entrato in funzione, se si prendo l'epoca in cui\n",
        "    # si è fermato il training, altrimenti l'epoca migliore (corrisponderà al tot. max delle epoche)\n",
        "    tot_epoch = early_stop.stopped_epoch+1 if (early_stop.stopped_epoch != 0) else early_stop.best_epoch + 1\n",
        "    best_epoch = early_stop.best_epoch + 1\n",
        "  # senza early_stopping l'ultima epoca e la migliore coincidono\n",
        "  else:\n",
        "    tot_epoch = len(history.epoch)\n",
        "    best_epoch = tot_epoch\n",
        "\n",
        "  # visualizzo i risultati in forma testuale\n",
        "  print(\"Numero di epoche totali:\", tot_epoch)\n",
        "  print(\"Epoca migliore (weights restored):\", best_epoch)\n",
        "  print(\"Accuracy training set all'epoca \" + str(best_epoch) + ': ' \n",
        "        + str(history.history['accuracy'][best_epoch -1]))\n",
        "  print(\"Accuracy validation set all'epoca \" + str(best_epoch) + ': '\n",
        "        + str(history.history['val_accuracy'][best_epoch -1]))\n",
        "  print(\"Loss training set all'epoca \" + str(best_epoch) + ': '\n",
        "        + str(history.history['loss'][best_epoch -1]))\n",
        "  print(\"Loss validation set all'epoca \" + str(best_epoch) + ': ' \n",
        "        + str(history.history['val_loss'][best_epoch -1]))\n",
        "  \n",
        "  print('\\n\\n')\n",
        "\n",
        "  # visualizzo i grafici di loss e accuracy per training e validation\n",
        "  fig = plt.figure(figsize =(20, 6))\n",
        "\n",
        "  plt.subplot(1, 2, 1)\n",
        "  plt.xlabel('Epochs'); plt.ylabel('Loss');  plt.title('Model loss')\n",
        "  # punti asse x\n",
        "  plt.xticks(np.arange(len(history.epoch)), np.arange(1, len(history.epoch)+1))\n",
        "  # visualizzo tutti i punti fino all'early stopping\n",
        "  plt.plot(range(0,best_epoch,1), \n",
        "           history.history['loss'][:best_epoch], '.-', color=\"C0\") # loss train\n",
        "  plt.plot(range(0,best_epoch,1), \n",
        "           history.history['val_loss'][:best_epoch], '.-', color=\"C1\") # loss val\n",
        "  # visualizzo tutti i punti dopo l'early stopping in modo tratteggiato\n",
        "  plt.plot(range(best_epoch-1, len(history.epoch),1), \n",
        "           history.history['loss'][best_epoch-1:], '.--', color=\"C0\") # loss train\n",
        "  plt.plot(range(best_epoch-1, len(history.epoch),1), \n",
        "           history.history['val_loss'][best_epoch-1:], '.--', color=\"C1\") # loss val\n",
        "  plt.legend(['Training', 'Validation'])\n",
        "\n",
        "  # stesso procedimento per l'accuracy\n",
        "  plt.subplot(1, 2, 2)\n",
        "  plt.xlabel('Epochs'); plt.ylabel('Loss');  plt.title('Model accuracy')\n",
        "  # punti asse x\n",
        "  plt.xticks(np.arange(len(history.epoch)), np.arange(1, len(history.epoch)+1))\n",
        "  # visualizzo tutti i punti fino all'early stopping\n",
        "  plt.plot(range(0,best_epoch,1), \n",
        "           history.history['accuracy'][:best_epoch], '.-', color=\"C0\") # loss train\n",
        "  plt.plot(range(0,best_epoch,1), \n",
        "           history.history['val_accuracy'][:best_epoch], '.-', color=\"C1\") # loss val\n",
        "  # visualizzo tutti i punti dopo l'early stopping in modo tratteggiato\n",
        "  plt.plot(range(best_epoch-1, len(history.epoch),1), \n",
        "           history.history['accuracy'][best_epoch-1:], '.--', color=\"C0\") # loss train\n",
        "  plt.plot(range(best_epoch-1, len(history.epoch),1), \n",
        "           history.history['val_accuracy'][best_epoch-1:], '.--', color=\"C1\") # loss val\n",
        "  plt.legend(['Training', 'Validation'], loc='lower right')"
      ]
    },
    {
      "cell_type": "markdown",
      "metadata": {
        "id": "KNGY3LWUXMwe"
      },
      "source": [
        "# VGG-16 GENDER"
      ]
    },
    {
      "cell_type": "markdown",
      "source": [
        "## Definizione e training della rete"
      ],
      "metadata": {
        "id": "vZmdzNa0Wgpn"
      }
    },
    {
      "cell_type": "code",
      "execution_count": null,
      "metadata": {
        "id": "G6ODB5Ox6axS"
      },
      "outputs": [],
      "source": [
        "early_stop = EarlyStopping(monitor='val_loss', patience=3, min_delta = 0, \n",
        "                           verbose=1, restore_best_weights=True) \n",
        "\n",
        "\n",
        "initializer = tf.keras.initializers.GlorotUniform(seed=1234)\n",
        "\n",
        "num_classes = 2\n",
        "input_shape = train_set_gender.image_shape\n",
        "\n"
      ]
    },
    {
      "cell_type": "code",
      "source": [
        "# Architettura della rete VGG-Face\n",
        "\n",
        "base_vggface_model = keras.Sequential()\n",
        "\n",
        "base_vggface_model.add(layers.ZeroPadding2D((1,1),input_shape=(224,224, 3)))\n",
        "base_vggface_model.add(layers.Convolution2D(64, (3, 3), activation='relu'))\n",
        "base_vggface_model.add(layers.ZeroPadding2D((1,1)))\n",
        "base_vggface_model.add(layers.Convolution2D(64, (3, 3), activation='relu'))\n",
        "base_vggface_model.add(layers.MaxPooling2D((2,2), strides=(2,2)))\n",
        "\n",
        "base_vggface_model.add(layers.ZeroPadding2D((1,1)))\n",
        "base_vggface_model.add(layers.Convolution2D(128, (3, 3), activation='relu'))\n",
        "base_vggface_model.add(layers.ZeroPadding2D((1,1)))\n",
        "base_vggface_model.add(layers.Convolution2D(128, (3, 3), activation='relu'))\n",
        "base_vggface_model.add(layers.MaxPooling2D((2,2), strides=(2,2)))\n",
        " \n",
        "base_vggface_model.add(layers.ZeroPadding2D((1,1)))\n",
        "base_vggface_model.add(layers.Convolution2D(256, (3, 3), activation='relu'))\n",
        "base_vggface_model.add(layers.ZeroPadding2D((1,1)))\n",
        "base_vggface_model.add(layers.Convolution2D(256, (3, 3), activation='relu'))\n",
        "base_vggface_model.add(layers.ZeroPadding2D((1,1)))\n",
        "base_vggface_model.add(layers.Convolution2D(256, (3, 3), activation='relu'))\n",
        "base_vggface_model.add(layers.MaxPooling2D((2,2), strides=(2,2)))\n",
        " \n",
        "base_vggface_model.add(layers.ZeroPadding2D((1,1)))\n",
        "base_vggface_model.add(layers.Convolution2D(512, (3, 3), activation='relu'))\n",
        "base_vggface_model.add(layers.ZeroPadding2D((1,1)))\n",
        "base_vggface_model.add(layers.Convolution2D(512, (3, 3), activation='relu'))\n",
        "base_vggface_model.add(layers.ZeroPadding2D((1,1)))\n",
        "base_vggface_model.add(layers.Convolution2D(512, (3, 3), activation='relu'))\n",
        "base_vggface_model.add(layers.MaxPooling2D((2,2), strides=(2,2)))\n",
        " \n",
        "base_vggface_model.add(layers.ZeroPadding2D((1,1)))\n",
        "base_vggface_model.add(layers.Convolution2D(512, (3, 3), activation='relu'))\n",
        "base_vggface_model.add(layers.ZeroPadding2D((1,1)))\n",
        "base_vggface_model.add(layers.Convolution2D(512, (3, 3), activation='relu'))\n",
        "base_vggface_model.add(layers.ZeroPadding2D((1,1)))\n",
        "base_vggface_model.add(layers.Convolution2D(512, (3, 3), activation='relu'))\n",
        "base_vggface_model.add(layers.MaxPooling2D((2,2), strides=(2,2)))\n",
        " \n",
        "base_vggface_model.add(layers.Convolution2D(4096, (7, 7), activation='relu'))\n",
        "base_vggface_model.add(layers.Dropout(0.5))\n",
        "base_vggface_model.add(layers.Convolution2D(4096, (1, 1), activation='relu'))\n",
        "base_vggface_model.add(layers.Dropout(0.5))\n",
        "base_vggface_model.add(layers.Convolution2D(2622, (1, 1)))\n",
        "base_vggface_model.add(layers.Flatten())\n",
        "base_vggface_model.add(layers.Activation('softmax'))\n",
        "\n",
        "# Caricamento dei pesi pretrainati di VGG-Face\n",
        "from keras.models import model_from_json\n",
        "base_vggface_model.load_weights(drive_path + 'vgg_face_weights.h5')"
      ],
      "metadata": {
        "id": "7gKdojgRNFzx"
      },
      "execution_count": null,
      "outputs": []
    },
    {
      "cell_type": "code",
      "execution_count": null,
      "metadata": {
        "id": "UCSYtFcr7Vyo"
      },
      "outputs": [],
      "source": [
        "#Definizione dell'hypermodel per il tuning della rete\n",
        "def model_builder(hp):\n",
        "\n",
        "  vgg16_model = Model(inputs=base_vggface_model.layers[0].input, outputs=base_vggface_model.layers[-2].output)\n",
        "  \n",
        "\n",
        "  model_vgg_gender = keras.Sequential()\n",
        "  \n",
        "  # Blocking the weights of the previous layers\n",
        "  for layer in vgg16_model.layers:\n",
        "    layer.trainable = False\n",
        "    model_vgg_gender.add(layer)\n",
        "\n",
        "\n",
        "  hp_dropout_conv = hp.Choice('dropout_conv', values = [0.0, 0.2, 0.5])\n",
        "  if  hp_dropout_conv > 0:\n",
        "    model_vgg_gender.add(layers.Dropout(hp_dropout_conv, name='dropout_conv'))\n",
        "\n",
        "  hp_num_dense = hp.Choice('num_dense_layers', values= [1, 2])\n",
        "  hp_dense1_size = hp.Choice('first_dense_layer_size', values = [64, 128])\n",
        "  model_vgg_gender.add(layers.Dense(hp_dense1_size, activation='relu'))\n",
        "\n",
        "  if hp_num_dense == 2:\n",
        "    hp_dense2_size = hp.Choice('second_dense_layer_size', values = [32, 64, 128])\n",
        "    model_vgg_gender.add(layers.Dense(hp_dense1_size, activation='relu'))\n",
        "\n",
        "  hp_dropout_dense = hp.Choice('dropout_dense', values = [0.0, 0.2, 0.5])\n",
        "  if hp_dropout_dense > 0:\n",
        "    model_vgg_gender.add(layers.Dropout(hp_dropout_dense, name = 'dropout_dense'))\n",
        "\n",
        "\n",
        "  model_vgg_gender.add(layers.Dense(2, activation='sigmoid'))\n",
        "\n",
        "  \n",
        "  optimizer = tf.keras.optimizers.get('adam')\n",
        "  optimizer.learning_rate = hp.Choice('learning_rate', values=[1e-2, 1e-3, 1e-4], default = 1e-3)\n",
        "\n",
        "  model_vgg_gender.compile(optimizer = optimizer, loss='binary_crossentropy', metrics=['accuracy'])\n",
        "\n",
        "  # model_vgg_gender.summary()\n",
        "\n",
        "  return model_vgg_gender\n"
      ]
    },
    {
      "cell_type": "code",
      "execution_count": null,
      "metadata": {
        "id": "R2HnvzeRAloW"
      },
      "outputs": [],
      "source": [
        "# Inizializzazione del tuner\n",
        "tuner = kt.BayesianOptimization(model_builder,\n",
        "                                objective=kt.Objective('val_loss', direction=\"min\"),\n",
        "                                directory=drive_path+'keras_tuner',\n",
        "                                max_trials = 10,\n",
        "                                # overwrite=True,\n",
        "                                project_name='VGG_gender_opt')"
      ]
    },
    {
      "cell_type": "code",
      "execution_count": null,
      "metadata": {
        "colab": {
          "base_uri": "https://localhost:8080/"
        },
        "id": "RfErt6BXCrau",
        "outputId": "c3090594-f5bc-4ab2-d92f-50d049daf4f5"
      },
      "outputs": [
        {
          "output_type": "stream",
          "name": "stdout",
          "text": [
            "Trial 10 Complete [00h 12m 05s]\n",
            "val_loss: 0.1830870360136032\n",
            "\n",
            "Best val_loss So Far: 0.18011191487312317\n",
            "Total elapsed time: 04h 18m 49s\n",
            "INFO:tensorflow:Oracle triggered exit\n"
          ]
        }
      ],
      "source": [
        "# Processo di ottimizzazione\n",
        "tuner.search(train_set_gender, epochs=50, validation_data = validation_set_gender, shuffle = True,\n",
        "             callbacks=[early_stop])"
      ]
    },
    {
      "cell_type": "code",
      "execution_count": null,
      "metadata": {
        "id": "TNtN_54ICvbW",
        "colab": {
          "base_uri": "https://localhost:8080/"
        },
        "outputId": "b7076f9e-9f8b-4b5d-b968-1ea835e9ae3c"
      },
      "outputs": [
        {
          "output_type": "execute_result",
          "data": {
            "text/plain": [
              "{'dropout_conv': 0.0,\n",
              " 'dropout_dense': 0.0,\n",
              " 'first_dense_layer_size': 128,\n",
              " 'learning_rate': 0.01,\n",
              " 'num_dense_layers': 2,\n",
              " 'second_dense_layer_size': 32}"
            ]
          },
          "metadata": {},
          "execution_count": 31
        }
      ],
      "source": [
        "# Get the optimal hyperparameters\n",
        "best_hps=tuner.get_best_hyperparameters(num_trials=1)[0]\n",
        "\n",
        "best_hps.values\n"
      ]
    },
    {
      "cell_type": "code",
      "execution_count": null,
      "metadata": {
        "id": "_w76-am4DwZY"
      },
      "outputs": [],
      "source": [
        "best_model = tuner.get_best_models(num_models=1)[0]"
      ]
    },
    {
      "cell_type": "code",
      "source": [
        "# Training dell'architettura migliore per 50 epoche con EarlyStopping (pazienza=3)\n",
        "model_tune = tuner.hypermodel.build(best_hps)\n",
        "history_tune = model_tune.fit(train_set_gender, epochs=50, validation_data = validation_set_gender, \n",
        "                              shuffle = True,callbacks=[early_stop])"
      ],
      "metadata": {
        "colab": {
          "base_uri": "https://localhost:8080/"
        },
        "id": "rJ8q_sr52AG1",
        "outputId": "d6b94fcf-3d32-4315-a33d-86b3d4afddc0"
      },
      "execution_count": null,
      "outputs": [
        {
          "output_type": "stream",
          "name": "stdout",
          "text": [
            "Epoch 1/50\n",
            "126/126 [==============================] - 98s 770ms/step - loss: 0.2573 - accuracy: 0.8923 - val_loss: 0.2007 - val_accuracy: 0.9206\n",
            "Epoch 2/50\n",
            "126/126 [==============================] - 96s 764ms/step - loss: 0.2141 - accuracy: 0.9091 - val_loss: 0.1951 - val_accuracy: 0.9223\n",
            "Epoch 3/50\n",
            "126/126 [==============================] - 96s 765ms/step - loss: 0.2078 - accuracy: 0.9122 - val_loss: 0.1899 - val_accuracy: 0.9248\n",
            "Epoch 4/50\n",
            "126/126 [==============================] - 97s 766ms/step - loss: 0.2050 - accuracy: 0.9124 - val_loss: 0.1854 - val_accuracy: 0.9283\n",
            "Epoch 5/50\n",
            "126/126 [==============================] - 96s 763ms/step - loss: 0.1959 - accuracy: 0.9158 - val_loss: 0.1883 - val_accuracy: 0.9272\n",
            "Epoch 6/50\n",
            "126/126 [==============================] - 96s 762ms/step - loss: 0.1907 - accuracy: 0.9202 - val_loss: 0.1968 - val_accuracy: 0.9237\n",
            "Epoch 7/50\n",
            "126/126 [==============================] - ETA: 0s - loss: 0.1880 - accuracy: 0.9192Restoring model weights from the end of the best epoch: 4.\n",
            "126/126 [==============================] - 96s 764ms/step - loss: 0.1880 - accuracy: 0.9192 - val_loss: 0.1882 - val_accuracy: 0.9251\n",
            "Epoch 00007: early stopping\n"
          ]
        }
      ]
    },
    {
      "cell_type": "code",
      "source": [
        "resume_model_history(history_tune, early_stop)"
      ],
      "metadata": {
        "colab": {
          "base_uri": "https://localhost:8080/",
          "height": 542
        },
        "id": "qsopZ9di2IQw",
        "outputId": "ba7fec37-2f4c-4d98-a6c1-73b92cf890a8"
      },
      "execution_count": null,
      "outputs": [
        {
          "output_type": "stream",
          "name": "stdout",
          "text": [
            "Numero di epoche totali: 7\n",
            "Epoca migliore (weights restored): 4\n",
            "Accuracy training set all'epoca 4: 0.9124178290367126\n",
            "Accuracy validation set all'epoca 4: 0.9282952547073364\n",
            "Loss training set all'epoca 4: 0.2050171196460724\n",
            "Loss validation set all'epoca 4: 0.1853610724210739\n",
            "\n",
            "\n",
            "\n"
          ]
        },
        {
          "output_type": "display_data",
          "data": {
            "image/png": "[encoded data removed]",
            "text/plain": [
              "<Figure size 1440x432 with 2 Axes>"
            ]
          },
          "metadata": {
            "needs_background": "light"
          }
        }
      ]
    },
    {
      "cell_type": "code",
      "execution_count": null,
      "metadata": {
        "id": "Kljr5YOtDwyJ"
      },
      "outputs": [],
      "source": [
        "model_tune.save(drive_path + 'VGG_gender_tuned_2.h5')"
      ]
    },
    {
      "cell_type": "markdown",
      "metadata": {
        "id": "Romx73jiD7Od"
      },
      "source": [
        "##Test della rete "
      ]
    },
    {
      "cell_type": "code",
      "execution_count": null,
      "metadata": {
        "id": "siOT6omMjnpd"
      },
      "outputs": [],
      "source": [
        "predictions = model_tune.predict(test_set_gender)"
      ]
    },
    {
      "cell_type": "code",
      "execution_count": null,
      "metadata": {
        "id": "JAACqNSoxk6W"
      },
      "outputs": [],
      "source": [
        "y_test_gender = df_test['gender_label'].values\n",
        "y_test_gender = y_test_gender.astype('float32')"
      ]
    },
    {
      "cell_type": "code",
      "execution_count": null,
      "metadata": {
        "id": "kFvnpElqwBKc",
        "colab": {
          "base_uri": "https://localhost:8080/",
          "height": 503
        },
        "outputId": "a2493571-0fb9-4c87-f6f6-4e55ae6b23c4"
      },
      "outputs": [
        {
          "output_type": "stream",
          "name": "stdout",
          "text": [
            "Accuracy =  0.9278633199746888\n",
            "\n",
            "Classification Report\n",
            "               precision    recall  f1-score   support\n",
            "\n",
            "           0       0.94      0.92      0.93      2572\n",
            "           1       0.91      0.93      0.92      2169\n",
            "\n",
            "    accuracy                           0.93      4741\n",
            "   macro avg       0.93      0.93      0.93      4741\n",
            "weighted avg       0.93      0.93      0.93      4741\n",
            "\n"
          ]
        },
        {
          "output_type": "display_data",
          "data": {
            "image/png": "[encoded data removed]",
            "text/plain": [
              "<Figure size 432x288 with 2 Axes>"
            ]
          },
          "metadata": {
            "needs_background": "light"
          }
        }
      ],
      "source": [
        "from sklearn.metrics import confusion_matrix\n",
        "from sklearn.metrics import accuracy_score\n",
        "from sklearn.metrics import classification_report\n",
        "import seaborn as sns\n",
        "\n",
        "\n",
        "Y_classes = (predictions > 0.5).astype(np.int8).argmax(axis=1) \n",
        "\n",
        "print('Accuracy = ', accuracy_score(Y_classes, y_test_gender))\n",
        "\n",
        "\n",
        "print('\\nClassification Report\\n', classification_report(Y_classes, y_test_gender))\n",
        "\n",
        "\n",
        "cm=confusion_matrix(y_test_gender, Y_classes)\n",
        "\n",
        "ax= plt.subplot()\n",
        "sns.heatmap(cm, annot=True, fmt='g');  #annot=True to annotate cells, ftm='g' to disable scientific notation\n",
        "\n",
        "ax.set_xlabel('True labels');ax.set_ylabel('Predicted labels'); \n",
        "ax.set_title('Confusion Matrix'); \n",
        "ax.xaxis.set_ticklabels(['No default', 'Default']); ax.yaxis.set_ticklabels(['No default', 'Default']);"
      ]
    },
    {
      "cell_type": "markdown",
      "metadata": {
        "id": "Xl8jWV-byghF"
      },
      "source": [
        "# VGG-16 AGE"
      ]
    },
    {
      "cell_type": "markdown",
      "metadata": {
        "id": "pOk-WsyEN45u"
      },
      "source": [
        "## Definizione e training della rete "
      ]
    },
    {
      "cell_type": "code",
      "execution_count": null,
      "metadata": {
        "id": "uz36wsUTykGu"
      },
      "outputs": [],
      "source": [
        "early_stop = EarlyStopping(monitor='val_loss', patience=3, min_delta = 0, \n",
        "                           verbose=1, restore_best_weights=True) \n",
        "\n",
        "\n",
        "initializer = tf.keras.initializers.GlorotUniform(seed=1234)\n",
        "\n",
        "num_classes = 2\n",
        "input_shape = train_set_gender.image_shape\n",
        "\n",
        "# Loading the VGG model\n",
        "# base_vgg16_model = tf.keras.applications.VGG16(include_top=True, pooling='avg', weights=\"imagenet\")"
      ]
    },
    {
      "cell_type": "code",
      "source": [
        "# Architettura della rete VGG-Face\n",
        "base_vggface_model = keras.Sequential()\n",
        "\n",
        "base_vggface_model.add(layers.ZeroPadding2D((1,1),input_shape=(224,224, 3)))\n",
        "base_vggface_model.add(layers.Convolution2D(64, (3, 3), activation='relu'))\n",
        "base_vggface_model.add(layers.ZeroPadding2D((1,1)))\n",
        "base_vggface_model.add(layers.Convolution2D(64, (3, 3), activation='relu'))\n",
        "base_vggface_model.add(layers.MaxPooling2D((2,2), strides=(2,2)))\n",
        " \n",
        "base_vggface_model.add(layers.ZeroPadding2D((1,1)))\n",
        "base_vggface_model.add(layers.Convolution2D(128, (3, 3), activation='relu'))\n",
        "base_vggface_model.add(layers.ZeroPadding2D((1,1)))\n",
        "base_vggface_model.add(layers.Convolution2D(128, (3, 3), activation='relu'))\n",
        "base_vggface_model.add(layers.MaxPooling2D((2,2), strides=(2,2)))\n",
        " \n",
        "base_vggface_model.add(layers.ZeroPadding2D((1,1)))\n",
        "base_vggface_model.add(layers.Convolution2D(256, (3, 3), activation='relu'))\n",
        "base_vggface_model.add(layers.ZeroPadding2D((1,1)))\n",
        "base_vggface_model.add(layers.Convolution2D(256, (3, 3), activation='relu'))\n",
        "base_vggface_model.add(layers.ZeroPadding2D((1,1)))\n",
        "base_vggface_model.add(layers.Convolution2D(256, (3, 3), activation='relu'))\n",
        "base_vggface_model.add(layers.MaxPooling2D((2,2), strides=(2,2)))\n",
        " \n",
        "base_vggface_model.add(layers.ZeroPadding2D((1,1)))\n",
        "base_vggface_model.add(layers.Convolution2D(512, (3, 3), activation='relu'))\n",
        "base_vggface_model.add(layers.ZeroPadding2D((1,1)))\n",
        "base_vggface_model.add(layers.Convolution2D(512, (3, 3), activation='relu'))\n",
        "base_vggface_model.add(layers.ZeroPadding2D((1,1)))\n",
        "base_vggface_model.add(layers.Convolution2D(512, (3, 3), activation='relu'))\n",
        "base_vggface_model.add(layers.MaxPooling2D((2,2), strides=(2,2)))\n",
        " \n",
        "base_vggface_model.add(layers.ZeroPadding2D((1,1)))\n",
        "base_vggface_model.add(layers.Convolution2D(512, (3, 3), activation='relu'))\n",
        "base_vggface_model.add(layers.ZeroPadding2D((1,1)))\n",
        "base_vggface_model.add(layers.Convolution2D(512, (3, 3), activation='relu'))\n",
        "base_vggface_model.add(layers.ZeroPadding2D((1,1)))\n",
        "base_vggface_model.add(layers.Convolution2D(512, (3, 3), activation='relu'))\n",
        "base_vggface_model.add(layers.MaxPooling2D((2,2), strides=(2,2)))\n",
        " \n",
        "base_vggface_model.add(layers.Convolution2D(4096, (7, 7), activation='relu'))\n",
        "base_vggface_model.add(layers.Dropout(0.5))\n",
        "base_vggface_model.add(layers.Convolution2D(4096, (1, 1), activation='relu'))\n",
        "base_vggface_model.add(layers.Dropout(0.5))\n",
        "base_vggface_model.add(layers.Convolution2D(2622, (1, 1)))\n",
        "base_vggface_model.add(layers.Flatten())\n",
        "base_vggface_model.add(layers.Activation('softmax'))\n",
        "\n",
        "# Caricamento dei pesi pretrainati di VGG-Face\n",
        "from keras.models import model_from_json\n",
        "base_vggface_model.load_weights(drive_path + 'vgg_face_weights.h5')"
      ],
      "metadata": {
        "id": "K4-aewxJwP05"
      },
      "execution_count": null,
      "outputs": []
    },
    {
      "cell_type": "code",
      "source": [
        "# Definizione dell'hypermodel per il tuning\n",
        "def model_builder(hp):\n",
        "\n",
        "  vgg16_model = Model(inputs=base_vggface_model.layers[0].input, outputs=base_vggface_model.layers[-2].output)\n",
        "  \n",
        "\n",
        "  model_vgg_age = keras.Sequential()\n",
        "  \n",
        "  # Blocking the weights of the previous layers\n",
        "  for layer in vgg16_model.layers:\n",
        "    layer.trainable = False\n",
        "    model_vgg_age.add(layer)\n",
        "\n",
        "\n",
        "  hp_dropout_conv = hp.Choice('dropout_conv', values = [0.0, 0.2, 0.5])\n",
        "  if  hp_dropout_conv > 0:\n",
        "    model_vgg_age.add(layers.Dropout(hp_dropout_conv, name='dropout_conv'))\n",
        "\n",
        "  hp_num_dense = hp.Choice('num_dense_layers', values= [1, 2])\n",
        "  hp_dense1_size = hp.Choice('first_dense_layer_size', values = [64, 128])\n",
        "  model_vgg_age.add(layers.Dense(hp_dense1_size, activation='relu'))\n",
        "\n",
        "  if hp_num_dense == 2:\n",
        "    hp_dense2_size = hp.Choice('second_dense_layer_size', values = [32, 64, 128])\n",
        "    model_vgg_age.add(layers.Dense(hp_dense1_size, activation='relu'))\n",
        "\n",
        "  hp_dropout_dense = hp.Choice('dropout_dense', values = [0.0, 0.2, 0.5])\n",
        "  if hp_dropout_dense > 0:\n",
        "    model_vgg_age.add(layers.Dropout(hp_dropout_dense, name = 'dropout_dense'))\n",
        "\n",
        "\n",
        "  # model_vgg_age.add(layers.Dense(2, activation='sigmoid'))\n",
        "\n",
        "  model_vgg_age.add(layers.Dense(1, activation='relu'))\n",
        "\n",
        "  \n",
        "  optimizer = tf.keras.optimizers.get('adam')\n",
        "  optimizer.learning_rate = hp.Choice('learning_rate', values=[1e-2, 1e-3, 1e-4], default = 1e-3)\n",
        "\n",
        "  model_vgg_age.compile(optimizer = optimizer, loss='mean_squared_error', metrics=['mae'])\n",
        "\n",
        "  # model_vgg_age.summary()\n",
        "\n",
        "  return model_vgg_age\n"
      ],
      "metadata": {
        "id": "Z6F_fsI6wUeT"
      },
      "execution_count": null,
      "outputs": []
    },
    {
      "cell_type": "code",
      "execution_count": null,
      "metadata": {
        "colab": {
          "base_uri": "https://localhost:8080/"
        },
        "id": "dlCnCsd0eiN8",
        "outputId": "a5c37d9a-48fe-460a-9328-7096f6a0f184"
      },
      "outputs": [
        {
          "output_type": "stream",
          "name": "stdout",
          "text": [
            "INFO:tensorflow:Reloading Oracle from existing project /content/drive/MyDrive/Visual_Progetto_VGG/keras_tuner/VGG_age_opt/oracle.json\n",
            "INFO:tensorflow:Reloading Tuner from /content/drive/MyDrive/Visual_Progetto_VGG/keras_tuner/VGG_age_opt/tuner0.json\n"
          ]
        }
      ],
      "source": [
        "# Inizializzazione del tuner\n",
        "tuner = kt.BayesianOptimization(model_builder,\n",
        "                                objective=kt.Objective('val_loss', direction=\"min\"),\n",
        "                                directory=drive_path+'keras_tuner',\n",
        "                                max_trials = 10,\n",
        "                              #  overwrite=True,\n",
        "                                project_name='VGG_age_opt')"
      ]
    },
    {
      "cell_type": "code",
      "execution_count": null,
      "metadata": {
        "colab": {
          "base_uri": "https://localhost:8080/"
        },
        "id": "4MvksMVTejLI",
        "outputId": "e6ac5ca2-83fa-4f2a-e42f-fcbd5c144c95"
      },
      "outputs": [
        {
          "output_type": "stream",
          "name": "stdout",
          "text": [
            "Trial 11 Complete [01h 19m 22s]\n",
            "val_loss: 0.004380281548947096\n",
            "\n",
            "Best val_loss So Far: 0.004380281548947096\n",
            "Total elapsed time: 01h 19m 22s\n",
            "INFO:tensorflow:Oracle triggered exit\n"
          ]
        }
      ],
      "source": [
        "# Tuning\n",
        "tuner.search(train_set_age, epochs=50, validation_data = validation_set_age, shuffle = True,\n",
        "             callbacks=[early_stop])"
      ]
    },
    {
      "cell_type": "code",
      "execution_count": null,
      "metadata": {
        "id": "DUt8OlxUeovK",
        "colab": {
          "base_uri": "https://localhost:8080/"
        },
        "outputId": "84fabeed-7aa5-47ec-85ab-7af91c5c2b7f"
      },
      "outputs": [
        {
          "output_type": "execute_result",
          "data": {
            "text/plain": [
              "{'dropout_conv': 0.5,\n",
              " 'dropout_dense': 0.0,\n",
              " 'first_dense_layer_size': 64,\n",
              " 'learning_rate': 0.0001,\n",
              " 'num_dense_layers': 2,\n",
              " 'second_dense_layer_size': 128}"
            ]
          },
          "metadata": {},
          "execution_count": 17
        }
      ],
      "source": [
        "# Get the optimal hyperparameters\n",
        "best_hps=tuner.get_best_hyperparameters(num_trials=1)[0]\n",
        "\n",
        "best_hps.values"
      ]
    },
    {
      "cell_type": "code",
      "execution_count": null,
      "metadata": {
        "id": "YWL8lscjfVlj"
      },
      "outputs": [],
      "source": [
        "best_model = tuner.get_best_models(num_models=1)[0]"
      ]
    },
    {
      "cell_type": "code",
      "source": [
        "best_model.save(drive_path + 'vgg_age_tuned.h5')"
      ],
      "metadata": {
        "id": "FOYJpd5xw83q"
      },
      "execution_count": null,
      "outputs": []
    },
    {
      "cell_type": "code",
      "execution_count": null,
      "metadata": {
        "id": "eehm4D4zWvs5"
      },
      "outputs": [],
      "source": [
        "# visualizza a video alcune informazioni testuali di base sul training del modello\n",
        "# e due grafici per analizzare l'andamento della loss e dell'accuracy durante il training\n",
        "def resume_model_history_regression(history, early_stop = None):\n",
        "  # estraggo il numero di epoche nel caso in cui l'early stopping è stato utilizzato\n",
        "  if early_stop is not None:\n",
        "    # verifico se l'early stop è entrato in funzione, se si prendo l'epoca in cui\n",
        "    # si è fermato il training, altrimenti l'epoca migliore (corrisponderà al tot. max delle epoche)\n",
        "    tot_epoch = early_stop.stopped_epoch+1 if (early_stop.stopped_epoch != 0) else early_stop.best_epoch + 1\n",
        "    best_epoch = early_stop.best_epoch + 1\n",
        "  # senza early_stopping l'ultima epoca e la migliore coincidono\n",
        "  else:\n",
        "    tot_epoch = len(history.epoch)\n",
        "    best_epoch = tot_epoch\n",
        "\n",
        "  # visualizzo i risultati in forma testuale\n",
        "  print(\"Numero di epoche totali:\", tot_epoch)\n",
        "  print(\"Epoca migliore (weights restored):\", best_epoch)\n",
        "  print(\"Accuracy training set all'epoca \" + str(best_epoch) + ': ' \n",
        "        + str(history.history['mae'][best_epoch -1]))\n",
        "  print(\"Accuracy validation set all'epoca \" + str(best_epoch) + ': '\n",
        "        + str(history.history['val_mae'][best_epoch -1]))\n",
        "  print(\"Loss training set all'epoca \" + str(best_epoch) + ': '\n",
        "        + str(history.history['loss'][best_epoch -1]))\n",
        "  print(\"Loss validation set all'epoca \" + str(best_epoch) + ': ' \n",
        "        + str(history.history['val_loss'][best_epoch -1]))\n",
        "  \n",
        "  print('\\n\\n')\n",
        "\n",
        "  # visualizzo i grafici di loss e mae per training e validation\n",
        "  fig = plt.figure(figsize =(20, 6))\n",
        "\n",
        "  plt.subplot(1, 2, 1)\n",
        "  plt.xlabel('Epochs'); plt.ylabel('Loss');  plt.title('Model loss')\n",
        "  # punti asse x\n",
        "  plt.xticks(np.arange(len(history.epoch)), np.arange(1, len(history.epoch)+1))\n",
        "  # visualizzo tutti i punti fino all'early stopping\n",
        "  plt.plot(range(0,best_epoch,1), \n",
        "           history.history['loss'][:best_epoch], '.-', color=\"C0\") # loss train\n",
        "  plt.plot(range(0,best_epoch,1), \n",
        "           history.history['val_loss'][:best_epoch], '.-', color=\"C1\") # loss val\n",
        "  # visualizzo tutti i punti dopo l'early stopping in modo tratteggiato\n",
        "  plt.plot(range(best_epoch-1, len(history.epoch),1), \n",
        "           history.history['loss'][best_epoch-1:], '.--', color=\"C0\") # loss train\n",
        "  plt.plot(range(best_epoch-1, len(history.epoch),1), \n",
        "           history.history['val_loss'][best_epoch-1:], '.--', color=\"C1\") # loss val\n",
        "  plt.legend(['Training', 'Validation'])\n",
        "\n",
        "  # stesso procedimento per l'accuracy\n",
        "  plt.subplot(1, 2, 2)\n",
        "  plt.xlabel('Epochs'); plt.ylabel('Loss');  plt.title('Model mae')\n",
        "  # punti asse x\n",
        "  plt.xticks(np.arange(len(history.epoch)), np.arange(1, len(history.epoch)+1))\n",
        "  # visualizzo tutti i punti fino all'early stopping\n",
        "  plt.plot(range(0,best_epoch,1), \n",
        "           history.history['mae'][:best_epoch], '.-', color=\"C0\") # loss train\n",
        "  plt.plot(range(0,best_epoch,1), \n",
        "           history.history['val_mae'][:best_epoch], '.-', color=\"C1\") # loss val\n",
        "  # visualizzo tutti i punti dopo l'early stopping in modo tratteggiato\n",
        "  plt.plot(range(best_epoch-1, len(history.epoch),1), \n",
        "           history.history['mae'][best_epoch-1:], '.--', color=\"C0\") # loss train\n",
        "  plt.plot(range(best_epoch-1, len(history.epoch),1), \n",
        "           history.history['val_mae'][best_epoch-1:], '.--', color=\"C1\") # loss val\n",
        "  plt.legend(['Training', 'Validation'])"
      ]
    },
    {
      "cell_type": "code",
      "source": [
        "# Training dell'architettura migliore per 50 epoche con EarlyStopping (pazienza=3)\n",
        "model_tune = tuner.hypermodel.build(best_hps)\n",
        "history_tune = model_tune.fit(train_set_age, epochs=50, validation_data = validation_set_age, \n",
        "                              shuffle = True,callbacks=[early_stop])"
      ],
      "metadata": {
        "id": "nVYbp8_AFZj-",
        "colab": {
          "base_uri": "https://localhost:8080/"
        },
        "outputId": "bf7a26d6-8965-4c8e-e653-fb439a0cfaf3"
      },
      "execution_count": null,
      "outputs": [
        {
          "output_type": "stream",
          "name": "stdout",
          "text": [
            "Epoch 1/50\n",
            "126/126 [==============================] - 273s 2s/step - loss: 0.0288 - mae: 0.1260 - val_loss: 0.0135 - val_mae: 0.0900\n",
            "Epoch 2/50\n",
            "126/126 [==============================] - 170s 1s/step - loss: 0.0117 - mae: 0.0824 - val_loss: 0.0104 - val_mae: 0.0760\n",
            "Epoch 3/50\n",
            "126/126 [==============================] - 169s 1s/step - loss: 0.0097 - mae: 0.0727 - val_loss: 0.0088 - val_mae: 0.0675\n",
            "Epoch 4/50\n",
            "126/126 [==============================] - 169s 1s/step - loss: 0.0086 - mae: 0.0674 - val_loss: 0.0074 - val_mae: 0.0616\n",
            "Epoch 5/50\n",
            "126/126 [==============================] - 169s 1s/step - loss: 0.0078 - mae: 0.0637 - val_loss: 0.0073 - val_mae: 0.0612\n",
            "Epoch 6/50\n",
            "126/126 [==============================] - 170s 1s/step - loss: 0.0072 - mae: 0.0608 - val_loss: 0.0062 - val_mae: 0.0564\n",
            "Epoch 7/50\n",
            "126/126 [==============================] - 170s 1s/step - loss: 0.0070 - mae: 0.0600 - val_loss: 0.0061 - val_mae: 0.0552\n",
            "Epoch 8/50\n",
            "126/126 [==============================] - 170s 1s/step - loss: 0.0066 - mae: 0.0581 - val_loss: 0.0055 - val_mae: 0.0525\n",
            "Epoch 9/50\n",
            "126/126 [==============================] - 170s 1s/step - loss: 0.0063 - mae: 0.0569 - val_loss: 0.0054 - val_mae: 0.0521\n",
            "Epoch 10/50\n",
            "126/126 [==============================] - 170s 1s/step - loss: 0.0062 - mae: 0.0561 - val_loss: 0.0052 - val_mae: 0.0511\n",
            "Epoch 11/50\n",
            "126/126 [==============================] - 170s 1s/step - loss: 0.0060 - mae: 0.0555 - val_loss: 0.0051 - val_mae: 0.0507\n",
            "Epoch 12/50\n",
            "126/126 [==============================] - 170s 1s/step - loss: 0.0059 - mae: 0.0549 - val_loss: 0.0051 - val_mae: 0.0506\n",
            "Epoch 13/50\n",
            "126/126 [==============================] - 170s 1s/step - loss: 0.0057 - mae: 0.0540 - val_loss: 0.0049 - val_mae: 0.0497\n",
            "Epoch 14/50\n",
            "126/126 [==============================] - 170s 1s/step - loss: 0.0056 - mae: 0.0534 - val_loss: 0.0048 - val_mae: 0.0489\n",
            "Epoch 15/50\n",
            "126/126 [==============================] - 170s 1s/step - loss: 0.0056 - mae: 0.0533 - val_loss: 0.0047 - val_mae: 0.0486\n",
            "Epoch 16/50\n",
            "126/126 [==============================] - 170s 1s/step - loss: 0.0055 - mae: 0.0528 - val_loss: 0.0048 - val_mae: 0.0488\n",
            "Epoch 17/50\n",
            "126/126 [==============================] - 170s 1s/step - loss: 0.0054 - mae: 0.0525 - val_loss: 0.0047 - val_mae: 0.0484\n",
            "Epoch 18/50\n",
            "126/126 [==============================] - 170s 1s/step - loss: 0.0053 - mae: 0.0522 - val_loss: 0.0046 - val_mae: 0.0480\n",
            "Epoch 19/50\n",
            "126/126 [==============================] - 171s 1s/step - loss: 0.0053 - mae: 0.0521 - val_loss: 0.0046 - val_mae: 0.0478\n",
            "Epoch 20/50\n",
            "126/126 [==============================] - 170s 1s/step - loss: 0.0053 - mae: 0.0518 - val_loss: 0.0045 - val_mae: 0.0477\n",
            "Epoch 21/50\n",
            "126/126 [==============================] - 170s 1s/step - loss: 0.0052 - mae: 0.0515 - val_loss: 0.0045 - val_mae: 0.0475\n",
            "Epoch 22/50\n",
            "126/126 [==============================] - 170s 1s/step - loss: 0.0052 - mae: 0.0512 - val_loss: 0.0045 - val_mae: 0.0472\n",
            "Epoch 23/50\n",
            "126/126 [==============================] - 170s 1s/step - loss: 0.0051 - mae: 0.0510 - val_loss: 0.0045 - val_mae: 0.0471\n",
            "Epoch 24/50\n",
            "126/126 [==============================] - 170s 1s/step - loss: 0.0052 - mae: 0.0511 - val_loss: 0.0045 - val_mae: 0.0473\n",
            "Epoch 25/50\n",
            "126/126 [==============================] - 170s 1s/step - loss: 0.0051 - mae: 0.0509 - val_loss: 0.0044 - val_mae: 0.0469\n",
            "Epoch 26/50\n",
            "126/126 [==============================] - 170s 1s/step - loss: 0.0051 - mae: 0.0507 - val_loss: 0.0045 - val_mae: 0.0470\n",
            "Epoch 27/50\n",
            "126/126 [==============================] - 170s 1s/step - loss: 0.0050 - mae: 0.0501 - val_loss: 0.0044 - val_mae: 0.0467\n",
            "Epoch 28/50\n",
            "126/126 [==============================] - 170s 1s/step - loss: 0.0050 - mae: 0.0504 - val_loss: 0.0044 - val_mae: 0.0466\n",
            "Epoch 29/50\n",
            "126/126 [==============================] - 170s 1s/step - loss: 0.0049 - mae: 0.0499 - val_loss: 0.0043 - val_mae: 0.0464\n",
            "Epoch 30/50\n",
            "126/126 [==============================] - 170s 1s/step - loss: 0.0049 - mae: 0.0496 - val_loss: 0.0044 - val_mae: 0.0464\n",
            "Epoch 31/50\n",
            "126/126 [==============================] - 170s 1s/step - loss: 0.0050 - mae: 0.0497 - val_loss: 0.0043 - val_mae: 0.0463\n",
            "Epoch 32/50\n",
            "126/126 [==============================] - ETA: 0s - loss: 0.0048 - mae: 0.0492Restoring model weights from the end of the best epoch: 29.\n",
            "126/126 [==============================] - 170s 1s/step - loss: 0.0048 - mae: 0.0492 - val_loss: 0.0044 - val_mae: 0.0465\n",
            "Epoch 00032: early stopping\n"
          ]
        }
      ]
    },
    {
      "cell_type": "code",
      "source": [
        "resume_model_history_regression(history_tune, early_stop)"
      ],
      "metadata": {
        "id": "bbSUb-r5GnZg",
        "colab": {
          "base_uri": "https://localhost:8080/",
          "height": 540
        },
        "outputId": "c786b924-80ba-40a7-8d96-8157fab24abd"
      },
      "execution_count": null,
      "outputs": [
        {
          "output_type": "stream",
          "name": "stdout",
          "text": [
            "Numero di epoche totali: 32\n",
            "Epoca migliore (weights restored): 29\n",
            "Accuracy training set all'epoca 29: 0.049886252731084824\n",
            "Accuracy validation set all'epoca 29: 0.04642292112112045\n",
            "Loss training set all'epoca 29: 0.00493632722645998\n",
            "Loss validation set all'epoca 29: 0.004342643544077873\n",
            "\n",
            "\n",
            "\n"
          ]
        },
        {
          "output_type": "display_data",
          "data": {
            "image/png": "[encoded data removed]",
            "text/plain": [
              "<Figure size 1440x432 with 2 Axes>"
            ]
          },
          "metadata": {
            "needs_background": "light"
          }
        }
      ]
    },
    {
      "cell_type": "code",
      "source": [
        "model_tune.save(drive_path + 'vgg_age_tuned_2.h5')"
      ],
      "metadata": {
        "id": "JmTXsdl2FkV9"
      },
      "execution_count": null,
      "outputs": []
    },
    {
      "cell_type": "markdown",
      "metadata": {
        "id": "6aSKqOI9Nwy6"
      },
      "source": [
        "## Test della rete"
      ]
    },
    {
      "cell_type": "code",
      "execution_count": null,
      "metadata": {
        "id": "-Ah0sTady7Z2"
      },
      "outputs": [],
      "source": [
        "model_vgg_age = keras.models.load_model(drive_path + 'vgg_age_tuned_2.h5')"
      ]
    },
    {
      "cell_type": "code",
      "execution_count": null,
      "metadata": {
        "id": "IwEvl7cbOYwK"
      },
      "outputs": [],
      "source": [
        "predictions = model_vgg_age.predict(test_set_age)"
      ]
    },
    {
      "cell_type": "code",
      "execution_count": null,
      "metadata": {
        "id": "vUV07byMy9nE"
      },
      "outputs": [],
      "source": [
        "y_test_age = df_test['age_label'].values\n",
        "# y_test_age = y_test_age.astype('float32')"
      ]
    },
    {
      "cell_type": "code",
      "execution_count": null,
      "metadata": {
        "id": "PNdXm0MzTvqs",
        "colab": {
          "base_uri": "https://localhost:8080/"
        },
        "outputId": "cd43f156-b616-456b-c3e9-941dfdc57606"
      },
      "outputs": [
        {
          "output_type": "execute_result",
          "data": {
            "text/plain": [
              "0.04577145638529409"
            ]
          },
          "metadata": {},
          "execution_count": 29
        }
      ],
      "source": [
        "from sklearn.metrics import mean_absolute_error\n",
        "\n",
        "mean_absolute_error(y_test_age, predictions)"
      ]
    },
    {
      "cell_type": "code",
      "execution_count": null,
      "metadata": {
        "id": "xrlY3VlEXmhw",
        "colab": {
          "base_uri": "https://localhost:8080/"
        },
        "outputId": "45f2c6a0-343f-4d1f-cff8-c83f885a3a67"
      },
      "outputs": [
        {
          "output_type": "stream",
          "name": "stdout",
          "text": [
            "Top-5 accuracy: 60.96\n",
            "Top-10 accuracy: 85.47\n",
            "Top-15 accuracy: 94.09\n",
            "Top-20 accuracy: 97.81\n"
          ]
        }
      ],
      "source": [
        "def top_k_accuracy(y_pred, y_true, k = 5):\n",
        "\n",
        "  y_pred = scaler.inverse_transform(y_pred)\n",
        "  y_true = scaler.inverse_transform(np.expand_dims(y_true, -1))\n",
        "\n",
        "  total = len(y_pred)\n",
        "  count = 0\n",
        "  for idx, _ in enumerate(y_pred):\n",
        "    if abs(y_pred[idx]-y_true[idx]) <= k:\n",
        "      count += 1\n",
        "\n",
        "\n",
        "  return round(100*count/total, 2)\n",
        " \n",
        "\n",
        "print(f'Top-5 accuracy: {top_k_accuracy(predictions, y_test_age, 5)}')\n",
        "print(f'Top-10 accuracy: {top_k_accuracy(predictions, y_test_age, 10)}')\n",
        "print(f'Top-15 accuracy: {top_k_accuracy(predictions, y_test_age, 15)}')\n",
        "print(f'Top-20 accuracy: {top_k_accuracy(predictions, y_test_age, 20)}')"
      ]
    },
    {
      "cell_type": "markdown",
      "source": [
        "# Fusione reti"
      ],
      "metadata": {
        "id": "H9AR-Ux5-fLM"
      }
    },
    {
      "cell_type": "code",
      "source": [
        "model_vgg_gender = keras.models.load_model(drive_path + 'VGG_gender_tuned_2.h5' )\n",
        "model_vgg_age = keras.models.load_model(drive_path + 'vgg_age_tuned_2.h5')"
      ],
      "metadata": {
        "id": "-taWkuEt-ipC"
      },
      "execution_count": null,
      "outputs": []
    },
    {
      "cell_type": "code",
      "source": [
        "model_vgg_gender.summary()"
      ],
      "metadata": {
        "colab": {
          "base_uri": "https://localhost:8080/"
        },
        "id": "vK4cqqeu_1qh",
        "outputId": "30434d55-656b-4f31-8af6-962bc30bbceb"
      },
      "execution_count": null,
      "outputs": [
        {
          "output_type": "stream",
          "name": "stdout",
          "text": [
            "Model: \"sequential_1\"\n",
            "_________________________________________________________________\n",
            " Layer (type)                Output Shape              Param #   \n",
            "=================================================================\n",
            " zero_padding2d (ZeroPadding  (None, 226, 226, 3)      0         \n",
            " 2D)                                                             \n",
            "                                                                 \n",
            " conv2d (Conv2D)             (None, 224, 224, 64)      1792      \n",
            "                                                                 \n",
            " zero_padding2d_1 (ZeroPaddi  (None, 226, 226, 64)     0         \n",
            " ng2D)                                                           \n",
            "                                                                 \n",
            " conv2d_1 (Conv2D)           (None, 224, 224, 64)      36928     \n",
            "                                                                 \n",
            " max_pooling2d (MaxPooling2D  (None, 112, 112, 64)     0         \n",
            " )                                                               \n",
            "                                                                 \n",
            " zero_padding2d_2 (ZeroPaddi  (None, 114, 114, 64)     0         \n",
            " ng2D)                                                           \n",
            "                                                                 \n",
            " conv2d_2 (Conv2D)           (None, 112, 112, 128)     73856     \n",
            "                                                                 \n",
            " zero_padding2d_3 (ZeroPaddi  (None, 114, 114, 128)    0         \n",
            " ng2D)                                                           \n",
            "                                                                 \n",
            " conv2d_3 (Conv2D)           (None, 112, 112, 128)     147584    \n",
            "                                                                 \n",
            " max_pooling2d_1 (MaxPooling  (None, 56, 56, 128)      0         \n",
            " 2D)                                                             \n",
            "                                                                 \n",
            " zero_padding2d_4 (ZeroPaddi  (None, 58, 58, 128)      0         \n",
            " ng2D)                                                           \n",
            "                                                                 \n",
            " conv2d_4 (Conv2D)           (None, 56, 56, 256)       295168    \n",
            "                                                                 \n",
            " zero_padding2d_5 (ZeroPaddi  (None, 58, 58, 256)      0         \n",
            " ng2D)                                                           \n",
            "                                                                 \n",
            " conv2d_5 (Conv2D)           (None, 56, 56, 256)       590080    \n",
            "                                                                 \n",
            " zero_padding2d_6 (ZeroPaddi  (None, 58, 58, 256)      0         \n",
            " ng2D)                                                           \n",
            "                                                                 \n",
            " conv2d_6 (Conv2D)           (None, 56, 56, 256)       590080    \n",
            "                                                                 \n",
            " max_pooling2d_2 (MaxPooling  (None, 28, 28, 256)      0         \n",
            " 2D)                                                             \n",
            "                                                                 \n",
            " zero_padding2d_7 (ZeroPaddi  (None, 30, 30, 256)      0         \n",
            " ng2D)                                                           \n",
            "                                                                 \n",
            " conv2d_7 (Conv2D)           (None, 28, 28, 512)       1180160   \n",
            "                                                                 \n",
            " zero_padding2d_8 (ZeroPaddi  (None, 30, 30, 512)      0         \n",
            " ng2D)                                                           \n",
            "                                                                 \n",
            " conv2d_8 (Conv2D)           (None, 28, 28, 512)       2359808   \n",
            "                                                                 \n",
            " zero_padding2d_9 (ZeroPaddi  (None, 30, 30, 512)      0         \n",
            " ng2D)                                                           \n",
            "                                                                 \n",
            " conv2d_9 (Conv2D)           (None, 28, 28, 512)       2359808   \n",
            "                                                                 \n",
            " max_pooling2d_3 (MaxPooling  (None, 14, 14, 512)      0         \n",
            " 2D)                                                             \n",
            "                                                                 \n",
            " zero_padding2d_10 (ZeroPadd  (None, 16, 16, 512)      0         \n",
            " ing2D)                                                          \n",
            "                                                                 \n",
            " conv2d_10 (Conv2D)          (None, 14, 14, 512)       2359808   \n",
            "                                                                 \n",
            " zero_padding2d_11 (ZeroPadd  (None, 16, 16, 512)      0         \n",
            " ing2D)                                                          \n",
            "                                                                 \n",
            " conv2d_11 (Conv2D)          (None, 14, 14, 512)       2359808   \n",
            "                                                                 \n",
            " zero_padding2d_12 (ZeroPadd  (None, 16, 16, 512)      0         \n",
            " ing2D)                                                          \n",
            "                                                                 \n",
            " conv2d_12 (Conv2D)          (None, 14, 14, 512)       2359808   \n",
            "                                                                 \n",
            " max_pooling2d_4 (MaxPooling  (None, 7, 7, 512)        0         \n",
            " 2D)                                                             \n",
            "                                                                 \n",
            " conv2d_13 (Conv2D)          (None, 1, 1, 4096)        102764544 \n",
            "                                                                 \n",
            " dropout (Dropout)           (None, 1, 1, 4096)        0         \n",
            "                                                                 \n",
            " conv2d_14 (Conv2D)          (None, 1, 1, 4096)        16781312  \n",
            "                                                                 \n",
            " dropout_1 (Dropout)         (None, 1, 1, 4096)        0         \n",
            "                                                                 \n",
            " conv2d_15 (Conv2D)          (None, 1, 1, 2622)        10742334  \n",
            "                                                                 \n",
            " flatten (Flatten)           (None, 2622)              0         \n",
            "                                                                 \n",
            " dense_3 (Dense)             (None, 128)               335744    \n",
            "                                                                 \n",
            " dense_4 (Dense)             (None, 128)               16512     \n",
            "                                                                 \n",
            " dense_5 (Dense)             (None, 2)                 258       \n",
            "                                                                 \n",
            "=================================================================\n",
            "Total params: 145,355,392\n",
            "Trainable params: 352,514\n",
            "Non-trainable params: 145,002,878\n",
            "_________________________________________________________________\n"
          ]
        }
      ]
    },
    {
      "cell_type": "code",
      "source": [
        "model_vgg_age.summary()"
      ],
      "metadata": {
        "colab": {
          "base_uri": "https://localhost:8080/"
        },
        "id": "l3nC1RF2_4mh",
        "outputId": "b66e769f-c750-4158-f1b1-1848e0d83b53"
      },
      "execution_count": null,
      "outputs": [
        {
          "output_type": "stream",
          "name": "stdout",
          "text": [
            "Model: \"sequential_2\"\n",
            "_________________________________________________________________\n",
            " Layer (type)                Output Shape              Param #   \n",
            "=================================================================\n",
            " zero_padding2d (ZeroPadding  (None, 226, 226, 3)      0         \n",
            " 2D)                                                             \n",
            "                                                                 \n",
            " conv2d (Conv2D)             (None, 224, 224, 64)      1792      \n",
            "                                                                 \n",
            " zero_padding2d_1 (ZeroPaddi  (None, 226, 226, 64)     0         \n",
            " ng2D)                                                           \n",
            "                                                                 \n",
            " conv2d_1 (Conv2D)           (None, 224, 224, 64)      36928     \n",
            "                                                                 \n",
            " max_pooling2d (MaxPooling2D  (None, 112, 112, 64)     0         \n",
            " )                                                               \n",
            "                                                                 \n",
            " zero_padding2d_2 (ZeroPaddi  (None, 114, 114, 64)     0         \n",
            " ng2D)                                                           \n",
            "                                                                 \n",
            " conv2d_2 (Conv2D)           (None, 112, 112, 128)     73856     \n",
            "                                                                 \n",
            " zero_padding2d_3 (ZeroPaddi  (None, 114, 114, 128)    0         \n",
            " ng2D)                                                           \n",
            "                                                                 \n",
            " conv2d_3 (Conv2D)           (None, 112, 112, 128)     147584    \n",
            "                                                                 \n",
            " max_pooling2d_1 (MaxPooling  (None, 56, 56, 128)      0         \n",
            " 2D)                                                             \n",
            "                                                                 \n",
            " zero_padding2d_4 (ZeroPaddi  (None, 58, 58, 128)      0         \n",
            " ng2D)                                                           \n",
            "                                                                 \n",
            " conv2d_4 (Conv2D)           (None, 56, 56, 256)       295168    \n",
            "                                                                 \n",
            " zero_padding2d_5 (ZeroPaddi  (None, 58, 58, 256)      0         \n",
            " ng2D)                                                           \n",
            "                                                                 \n",
            " conv2d_5 (Conv2D)           (None, 56, 56, 256)       590080    \n",
            "                                                                 \n",
            " zero_padding2d_6 (ZeroPaddi  (None, 58, 58, 256)      0         \n",
            " ng2D)                                                           \n",
            "                                                                 \n",
            " conv2d_6 (Conv2D)           (None, 56, 56, 256)       590080    \n",
            "                                                                 \n",
            " max_pooling2d_2 (MaxPooling  (None, 28, 28, 256)      0         \n",
            " 2D)                                                             \n",
            "                                                                 \n",
            " zero_padding2d_7 (ZeroPaddi  (None, 30, 30, 256)      0         \n",
            " ng2D)                                                           \n",
            "                                                                 \n",
            " conv2d_7 (Conv2D)           (None, 28, 28, 512)       1180160   \n",
            "                                                                 \n",
            " zero_padding2d_8 (ZeroPaddi  (None, 30, 30, 512)      0         \n",
            " ng2D)                                                           \n",
            "                                                                 \n",
            " conv2d_8 (Conv2D)           (None, 28, 28, 512)       2359808   \n",
            "                                                                 \n",
            " zero_padding2d_9 (ZeroPaddi  (None, 30, 30, 512)      0         \n",
            " ng2D)                                                           \n",
            "                                                                 \n",
            " conv2d_9 (Conv2D)           (None, 28, 28, 512)       2359808   \n",
            "                                                                 \n",
            " max_pooling2d_3 (MaxPooling  (None, 14, 14, 512)      0         \n",
            " 2D)                                                             \n",
            "                                                                 \n",
            " zero_padding2d_10 (ZeroPadd  (None, 16, 16, 512)      0         \n",
            " ing2D)                                                          \n",
            "                                                                 \n",
            " conv2d_10 (Conv2D)          (None, 14, 14, 512)       2359808   \n",
            "                                                                 \n",
            " zero_padding2d_11 (ZeroPadd  (None, 16, 16, 512)      0         \n",
            " ing2D)                                                          \n",
            "                                                                 \n",
            " conv2d_11 (Conv2D)          (None, 14, 14, 512)       2359808   \n",
            "                                                                 \n",
            " zero_padding2d_12 (ZeroPadd  (None, 16, 16, 512)      0         \n",
            " ing2D)                                                          \n",
            "                                                                 \n",
            " conv2d_12 (Conv2D)          (None, 14, 14, 512)       2359808   \n",
            "                                                                 \n",
            " max_pooling2d_4 (MaxPooling  (None, 7, 7, 512)        0         \n",
            " 2D)                                                             \n",
            "                                                                 \n",
            " conv2d_13 (Conv2D)          (None, 1, 1, 4096)        102764544 \n",
            "                                                                 \n",
            " dropout (Dropout)           (None, 1, 1, 4096)        0         \n",
            "                                                                 \n",
            " conv2d_14 (Conv2D)          (None, 1, 1, 4096)        16781312  \n",
            "                                                                 \n",
            " dropout_1 (Dropout)         (None, 1, 1, 4096)        0         \n",
            "                                                                 \n",
            " conv2d_15 (Conv2D)          (None, 1, 1, 2622)        10742334  \n",
            "                                                                 \n",
            " flatten (Flatten)           (None, 2622)              0         \n",
            "                                                                 \n",
            " dropout_conv (Dropout)      (None, 2622)              0         \n",
            "                                                                 \n",
            " dense_2 (Dense)             (None, 64)                167872    \n",
            "                                                                 \n",
            " dense_3 (Dense)             (None, 64)                4160      \n",
            "                                                                 \n",
            " dense_4 (Dense)             (None, 1)                 65        \n",
            "                                                                 \n",
            "=================================================================\n",
            "Total params: 145,174,975\n",
            "Trainable params: 172,097\n",
            "Non-trainable params: 145,002,878\n",
            "_________________________________________________________________\n"
          ]
        }
      ]
    },
    {
      "cell_type": "code",
      "source": [
        "feature_extractor = Model(inputs=model_vgg_age.layers[0].input, outputs=model_vgg_age.get_layer('flatten').output)\n",
        "\n",
        "feature_extractor.summary()"
      ],
      "metadata": {
        "colab": {
          "base_uri": "https://localhost:8080/"
        },
        "id": "cUu1bzybAKOe",
        "outputId": "d72281b4-24a9-41dd-ff3a-ebadc88edda1"
      },
      "execution_count": null,
      "outputs": [
        {
          "output_type": "stream",
          "name": "stdout",
          "text": [
            "Model: \"model_2\"\n",
            "_________________________________________________________________\n",
            " Layer (type)                Output Shape              Param #   \n",
            "=================================================================\n",
            " zero_padding2d_input (Input  [(None, 224, 224, 3)]    0         \n",
            " Layer)                                                          \n",
            "                                                                 \n",
            " zero_padding2d (ZeroPadding  (None, 226, 226, 3)      0         \n",
            " 2D)                                                             \n",
            "                                                                 \n",
            " conv2d (Conv2D)             (None, 224, 224, 64)      1792      \n",
            "                                                                 \n",
            " zero_padding2d_1 (ZeroPaddi  (None, 226, 226, 64)     0         \n",
            " ng2D)                                                           \n",
            "                                                                 \n",
            " conv2d_1 (Conv2D)           (None, 224, 224, 64)      36928     \n",
            "                                                                 \n",
            " max_pooling2d (MaxPooling2D  (None, 112, 112, 64)     0         \n",
            " )                                                               \n",
            "                                                                 \n",
            " zero_padding2d_2 (ZeroPaddi  (None, 114, 114, 64)     0         \n",
            " ng2D)                                                           \n",
            "                                                                 \n",
            " conv2d_2 (Conv2D)           (None, 112, 112, 128)     73856     \n",
            "                                                                 \n",
            " zero_padding2d_3 (ZeroPaddi  (None, 114, 114, 128)    0         \n",
            " ng2D)                                                           \n",
            "                                                                 \n",
            " conv2d_3 (Conv2D)           (None, 112, 112, 128)     147584    \n",
            "                                                                 \n",
            " max_pooling2d_1 (MaxPooling  (None, 56, 56, 128)      0         \n",
            " 2D)                                                             \n",
            "                                                                 \n",
            " zero_padding2d_4 (ZeroPaddi  (None, 58, 58, 128)      0         \n",
            " ng2D)                                                           \n",
            "                                                                 \n",
            " conv2d_4 (Conv2D)           (None, 56, 56, 256)       295168    \n",
            "                                                                 \n",
            " zero_padding2d_5 (ZeroPaddi  (None, 58, 58, 256)      0         \n",
            " ng2D)                                                           \n",
            "                                                                 \n",
            " conv2d_5 (Conv2D)           (None, 56, 56, 256)       590080    \n",
            "                                                                 \n",
            " zero_padding2d_6 (ZeroPaddi  (None, 58, 58, 256)      0         \n",
            " ng2D)                                                           \n",
            "                                                                 \n",
            " conv2d_6 (Conv2D)           (None, 56, 56, 256)       590080    \n",
            "                                                                 \n",
            " max_pooling2d_2 (MaxPooling  (None, 28, 28, 256)      0         \n",
            " 2D)                                                             \n",
            "                                                                 \n",
            " zero_padding2d_7 (ZeroPaddi  (None, 30, 30, 256)      0         \n",
            " ng2D)                                                           \n",
            "                                                                 \n",
            " conv2d_7 (Conv2D)           (None, 28, 28, 512)       1180160   \n",
            "                                                                 \n",
            " zero_padding2d_8 (ZeroPaddi  (None, 30, 30, 512)      0         \n",
            " ng2D)                                                           \n",
            "                                                                 \n",
            " conv2d_8 (Conv2D)           (None, 28, 28, 512)       2359808   \n",
            "                                                                 \n",
            " zero_padding2d_9 (ZeroPaddi  (None, 30, 30, 512)      0         \n",
            " ng2D)                                                           \n",
            "                                                                 \n",
            " conv2d_9 (Conv2D)           (None, 28, 28, 512)       2359808   \n",
            "                                                                 \n",
            " max_pooling2d_3 (MaxPooling  (None, 14, 14, 512)      0         \n",
            " 2D)                                                             \n",
            "                                                                 \n",
            " zero_padding2d_10 (ZeroPadd  (None, 16, 16, 512)      0         \n",
            " ing2D)                                                          \n",
            "                                                                 \n",
            " conv2d_10 (Conv2D)          (None, 14, 14, 512)       2359808   \n",
            "                                                                 \n",
            " zero_padding2d_11 (ZeroPadd  (None, 16, 16, 512)      0         \n",
            " ing2D)                                                          \n",
            "                                                                 \n",
            " conv2d_11 (Conv2D)          (None, 14, 14, 512)       2359808   \n",
            "                                                                 \n",
            " zero_padding2d_12 (ZeroPadd  (None, 16, 16, 512)      0         \n",
            " ing2D)                                                          \n",
            "                                                                 \n",
            " conv2d_12 (Conv2D)          (None, 14, 14, 512)       2359808   \n",
            "                                                                 \n",
            " max_pooling2d_4 (MaxPooling  (None, 7, 7, 512)        0         \n",
            " 2D)                                                             \n",
            "                                                                 \n",
            " conv2d_13 (Conv2D)          (None, 1, 1, 4096)        102764544 \n",
            "                                                                 \n",
            " dropout (Dropout)           (None, 1, 1, 4096)        0         \n",
            "                                                                 \n",
            " conv2d_14 (Conv2D)          (None, 1, 1, 4096)        16781312  \n",
            "                                                                 \n",
            " dropout_1 (Dropout)         (None, 1, 1, 4096)        0         \n",
            "                                                                 \n",
            " conv2d_15 (Conv2D)          (None, 1, 1, 2622)        10742334  \n",
            "                                                                 \n",
            " flatten (Flatten)           (None, 2622)              0         \n",
            "                                                                 \n",
            "=================================================================\n",
            "Total params: 145,002,878\n",
            "Trainable params: 0\n",
            "Non-trainable params: 145,002,878\n",
            "_________________________________________________________________\n"
          ]
        }
      ]
    },
    {
      "cell_type": "code",
      "source": [
        "model_vgg_age_end = Model(inputs=model_vgg_age.get_layer('flatten').input, outputs=model_vgg_age.get_layer('dense_4').output)\n",
        "\n",
        "vgg_age_end = keras.Sequential()\n",
        "\n",
        "for idx, layer in enumerate(model_vgg_age_end.layers):\n",
        "  if idx == 0:\n",
        "    continue\n",
        "  else:\n",
        "    vgg_age_end.add(layer)\n",
        "\n",
        "vgg_age_end.layers"
      ],
      "metadata": {
        "colab": {
          "base_uri": "https://localhost:8080/"
        },
        "id": "uzHtIKCbArv7",
        "outputId": "e1ce00cf-edfd-4718-8bad-74731142a22b"
      },
      "execution_count": null,
      "outputs": [
        {
          "output_type": "execute_result",
          "data": {
            "text/plain": [
              "[<keras.layers.core.flatten.Flatten at 0x7f3d4340b210>,\n",
              " <keras.layers.core.dropout.Dropout at 0x7f3d43421c90>,\n",
              " <keras.layers.core.dense.Dense at 0x7f3d433f3710>,\n",
              " <keras.layers.core.dense.Dense at 0x7f3d44036490>,\n",
              " <keras.layers.core.dense.Dense at 0x7f3d44080490>]"
            ]
          },
          "metadata": {},
          "execution_count": 47
        }
      ]
    },
    {
      "cell_type": "code",
      "source": [
        "model_vgg_gender_end = Model(inputs=model_vgg_gender.get_layer('flatten').input, outputs=model_vgg_gender.get_layer('dense_5').output)\n",
        "\n",
        "vgg_gender_end = keras.Sequential()\n",
        "\n",
        "for idx, layer in enumerate(model_vgg_gender_end.layers):\n",
        "  if idx == 0:\n",
        "    continue\n",
        "  else:\n",
        "    vgg_gender_end.add(layer)\n",
        "\n",
        "\n",
        "vgg_gender_end.layers"
      ],
      "metadata": {
        "colab": {
          "base_uri": "https://localhost:8080/"
        },
        "id": "ccLn2P1UCUQh",
        "outputId": "3b9abb12-fbdd-4b90-81b2-4fc737cae6b0"
      },
      "execution_count": null,
      "outputs": [
        {
          "output_type": "execute_result",
          "data": {
            "text/plain": [
              "[<keras.layers.core.flatten.Flatten at 0x7f3d4408ea10>,\n",
              " <keras.layers.core.dense.Dense at 0x7f3d44071ed0>,\n",
              " <keras.layers.core.dense.Dense at 0x7f3d4401efd0>,\n",
              " <keras.layers.core.dense.Dense at 0x7f3d44023210>]"
            ]
          },
          "metadata": {},
          "execution_count": 55
        }
      ]
    },
    {
      "cell_type": "code",
      "source": [
        "\n",
        "x = layers.Input(shape = input_shape)\n",
        "shared = feature_extractor(x)\n",
        "\n",
        "out_gender = vgg_gender_end(shared)\n",
        "out_age = vgg_age_end(shared)\n",
        "\n",
        "\n",
        "model = Model(inputs=x, outputs=[out_gender, out_age])"
      ],
      "metadata": {
        "id": "_KkoQ8IJCzT1"
      },
      "execution_count": null,
      "outputs": []
    },
    {
      "cell_type": "code",
      "source": [
        "model.save(drive_path + 'model_merged.h5')"
      ],
      "metadata": {
        "id": "DPP-gU7WIJTc",
        "colab": {
          "base_uri": "https://localhost:8080/"
        },
        "outputId": "d0070859-a418-4d9d-c851-b2912afad5e4"
      },
      "execution_count": null,
      "outputs": [
        {
          "output_type": "stream",
          "name": "stdout",
          "text": [
            "WARNING:tensorflow:Compiled the loaded model, but the compiled metrics have yet to be built. `model.compile_metrics` will be empty until you train or evaluate the model.\n"
          ]
        }
      ]
    },
    {
      "cell_type": "code",
      "source": [
        "# model = keras.models.load_model(drive_path + 'model_merged.h5')"
      ],
      "metadata": {
        "id": "W88eBOoIIVUQ"
      },
      "execution_count": null,
      "outputs": []
    },
    {
      "cell_type": "markdown",
      "source": [
        "# Prova con foto vere"
      ],
      "metadata": {
        "id": "bkMwObXrUX_O"
      }
    },
    {
      "cell_type": "code",
      "source": [
        "SCALER = 116"
      ],
      "metadata": {
        "id": "BOe0T91QgiYr"
      },
      "execution_count": null,
      "outputs": []
    },
    {
      "cell_type": "code",
      "source": [
        "gender_dict = {0: 'Uomo', 1: 'Donna'}"
      ],
      "metadata": {
        "id": "P7aE3O4y8O5R"
      },
      "execution_count": null,
      "outputs": []
    },
    {
      "cell_type": "code",
      "source": [
        "model = keras.models.load_model(drive_path + 'model_merged.h5')"
      ],
      "metadata": {
        "id": "29_ViAUHU2eO",
        "colab": {
          "base_uri": "https://localhost:8080/"
        },
        "outputId": "c30b0172-8236-4201-f309-7a679601acf6"
      },
      "execution_count": null,
      "outputs": [
        {
          "output_type": "stream",
          "name": "stdout",
          "text": [
            "WARNING:tensorflow:No training configuration found in the save file, so the model was *not* compiled. Compile it manually.\n"
          ]
        }
      ]
    },
    {
      "cell_type": "code",
      "source": [
        "import cv2\n",
        "import matplotlib.pyplot as plt\n",
        "import time\n",
        "\n",
        "test_image = cv2.imread('detected_image.png')\n",
        "\n",
        "test_image = cv2.cvtColor(test_image, cv2.COLOR_BGR2RGB)\n",
        "test_image = test_image.astype('float32')\n",
        "test_image /= 255\n",
        "test_image = cv2.resize(test_image, (224,224))\n",
        "\n",
        "plt.imshow(test_image)\n",
        "\n",
        "t_start = time.time()\n",
        "prediction = model.predict(np.expand_dims(test_image, axis=0))\n",
        "t_end = time.time()\n",
        "\n",
        "prediction_gender = prediction[0]\n",
        "prediction_age = prediction[1]\n",
        "\n",
        "prediction_age = round(float(prediction_age*SCALER))\n",
        "predicted_gender = np.argmax(prediction_gender)\n",
        "\n",
        "print(f'Prediction gender: {prediction_gender} \\nGenere predetto: {gender_dict[predicted_gender]} \\nEtà predetta: [{prediction_age - 5} ; {prediction_age + 5}]')\n",
        "print(f'Elapsed time: {t_end-t_start}')"
      ],
      "metadata": {
        "colab": {
          "base_uri": "https://localhost:8080/",
          "height": 339
        },
        "id": "oW0ahpnj2t1R",
        "outputId": "02a8b058-2033-4308-99d5-a417ef411657"
      },
      "execution_count": null,
      "outputs": [
        {
          "output_type": "stream",
          "name": "stdout",
          "text": [
            "Prediction gender: [[9.9900645e-01 9.8873535e-04]] \n",
            "Genere predetto: Uomo \n",
            "Età predetta: [18 ; 28]\n",
            "Elapsed time: 0.4757246971130371\n"
          ]
        },
        {
          "output_type": "display_data",
          "data": {
            "image/png": "[encoded data removed]",
            "text/plain": [
              "<Figure size 432x288 with 1 Axes>"
            ]
          },
          "metadata": {
            "needs_background": "light"
          }
        }
      ]
    },
    {
      "cell_type": "code",
      "source": [
        "# Calcolo il tempo totale\n",
        "\n",
        "start_time = time.time()\n",
        "\n",
        "for im in test_set_age.next():\n",
        "  _ = model.predict(im.reshape(1,224,224,3))\n",
        "\n",
        "print(\"--- %s secondi necessari per predire una singola immagine! ---\" % \n",
        "      round((time.time() - start_time)/test_set_age.batch_size, 3))\n",
        "\n",
        "print(f'Batch size: {test_set_age.batch_size}')"
      ],
      "metadata": {
        "colab": {
          "base_uri": "https://localhost:8080/"
        },
        "id": "YYHL-J4UbO70",
        "outputId": "87a5acf8-83fd-4613-8d88-06d7b969bc48"
      },
      "execution_count": null,
      "outputs": [
        {
          "output_type": "stream",
          "name": "stdout",
          "text": [
            "--- 0.186 secondi necessari per predire una singola immagine! ---\n",
            "Batch size: 128\n"
          ]
        }
      ]
    }
  ],
  "metadata": {
    "accelerator": "GPU",
    "colab": {
      "collapsed_sections": [
        "Lk61MZjI85L_",
        "wn8xC16z0tNw",
        "sWx_saI7FGLx",
        "KNGY3LWUXMwe",
        "bkMwObXrUX_O"
      ],
      "name": "Copia di Gender_Age_Prediction_Using_VGGFace_finetuned.ipynb",
      "provenance": []
    },
    "kernelspec": {
      "display_name": "Python 3",
      "name": "python3"
    },
    "language_info": {
      "name": "python"
    }
  },
  "nbformat": 4,
  "nbformat_minor": 0
}