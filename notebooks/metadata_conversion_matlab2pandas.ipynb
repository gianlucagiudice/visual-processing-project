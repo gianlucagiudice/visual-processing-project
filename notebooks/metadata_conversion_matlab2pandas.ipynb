{
 "cells": [
  {
   "cell_type": "markdown",
   "source": [
    "# METADATA CONVERSION\n",
    "\n",
    "Download dataset IMDB - faces only (7 GB) from https://data.vision.ee.ethz.ch/cvl/rrothe/imdb-wiki/\n",
    "Copy the downloaded directory imdb_crop in the project folder dataset/, then run this notebook.\n",
    "\n",
    "This notebook converts the imdb_crop images metadata from Matlab format into Pandas format, so they can be used with Python.\n",
    "\n",
    "The ML models for classification must inherit from src/models/Model, the DataManager class reads the images and extracts the labels"
   ],
   "metadata": {
    "collapsed": false,
    "pycharm": {
     "name": "#%% md\n"
    }
   }
  },
  {
   "cell_type": "code",
   "execution_count": 2,
   "outputs": [],
   "source": [
    "import numpy as np\n",
    "import scipy.io as sio\n",
    "import cv2\n",
    "import pandas as pd\n",
    "from matplotlib import pyplot as plt\n",
    "from tqdm import tqdm"
   ],
   "metadata": {
    "collapsed": false,
    "pycharm": {
     "name": "#%%\n"
    }
   }
  },
  {
   "cell_type": "code",
   "execution_count": 3,
   "metadata": {
    "collapsed": true
   },
   "outputs": [],
   "source": [
    "# Matlab file path\n",
    "METADATA_CROPPED_FILE_MATLAB = '../dataset/imdb_crop/imdb.mat'"
   ]
  },
  {
   "cell_type": "code",
   "execution_count": 3,
   "outputs": [],
   "source": [
    "mat_obj = sio.loadmat(METADATA_CROPPED_FILE_MATLAB)\n",
    "mat_dta = mat_obj['imdb']\n",
    "data_dict = {n: mat_dta[n][0, 0][0] for n in mat_dta.dtype.names}\n",
    "# Extract celebrities names\n",
    "celeb_names_dict = {k: v for k, v in enumerate(data_dict['celeb_names'], 1)}\n",
    "# Remove key from dict\n",
    "_ = data_dict.pop('celeb_names', None)"
   ],
   "metadata": {
    "collapsed": false,
    "pycharm": {
     "name": "#%%\n"
    }
   }
  },
  {
   "cell_type": "code",
   "execution_count": 4,
   "outputs": [
    {
     "data": {
      "text/plain": "      dob  photo_taken                                       full_path  \\\n0  693726         1968   [01/nm0000001_rm124825600_1899-5-10_1968.jpg]   \n1  693726         1970  [01/nm0000001_rm3343756032_1899-5-10_1970.jpg]   \n2  693726         1968   [01/nm0000001_rm577153792_1899-5-10_1968.jpg]   \n3  693726         1968   [01/nm0000001_rm946909184_1899-5-10_1968.jpg]   \n4  693726         1968   [01/nm0000001_rm980463616_1899-5-10_1968.jpg]   \n\n   gender            name                                      face_location  \\\n0     1.0  [Fred Astaire]  [[1072.926, 161.838, 1214.7839999999999, 303.6...   \n1     1.0  [Fred Astaire]              [[477.184, 100.352, 622.592, 245.76]]   \n2     1.0  [Fred Astaire]  [[114.96964308962852, 114.96964308962852, 451....   \n3     1.0  [Fred Astaire]  [[622.8855056426588, 424.21750383700805, 844.3...   \n4     1.0  [Fred Astaire]  [[1013.8590023603723, 233.8820422075853, 1201....   \n\n   face_score  second_face_score  celeb_id  \n0    1.459693           1.118973      6488  \n1    2.543198           1.852008      6488  \n2    3.455579           2.985660      6488  \n3    1.872117                NaN      6488  \n4    1.158766                NaN      6488  ",
      "text/html": "<div>\n<style scoped>\n    .dataframe tbody tr th:only-of-type {\n        vertical-align: middle;\n    }\n\n    .dataframe tbody tr th {\n        vertical-align: top;\n    }\n\n    .dataframe thead th {\n        text-align: right;\n    }\n</style>\n<table border=\"1\" class=\"dataframe\">\n  <thead>\n    <tr style=\"text-align: right;\">\n      <th></th>\n      <th>dob</th>\n      <th>photo_taken</th>\n      <th>full_path</th>\n      <th>gender</th>\n      <th>name</th>\n      <th>face_location</th>\n      <th>face_score</th>\n      <th>second_face_score</th>\n      <th>celeb_id</th>\n    </tr>\n  </thead>\n  <tbody>\n    <tr>\n      <th>0</th>\n      <td>693726</td>\n      <td>1968</td>\n      <td>[01/nm0000001_rm124825600_1899-5-10_1968.jpg]</td>\n      <td>1.0</td>\n      <td>[Fred Astaire]</td>\n      <td>[[1072.926, 161.838, 1214.7839999999999, 303.6...</td>\n      <td>1.459693</td>\n      <td>1.118973</td>\n      <td>6488</td>\n    </tr>\n    <tr>\n      <th>1</th>\n      <td>693726</td>\n      <td>1970</td>\n      <td>[01/nm0000001_rm3343756032_1899-5-10_1970.jpg]</td>\n      <td>1.0</td>\n      <td>[Fred Astaire]</td>\n      <td>[[477.184, 100.352, 622.592, 245.76]]</td>\n      <td>2.543198</td>\n      <td>1.852008</td>\n      <td>6488</td>\n    </tr>\n    <tr>\n      <th>2</th>\n      <td>693726</td>\n      <td>1968</td>\n      <td>[01/nm0000001_rm577153792_1899-5-10_1968.jpg]</td>\n      <td>1.0</td>\n      <td>[Fred Astaire]</td>\n      <td>[[114.96964308962852, 114.96964308962852, 451....</td>\n      <td>3.455579</td>\n      <td>2.985660</td>\n      <td>6488</td>\n    </tr>\n    <tr>\n      <th>3</th>\n      <td>693726</td>\n      <td>1968</td>\n      <td>[01/nm0000001_rm946909184_1899-5-10_1968.jpg]</td>\n      <td>1.0</td>\n      <td>[Fred Astaire]</td>\n      <td>[[622.8855056426588, 424.21750383700805, 844.3...</td>\n      <td>1.872117</td>\n      <td>NaN</td>\n      <td>6488</td>\n    </tr>\n    <tr>\n      <th>4</th>\n      <td>693726</td>\n      <td>1968</td>\n      <td>[01/nm0000001_rm980463616_1899-5-10_1968.jpg]</td>\n      <td>1.0</td>\n      <td>[Fred Astaire]</td>\n      <td>[[1013.8590023603723, 233.8820422075853, 1201....</td>\n      <td>1.158766</td>\n      <td>NaN</td>\n      <td>6488</td>\n    </tr>\n  </tbody>\n</table>\n</div>"
     },
     "execution_count": 4,
     "metadata": {},
     "output_type": "execute_result"
    }
   ],
   "source": [
    "df = pd.DataFrame.from_dict(data_dict)\n",
    "df.head()"
   ],
   "metadata": {
    "collapsed": false,
    "pycharm": {
     "name": "#%%\n"
    }
   }
  },
  {
   "cell_type": "code",
   "execution_count": 5,
   "outputs": [],
   "source": [
    "from datetime import datetime, timedelta\n",
    "matlab2datetime = lambda matlab_datenum: (datetime.fromordinal(int(matlab_datenum)) + timedelta(days=matlab_datenum%1)).year\n",
    "\n",
    "# Extract full path\n",
    "df['full_path'] = df['full_path'].apply(lambda x: x[0]).astype('str')\n",
    "# Extract face location\n",
    "df['face_location'] = df['face_location'].apply(lambda x: x[0])\n",
    "# Extract face location\n",
    "df['name'] = df['name'].apply(lambda x: x[0]).astype('str')\n",
    "# Convert dab to standard datetime\n",
    "df['standard_dob'] = df['dob'].apply(matlab2datetime).astype('uint16')\n",
    "# Compute age\n",
    "df['age'] = df.apply(lambda x:x['photo_taken']-x['standard_dob'], axis=1).astype('uint16')"
   ],
   "metadata": {
    "collapsed": false,
    "pycharm": {
     "name": "#%%\n"
    }
   }
  },
  {
   "cell_type": "code",
   "execution_count": 6,
   "outputs": [
    {
     "data": {
      "text/plain": "   age  gender                                     full_path          name  \\\n0   68     1.0   01/nm0000001_rm124825600_1899-5-10_1968.jpg  Fred Astaire   \n1   70     1.0  01/nm0000001_rm3343756032_1899-5-10_1970.jpg  Fred Astaire   \n2   68     1.0   01/nm0000001_rm577153792_1899-5-10_1968.jpg  Fred Astaire   \n3   68     1.0   01/nm0000001_rm946909184_1899-5-10_1968.jpg  Fred Astaire   \n4   68     1.0   01/nm0000001_rm980463616_1899-5-10_1968.jpg  Fred Astaire   \n\n                                       face_location  second_face_score  \\\n0  [1072.926, 161.838, 1214.7839999999999, 303.69...           1.118973   \n1                [477.184, 100.352, 622.592, 245.76]           1.852008   \n2  [114.96964308962852, 114.96964308962852, 451.6...           2.985660   \n3  [622.8855056426588, 424.21750383700805, 844.33...                NaN   \n4  [1013.8590023603723, 233.8820422075853, 1201.5...                NaN   \n\n   standard_dob  celeb_id  face_score  photo_taken     dob  \n0          1900      6488    1.459693         1968  693726  \n1          1900      6488    2.543198         1970  693726  \n2          1900      6488    3.455579         1968  693726  \n3          1900      6488    1.872117         1968  693726  \n4          1900      6488    1.158766         1968  693726  ",
      "text/html": "<div>\n<style scoped>\n    .dataframe tbody tr th:only-of-type {\n        vertical-align: middle;\n    }\n\n    .dataframe tbody tr th {\n        vertical-align: top;\n    }\n\n    .dataframe thead th {\n        text-align: right;\n    }\n</style>\n<table border=\"1\" class=\"dataframe\">\n  <thead>\n    <tr style=\"text-align: right;\">\n      <th></th>\n      <th>age</th>\n      <th>gender</th>\n      <th>full_path</th>\n      <th>name</th>\n      <th>face_location</th>\n      <th>second_face_score</th>\n      <th>standard_dob</th>\n      <th>celeb_id</th>\n      <th>face_score</th>\n      <th>photo_taken</th>\n      <th>dob</th>\n    </tr>\n  </thead>\n  <tbody>\n    <tr>\n      <th>0</th>\n      <td>68</td>\n      <td>1.0</td>\n      <td>01/nm0000001_rm124825600_1899-5-10_1968.jpg</td>\n      <td>Fred Astaire</td>\n      <td>[1072.926, 161.838, 1214.7839999999999, 303.69...</td>\n      <td>1.118973</td>\n      <td>1900</td>\n      <td>6488</td>\n      <td>1.459693</td>\n      <td>1968</td>\n      <td>693726</td>\n    </tr>\n    <tr>\n      <th>1</th>\n      <td>70</td>\n      <td>1.0</td>\n      <td>01/nm0000001_rm3343756032_1899-5-10_1970.jpg</td>\n      <td>Fred Astaire</td>\n      <td>[477.184, 100.352, 622.592, 245.76]</td>\n      <td>1.852008</td>\n      <td>1900</td>\n      <td>6488</td>\n      <td>2.543198</td>\n      <td>1970</td>\n      <td>693726</td>\n    </tr>\n    <tr>\n      <th>2</th>\n      <td>68</td>\n      <td>1.0</td>\n      <td>01/nm0000001_rm577153792_1899-5-10_1968.jpg</td>\n      <td>Fred Astaire</td>\n      <td>[114.96964308962852, 114.96964308962852, 451.6...</td>\n      <td>2.985660</td>\n      <td>1900</td>\n      <td>6488</td>\n      <td>3.455579</td>\n      <td>1968</td>\n      <td>693726</td>\n    </tr>\n    <tr>\n      <th>3</th>\n      <td>68</td>\n      <td>1.0</td>\n      <td>01/nm0000001_rm946909184_1899-5-10_1968.jpg</td>\n      <td>Fred Astaire</td>\n      <td>[622.8855056426588, 424.21750383700805, 844.33...</td>\n      <td>NaN</td>\n      <td>1900</td>\n      <td>6488</td>\n      <td>1.872117</td>\n      <td>1968</td>\n      <td>693726</td>\n    </tr>\n    <tr>\n      <th>4</th>\n      <td>68</td>\n      <td>1.0</td>\n      <td>01/nm0000001_rm980463616_1899-5-10_1968.jpg</td>\n      <td>Fred Astaire</td>\n      <td>[1013.8590023603723, 233.8820422075853, 1201.5...</td>\n      <td>NaN</td>\n      <td>1900</td>\n      <td>6488</td>\n      <td>1.158766</td>\n      <td>1968</td>\n      <td>693726</td>\n    </tr>\n  </tbody>\n</table>\n</div>"
     },
     "execution_count": 6,
     "metadata": {},
     "output_type": "execute_result"
    }
   ],
   "source": [
    "# Reorder columns\n",
    "columns = df.columns.tolist()\n",
    "head = ['age', 'gender', 'full_path', 'name', 'face_location']\n",
    "tail = set(columns) - set(head)\n",
    "ordered_columns = head + list(tail)\n",
    "# Ordered columns\n",
    "df = df[ordered_columns]\n",
    "df.head()"
   ],
   "metadata": {
    "collapsed": false,
    "pycharm": {
     "name": "#%%\n"
    }
   }
  },
  {
   "cell_type": "code",
   "execution_count": 7,
   "outputs": [
    {
     "name": "stdout",
     "output_type": "stream",
     "text": [
      "Len before:  460723\n",
      "Lean after:  451571\n",
      "Invalid rows: 1.986%\n"
     ]
    }
   ],
   "source": [
    "# Remove invalid rows\n",
    "len_before = len(df)\n",
    "print('Len before: ', len_before)\n",
    "df = df.query('age<=100')\n",
    "df = df[df.gender.notna()]\n",
    "df = df[df.age.notna()]\n",
    "len_after = len(df)\n",
    "print('Lean after: ', len_after)\n",
    "print(f'Invalid rows: {(1 - len_after/len_before)*100:.3f}%')"
   ],
   "metadata": {
    "collapsed": false,
    "pycharm": {
     "name": "#%%\n"
    }
   }
  },
  {
   "cell_type": "code",
   "execution_count": 8,
   "outputs": [],
   "source": [
    "# CHECK FUNCTIONS: if the image is too little then we discard it; if the image has padding, we discard it\n",
    "\n",
    "def areRowsEqual(rows):\n",
    "    check = False\n",
    "    for i in range(1, len(rows)):\n",
    "        if (rows[i-1] == rows[i]).all():\n",
    "            check = True\n",
    "        else:\n",
    "            check = False\n",
    "    return check\n",
    "\n",
    "def areColsEqual(cols):\n",
    "    return areRowsEqual(np.moveaxis(cols, 0, 1))\n",
    "\n",
    "def isImagePadded(img, number_equal_rows=5):\n",
    "    nr = number_equal_rows\n",
    "    return areRowsEqual(img[:nr,:,:]) or areRowsEqual(img[-nr:,:,:]) or \\\n",
    "            areColsEqual(img[:,:nr,:]) or areColsEqual(img[:,-nr:,:])\n",
    "\n",
    "def isImageTooLittle(img, smallest_dim=124):\n",
    "    if img.shape[0] <= smallest_dim or img.shape[1] <= smallest_dim:\n",
    "        return True\n",
    "    else:\n",
    "        return False"
   ],
   "metadata": {
    "collapsed": false,
    "pycharm": {
     "name": "#%%\n"
    }
   }
  },
  {
   "cell_type": "code",
   "execution_count": 9,
   "outputs": [
    {
     "name": "stdout",
     "output_type": "stream",
     "text": [
      "Len before:  451571\n"
     ]
    },
    {
     "name": "stderr",
     "output_type": "stream",
     "text": [
      "100%|██████████| 451571/451571 [3:10:40<00:00, 39.47it/s]   "
     ]
    },
    {
     "name": "stdout",
     "output_type": "stream",
     "text": [
      "Lean after:  451571\n",
      "Invalid rows: 0.000%\n"
     ]
    },
    {
     "name": "stderr",
     "output_type": "stream",
     "text": [
      "\n"
     ]
    }
   ],
   "source": [
    "# Remove invalid images\n",
    "len_before = len(df)\n",
    "print('Len before: ', len_before)\n",
    "\n",
    "with tqdm(total=df.shape[0]) as pbar:\n",
    "    for index,row in df.iterrows():\n",
    "        img = cv2.imread('../dataset/imdb_crop/' + row.full_path)\n",
    "        if isImageTooLittle(img) or isImagePadded(img):\n",
    "            df.drop(index, inplace=True)\n",
    "        pbar.update(1)\n",
    "\n",
    "len_after = len(df)\n",
    "print('Lean after: ', len_after)\n",
    "print(f'Invalid rows: {(1 - len_after/len_before)*100:.3f}%')"
   ],
   "metadata": {
    "collapsed": false,
    "pycharm": {
     "name": "#%%\n"
    }
   }
  },
  {
   "cell_type": "code",
   "execution_count": 13,
   "outputs": [
    {
     "name": "stdout",
     "output_type": "stream",
     "text": [
      "Lean after:  280844\n",
      "Invalid rows: 37.807%\n"
     ]
    }
   ],
   "source": [
    "print('Lean after: ', len_after)\n",
    "print(f'Invalid rows: {(1 - len_after/len_before)*100:.3f}%')"
   ],
   "metadata": {
    "collapsed": false,
    "pycharm": {
     "name": "#%%\n"
    }
   }
  },
  {
   "cell_type": "code",
   "execution_count": 4,
   "outputs": [
    {
     "ename": "NameError",
     "evalue": "name 'df' is not defined",
     "output_type": "error",
     "traceback": [
      "\u001B[1;31m---------------------------------------------------------------------------\u001B[0m",
      "\u001B[1;31mNameError\u001B[0m                                 Traceback (most recent call last)",
      "\u001B[1;32m~\\AppData\\Local\\Temp/ipykernel_1280/94663437.py\u001B[0m in \u001B[0;36m<module>\u001B[1;34m\u001B[0m\n\u001B[0;32m      5\u001B[0m \u001B[1;33m\u001B[0m\u001B[0m\n\u001B[0;32m      6\u001B[0m \u001B[0mpath_serialized\u001B[0m \u001B[1;33m=\u001B[0m \u001B[0mpath\u001B[0m\u001B[1;33m.\u001B[0m\u001B[0mjoin\u001B[0m\u001B[1;33m(\u001B[0m\u001B[0mhead\u001B[0m\u001B[1;33m,\u001B[0m \u001B[1;34m'imdb.pickle'\u001B[0m\u001B[1;33m)\u001B[0m\u001B[1;33m\u001B[0m\u001B[1;33m\u001B[0m\u001B[0m\n\u001B[1;32m----> 7\u001B[1;33m \u001B[0mdf\u001B[0m\u001B[1;33m.\u001B[0m\u001B[0mto_pickle\u001B[0m\u001B[1;33m(\u001B[0m\u001B[0mpath_serialized\u001B[0m\u001B[1;33m)\u001B[0m\u001B[1;33m\u001B[0m\u001B[1;33m\u001B[0m\u001B[0m\n\u001B[0m\u001B[0;32m      8\u001B[0m \u001B[1;33m\u001B[0m\u001B[0m\n",
      "\u001B[1;31mNameError\u001B[0m: name 'df' is not defined"
     ]
    }
   ],
   "source": [
    "from os import path\n",
    "\n",
    "# Dump dataframe\n",
    "head, tail = path.split(METADATA_CROPPED_FILE_MATLAB)\n",
    "\n",
    "path_serialized = path.join(head, 'imdb.pickle')\n",
    "df.to_pickle(path_serialized)"
   ],
   "metadata": {
    "collapsed": false,
    "pycharm": {
     "name": "#%%\n"
    }
   }
  },
  {
   "cell_type": "code",
   "execution_count": 5,
   "outputs": [
    {
     "data": {
      "text/plain": "   age  gender                                     full_path           name  \\\n0   68     1.0   01/nm0000001_rm124825600_1899-5-10_1968.jpg   Fred Astaire   \n1   70     1.0  01/nm0000001_rm3343756032_1899-5-10_1970.jpg   Fred Astaire   \n3   68     1.0   01/nm0000001_rm946909184_1899-5-10_1968.jpg   Fred Astaire   \n4   68     1.0   01/nm0000001_rm980463616_1899-5-10_1968.jpg   Fred Astaire   \n5   66     0.0  02/nm0000002_rm1075631616_1924-9-16_1991.jpg  Lauren Bacall   \n\n                                       face_location  second_face_score  \\\n0  [1072.926, 161.838, 1214.7839999999999, 303.69...           1.118973   \n1                [477.184, 100.352, 622.592, 245.76]           1.852008   \n3  [622.8855056426588, 424.21750383700805, 844.33...                NaN   \n4  [1013.8590023603723, 233.8820422075853, 1201.5...                NaN   \n5  [686.6768205940973, 458.4672137293982, 1198.10...           1.345335   \n\n   standard_dob  celeb_id  face_score  photo_taken     dob  \n0          1900      6488    1.459693         1968  693726  \n1          1900      6488    2.543198         1970  693726  \n3          1900      6488    1.872117         1968  693726  \n4          1900      6488    1.158766         1968  693726  \n5          1925     11516    3.490563         1991  702986  ",
      "text/html": "<div>\n<style scoped>\n    .dataframe tbody tr th:only-of-type {\n        vertical-align: middle;\n    }\n\n    .dataframe tbody tr th {\n        vertical-align: top;\n    }\n\n    .dataframe thead th {\n        text-align: right;\n    }\n</style>\n<table border=\"1\" class=\"dataframe\">\n  <thead>\n    <tr style=\"text-align: right;\">\n      <th></th>\n      <th>age</th>\n      <th>gender</th>\n      <th>full_path</th>\n      <th>name</th>\n      <th>face_location</th>\n      <th>second_face_score</th>\n      <th>standard_dob</th>\n      <th>celeb_id</th>\n      <th>face_score</th>\n      <th>photo_taken</th>\n      <th>dob</th>\n    </tr>\n  </thead>\n  <tbody>\n    <tr>\n      <th>0</th>\n      <td>68</td>\n      <td>1.0</td>\n      <td>01/nm0000001_rm124825600_1899-5-10_1968.jpg</td>\n      <td>Fred Astaire</td>\n      <td>[1072.926, 161.838, 1214.7839999999999, 303.69...</td>\n      <td>1.118973</td>\n      <td>1900</td>\n      <td>6488</td>\n      <td>1.459693</td>\n      <td>1968</td>\n      <td>693726</td>\n    </tr>\n    <tr>\n      <th>1</th>\n      <td>70</td>\n      <td>1.0</td>\n      <td>01/nm0000001_rm3343756032_1899-5-10_1970.jpg</td>\n      <td>Fred Astaire</td>\n      <td>[477.184, 100.352, 622.592, 245.76]</td>\n      <td>1.852008</td>\n      <td>1900</td>\n      <td>6488</td>\n      <td>2.543198</td>\n      <td>1970</td>\n      <td>693726</td>\n    </tr>\n    <tr>\n      <th>3</th>\n      <td>68</td>\n      <td>1.0</td>\n      <td>01/nm0000001_rm946909184_1899-5-10_1968.jpg</td>\n      <td>Fred Astaire</td>\n      <td>[622.8855056426588, 424.21750383700805, 844.33...</td>\n      <td>NaN</td>\n      <td>1900</td>\n      <td>6488</td>\n      <td>1.872117</td>\n      <td>1968</td>\n      <td>693726</td>\n    </tr>\n    <tr>\n      <th>4</th>\n      <td>68</td>\n      <td>1.0</td>\n      <td>01/nm0000001_rm980463616_1899-5-10_1968.jpg</td>\n      <td>Fred Astaire</td>\n      <td>[1013.8590023603723, 233.8820422075853, 1201.5...</td>\n      <td>NaN</td>\n      <td>1900</td>\n      <td>6488</td>\n      <td>1.158766</td>\n      <td>1968</td>\n      <td>693726</td>\n    </tr>\n    <tr>\n      <th>5</th>\n      <td>66</td>\n      <td>0.0</td>\n      <td>02/nm0000002_rm1075631616_1924-9-16_1991.jpg</td>\n      <td>Lauren Bacall</td>\n      <td>[686.6768205940973, 458.4672137293982, 1198.10...</td>\n      <td>1.345335</td>\n      <td>1925</td>\n      <td>11516</td>\n      <td>3.490563</td>\n      <td>1991</td>\n      <td>702986</td>\n    </tr>\n  </tbody>\n</table>\n</div>"
     },
     "execution_count": 5,
     "metadata": {},
     "output_type": "execute_result"
    }
   ],
   "source": [
    "# Test read\n",
    "df = pd.read_pickle(path_serialized)\n",
    "df.head()"
   ],
   "metadata": {
    "collapsed": false,
    "pycharm": {
     "name": "#%%\n"
    }
   }
  },
  {
   "cell_type": "code",
   "execution_count": 6,
   "outputs": [
    {
     "data": {
      "text/plain": "                 age         gender  second_face_score   standard_dob  \\\ncount  280844.000000  280844.000000      146906.000000  280844.000000   \nmean       36.164258       0.577128           2.485057    1969.365993   \nstd        13.148274       0.494016           1.092884      15.691095   \nmin         0.000000       0.000000           0.730926    1884.000000   \n25%        27.000000       0.000000           1.593553    1962.000000   \n50%        35.000000       1.000000           2.373423    1972.000000   \n75%        44.000000       1.000000           3.277556    1980.000000   \nmax       100.000000       1.000000           6.395435    2009.000000   \n\n            celeb_id     face_score    photo_taken            dob  \ncount  280844.000000  280844.000000  280844.000000  280844.000000  \nmean    10119.464236       3.362345    2005.530252  719113.598813  \nstd      5739.357341       1.238619       9.915925    5730.534448  \nmin         1.000000       0.730919    1961.000000  687776.000000  \n25%      5355.000000       2.435448    2004.000000  716241.000000  \n50%     10068.000000       3.382505    2009.000000  719928.000000  \n75%     14925.000000       4.313906    2012.000000  723127.000000  \nmax     20284.000000       7.381689    2015.000000  733668.000000  ",
      "text/html": "<div>\n<style scoped>\n    .dataframe tbody tr th:only-of-type {\n        vertical-align: middle;\n    }\n\n    .dataframe tbody tr th {\n        vertical-align: top;\n    }\n\n    .dataframe thead th {\n        text-align: right;\n    }\n</style>\n<table border=\"1\" class=\"dataframe\">\n  <thead>\n    <tr style=\"text-align: right;\">\n      <th></th>\n      <th>age</th>\n      <th>gender</th>\n      <th>second_face_score</th>\n      <th>standard_dob</th>\n      <th>celeb_id</th>\n      <th>face_score</th>\n      <th>photo_taken</th>\n      <th>dob</th>\n    </tr>\n  </thead>\n  <tbody>\n    <tr>\n      <th>count</th>\n      <td>280844.000000</td>\n      <td>280844.000000</td>\n      <td>146906.000000</td>\n      <td>280844.000000</td>\n      <td>280844.000000</td>\n      <td>280844.000000</td>\n      <td>280844.000000</td>\n      <td>280844.000000</td>\n    </tr>\n    <tr>\n      <th>mean</th>\n      <td>36.164258</td>\n      <td>0.577128</td>\n      <td>2.485057</td>\n      <td>1969.365993</td>\n      <td>10119.464236</td>\n      <td>3.362345</td>\n      <td>2005.530252</td>\n      <td>719113.598813</td>\n    </tr>\n    <tr>\n      <th>std</th>\n      <td>13.148274</td>\n      <td>0.494016</td>\n      <td>1.092884</td>\n      <td>15.691095</td>\n      <td>5739.357341</td>\n      <td>1.238619</td>\n      <td>9.915925</td>\n      <td>5730.534448</td>\n    </tr>\n    <tr>\n      <th>min</th>\n      <td>0.000000</td>\n      <td>0.000000</td>\n      <td>0.730926</td>\n      <td>1884.000000</td>\n      <td>1.000000</td>\n      <td>0.730919</td>\n      <td>1961.000000</td>\n      <td>687776.000000</td>\n    </tr>\n    <tr>\n      <th>25%</th>\n      <td>27.000000</td>\n      <td>0.000000</td>\n      <td>1.593553</td>\n      <td>1962.000000</td>\n      <td>5355.000000</td>\n      <td>2.435448</td>\n      <td>2004.000000</td>\n      <td>716241.000000</td>\n    </tr>\n    <tr>\n      <th>50%</th>\n      <td>35.000000</td>\n      <td>1.000000</td>\n      <td>2.373423</td>\n      <td>1972.000000</td>\n      <td>10068.000000</td>\n      <td>3.382505</td>\n      <td>2009.000000</td>\n      <td>719928.000000</td>\n    </tr>\n    <tr>\n      <th>75%</th>\n      <td>44.000000</td>\n      <td>1.000000</td>\n      <td>3.277556</td>\n      <td>1980.000000</td>\n      <td>14925.000000</td>\n      <td>4.313906</td>\n      <td>2012.000000</td>\n      <td>723127.000000</td>\n    </tr>\n    <tr>\n      <th>max</th>\n      <td>100.000000</td>\n      <td>1.000000</td>\n      <td>6.395435</td>\n      <td>2009.000000</td>\n      <td>20284.000000</td>\n      <td>7.381689</td>\n      <td>2015.000000</td>\n      <td>733668.000000</td>\n    </tr>\n  </tbody>\n</table>\n</div>"
     },
     "execution_count": 6,
     "metadata": {},
     "output_type": "execute_result"
    }
   ],
   "source": [
    "df.describe()"
   ],
   "metadata": {
    "collapsed": false,
    "pycharm": {
     "name": "#%%\n"
    }
   }
  },
  {
   "cell_type": "code",
   "execution_count": null,
   "outputs": [],
   "source": [],
   "metadata": {
    "collapsed": false,
    "pycharm": {
     "name": "#%%\n"
    }
   }
  }
 ],
 "metadata": {
  "kernelspec": {
   "display_name": "Python 3",
   "language": "python",
   "name": "python3"
  },
  "language_info": {
   "codemirror_mode": {
    "name": "ipython",
    "version": 2
   },
   "file_extension": ".py",
   "mimetype": "text/x-python",
   "name": "python",
   "nbconvert_exporter": "python",
   "pygments_lexer": "ipython2",
   "version": "2.7.6"
  }
 },
 "nbformat": 4,
 "nbformat_minor": 0
}