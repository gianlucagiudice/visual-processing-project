{
 "cells": [
  {
   "cell_type": "markdown",
   "source": [
    "# METADATA CONVERSION\n",
    "\n",
    "Download dataset IMDB - faces only (7 GB) from https://data.vision.ee.ethz.ch/cvl/rrothe/imdb-wiki/\n",
    "Copy the downloaded directory imdb_crop in the project folder dataset/, then run this notebook.\n",
    "\n",
    "This notebook converts the imdb_crop images metadata from Matlab format into Pandas format, so they can be used with Python.\n",
    "\n",
    "The ML models for classification must inherit from src/models/Model, the DataManager class reads the images and extracts the labels"
   ],
   "metadata": {
    "collapsed": false,
    "pycharm": {
     "name": "#%% md\n"
    }
   }
  },
  {
   "cell_type": "code",
   "execution_count": 12,
   "outputs": [],
   "source": [
    "import cv2\n",
    "import pandas as pd\n",
    "import scipy.io as sio\n",
    "from tqdm import tqdm\n",
    "\n",
    "from src.DataManager import reorder_columns, remove_invalid_rows, remove_invalid_images"
   ],
   "metadata": {
    "collapsed": false,
    "pycharm": {
     "name": "#%%\n"
    }
   }
  },
  {
   "cell_type": "code",
   "execution_count": 13,
   "metadata": {
    "collapsed": true
   },
   "outputs": [],
   "source": [
    "# Matlab file path\n",
    "METADATA_DESTINATION = '../dataset/imdb_crop/'\n",
    "METADATA_CROPPED_FILE_MATLAB = METADATA_DESTINATION + 'imdb.mat'\n",
    "SMALLEST_DIMENSION = 224"
   ]
  },
  {
   "cell_type": "code",
   "execution_count": 14,
   "outputs": [],
   "source": [
    "mat_obj = sio.loadmat(METADATA_CROPPED_FILE_MATLAB)\n",
    "mat_dta = mat_obj['imdb']\n",
    "data_dict = {n: mat_dta[n][0, 0][0] for n in mat_dta.dtype.names}\n",
    "# Extract celebrities names\n",
    "celeb_names_dict = {k: v for k, v in enumerate(data_dict['celeb_names'], 1)}\n",
    "# Remove key from dict\n",
    "_ = data_dict.pop('celeb_names', None)"
   ],
   "metadata": {
    "collapsed": false,
    "pycharm": {
     "name": "#%%\n"
    }
   }
  },
  {
   "cell_type": "code",
   "execution_count": 15,
   "outputs": [
    {
     "data": {
      "text/plain": "      dob  photo_taken                                       full_path  \\\n0  693726         1968   [01/nm0000001_rm124825600_1899-5-10_1968.jpg]   \n1  693726         1970  [01/nm0000001_rm3343756032_1899-5-10_1970.jpg]   \n2  693726         1968   [01/nm0000001_rm577153792_1899-5-10_1968.jpg]   \n3  693726         1968   [01/nm0000001_rm946909184_1899-5-10_1968.jpg]   \n4  693726         1968   [01/nm0000001_rm980463616_1899-5-10_1968.jpg]   \n\n   gender            name                                      face_location  \\\n0     1.0  [Fred Astaire]  [[1072.926, 161.838, 1214.7839999999999, 303.6...   \n1     1.0  [Fred Astaire]              [[477.184, 100.352, 622.592, 245.76]]   \n2     1.0  [Fred Astaire]  [[114.96964308962852, 114.96964308962852, 451....   \n3     1.0  [Fred Astaire]  [[622.8855056426588, 424.21750383700805, 844.3...   \n4     1.0  [Fred Astaire]  [[1013.8590023603723, 233.8820422075853, 1201....   \n\n   face_score  second_face_score  celeb_id  \n0    1.459693           1.118973      6488  \n1    2.543198           1.852008      6488  \n2    3.455579           2.985660      6488  \n3    1.872117                NaN      6488  \n4    1.158766                NaN      6488  ",
      "text/html": "<div>\n<style scoped>\n    .dataframe tbody tr th:only-of-type {\n        vertical-align: middle;\n    }\n\n    .dataframe tbody tr th {\n        vertical-align: top;\n    }\n\n    .dataframe thead th {\n        text-align: right;\n    }\n</style>\n<table border=\"1\" class=\"dataframe\">\n  <thead>\n    <tr style=\"text-align: right;\">\n      <th></th>\n      <th>dob</th>\n      <th>photo_taken</th>\n      <th>full_path</th>\n      <th>gender</th>\n      <th>name</th>\n      <th>face_location</th>\n      <th>face_score</th>\n      <th>second_face_score</th>\n      <th>celeb_id</th>\n    </tr>\n  </thead>\n  <tbody>\n    <tr>\n      <th>0</th>\n      <td>693726</td>\n      <td>1968</td>\n      <td>[01/nm0000001_rm124825600_1899-5-10_1968.jpg]</td>\n      <td>1.0</td>\n      <td>[Fred Astaire]</td>\n      <td>[[1072.926, 161.838, 1214.7839999999999, 303.6...</td>\n      <td>1.459693</td>\n      <td>1.118973</td>\n      <td>6488</td>\n    </tr>\n    <tr>\n      <th>1</th>\n      <td>693726</td>\n      <td>1970</td>\n      <td>[01/nm0000001_rm3343756032_1899-5-10_1970.jpg]</td>\n      <td>1.0</td>\n      <td>[Fred Astaire]</td>\n      <td>[[477.184, 100.352, 622.592, 245.76]]</td>\n      <td>2.543198</td>\n      <td>1.852008</td>\n      <td>6488</td>\n    </tr>\n    <tr>\n      <th>2</th>\n      <td>693726</td>\n      <td>1968</td>\n      <td>[01/nm0000001_rm577153792_1899-5-10_1968.jpg]</td>\n      <td>1.0</td>\n      <td>[Fred Astaire]</td>\n      <td>[[114.96964308962852, 114.96964308962852, 451....</td>\n      <td>3.455579</td>\n      <td>2.985660</td>\n      <td>6488</td>\n    </tr>\n    <tr>\n      <th>3</th>\n      <td>693726</td>\n      <td>1968</td>\n      <td>[01/nm0000001_rm946909184_1899-5-10_1968.jpg]</td>\n      <td>1.0</td>\n      <td>[Fred Astaire]</td>\n      <td>[[622.8855056426588, 424.21750383700805, 844.3...</td>\n      <td>1.872117</td>\n      <td>NaN</td>\n      <td>6488</td>\n    </tr>\n    <tr>\n      <th>4</th>\n      <td>693726</td>\n      <td>1968</td>\n      <td>[01/nm0000001_rm980463616_1899-5-10_1968.jpg]</td>\n      <td>1.0</td>\n      <td>[Fred Astaire]</td>\n      <td>[[1013.8590023603723, 233.8820422075853, 1201....</td>\n      <td>1.158766</td>\n      <td>NaN</td>\n      <td>6488</td>\n    </tr>\n  </tbody>\n</table>\n</div>"
     },
     "execution_count": 15,
     "metadata": {},
     "output_type": "execute_result"
    }
   ],
   "source": [
    "df = pd.DataFrame.from_dict(data_dict)\n",
    "df.head()"
   ],
   "metadata": {
    "collapsed": false,
    "pycharm": {
     "name": "#%%\n"
    }
   }
  },
  {
   "cell_type": "code",
   "execution_count": 16,
   "outputs": [],
   "source": [
    "from datetime import datetime, timedelta\n",
    "\n",
    "matlab2datetime = lambda matlab_datenum: (\n",
    "        datetime.fromordinal(int(matlab_datenum)) + timedelta(days=matlab_datenum % 1)).year\n",
    "\n",
    "# Extract full path\n",
    "df['full_path'] = df['full_path'].apply(lambda x: x[0]).astype('str')\n",
    "# Extract face location\n",
    "df['face_location'] = df['face_location'].apply(lambda x: x[0])\n",
    "# Extract face location\n",
    "df['name'] = df['name'].apply(lambda x: x[0]).astype('str')\n",
    "# Convert dab to standard datetime\n",
    "df['standard_dob'] = df['dob'].apply(matlab2datetime).astype('uint16')\n",
    "# Compute age\n",
    "df['age'] = df.apply(lambda x: x['photo_taken'] - x['standard_dob'], axis=1).astype('uint16')"
   ],
   "metadata": {
    "collapsed": false,
    "pycharm": {
     "name": "#%%\n"
    }
   }
  },
  {
   "cell_type": "code",
   "execution_count": 17,
   "outputs": [
    {
     "data": {
      "text/plain": "   age  gender                                     full_path          name  \\\n0   68     1.0   01/nm0000001_rm124825600_1899-5-10_1968.jpg  Fred Astaire   \n1   70     1.0  01/nm0000001_rm3343756032_1899-5-10_1970.jpg  Fred Astaire   \n2   68     1.0   01/nm0000001_rm577153792_1899-5-10_1968.jpg  Fred Astaire   \n3   68     1.0   01/nm0000001_rm946909184_1899-5-10_1968.jpg  Fred Astaire   \n4   68     1.0   01/nm0000001_rm980463616_1899-5-10_1968.jpg  Fred Astaire   \n\n                                       face_location  face_score     dob  \\\n0  [1072.926, 161.838, 1214.7839999999999, 303.69...    1.459693  693726   \n1                [477.184, 100.352, 622.592, 245.76]    2.543198  693726   \n2  [114.96964308962852, 114.96964308962852, 451.6...    3.455579  693726   \n3  [622.8855056426588, 424.21750383700805, 844.33...    1.872117  693726   \n4  [1013.8590023603723, 233.8820422075853, 1201.5...    1.158766  693726   \n\n   celeb_id  photo_taken  second_face_score  standard_dob  \n0      6488         1968           1.118973          1900  \n1      6488         1970           1.852008          1900  \n2      6488         1968           2.985660          1900  \n3      6488         1968                NaN          1900  \n4      6488         1968                NaN          1900  ",
      "text/html": "<div>\n<style scoped>\n    .dataframe tbody tr th:only-of-type {\n        vertical-align: middle;\n    }\n\n    .dataframe tbody tr th {\n        vertical-align: top;\n    }\n\n    .dataframe thead th {\n        text-align: right;\n    }\n</style>\n<table border=\"1\" class=\"dataframe\">\n  <thead>\n    <tr style=\"text-align: right;\">\n      <th></th>\n      <th>age</th>\n      <th>gender</th>\n      <th>full_path</th>\n      <th>name</th>\n      <th>face_location</th>\n      <th>face_score</th>\n      <th>dob</th>\n      <th>celeb_id</th>\n      <th>photo_taken</th>\n      <th>second_face_score</th>\n      <th>standard_dob</th>\n    </tr>\n  </thead>\n  <tbody>\n    <tr>\n      <th>0</th>\n      <td>68</td>\n      <td>1.0</td>\n      <td>01/nm0000001_rm124825600_1899-5-10_1968.jpg</td>\n      <td>Fred Astaire</td>\n      <td>[1072.926, 161.838, 1214.7839999999999, 303.69...</td>\n      <td>1.459693</td>\n      <td>693726</td>\n      <td>6488</td>\n      <td>1968</td>\n      <td>1.118973</td>\n      <td>1900</td>\n    </tr>\n    <tr>\n      <th>1</th>\n      <td>70</td>\n      <td>1.0</td>\n      <td>01/nm0000001_rm3343756032_1899-5-10_1970.jpg</td>\n      <td>Fred Astaire</td>\n      <td>[477.184, 100.352, 622.592, 245.76]</td>\n      <td>2.543198</td>\n      <td>693726</td>\n      <td>6488</td>\n      <td>1970</td>\n      <td>1.852008</td>\n      <td>1900</td>\n    </tr>\n    <tr>\n      <th>2</th>\n      <td>68</td>\n      <td>1.0</td>\n      <td>01/nm0000001_rm577153792_1899-5-10_1968.jpg</td>\n      <td>Fred Astaire</td>\n      <td>[114.96964308962852, 114.96964308962852, 451.6...</td>\n      <td>3.455579</td>\n      <td>693726</td>\n      <td>6488</td>\n      <td>1968</td>\n      <td>2.985660</td>\n      <td>1900</td>\n    </tr>\n    <tr>\n      <th>3</th>\n      <td>68</td>\n      <td>1.0</td>\n      <td>01/nm0000001_rm946909184_1899-5-10_1968.jpg</td>\n      <td>Fred Astaire</td>\n      <td>[622.8855056426588, 424.21750383700805, 844.33...</td>\n      <td>1.872117</td>\n      <td>693726</td>\n      <td>6488</td>\n      <td>1968</td>\n      <td>NaN</td>\n      <td>1900</td>\n    </tr>\n    <tr>\n      <th>4</th>\n      <td>68</td>\n      <td>1.0</td>\n      <td>01/nm0000001_rm980463616_1899-5-10_1968.jpg</td>\n      <td>Fred Astaire</td>\n      <td>[1013.8590023603723, 233.8820422075853, 1201.5...</td>\n      <td>1.158766</td>\n      <td>693726</td>\n      <td>6488</td>\n      <td>1968</td>\n      <td>NaN</td>\n      <td>1900</td>\n    </tr>\n  </tbody>\n</table>\n</div>"
     },
     "execution_count": 17,
     "metadata": {},
     "output_type": "execute_result"
    }
   ],
   "source": [
    "# Reorder columns\n",
    "head = ['age', 'gender', 'full_path', 'name', 'face_location']\n",
    "df = reorder_columns(dataset=df, head=head)\n",
    "df.head()"
   ],
   "metadata": {
    "collapsed": false,
    "pycharm": {
     "name": "#%%\n"
    }
   }
  },
  {
   "cell_type": "code",
   "execution_count": 18,
   "outputs": [
    {
     "name": "stdout",
     "output_type": "stream",
     "text": [
      "Len before:  460723\n",
      "Len after:  451571\n",
      "Invalid rows: 1.986%\n"
     ]
    }
   ],
   "source": [
    "# Remove invalid rows\n",
    "df = remove_invalid_rows(dataset=df)"
   ],
   "metadata": {
    "collapsed": false,
    "pycharm": {
     "name": "#%%\n"
    }
   }
  },
  {
   "cell_type": "code",
   "execution_count": 19,
   "outputs": [
    {
     "name": "stdout",
     "output_type": "stream",
     "text": [
      "Len before:  451571\n"
     ]
    },
    {
     "name": "stderr",
     "output_type": "stream",
     "text": [
      "  0%|          | 235/451571 [00:10<5:50:05, 21.49it/s]\n"
     ]
    },
    {
     "ename": "KeyboardInterrupt",
     "evalue": "",
     "output_type": "error",
     "traceback": [
      "\u001B[1;31m---------------------------------------------------------------------------\u001B[0m",
      "\u001B[1;31mKeyboardInterrupt\u001B[0m                         Traceback (most recent call last)",
      "\u001B[1;32m~\\AppData\\Local\\Temp/ipykernel_3432/4126442894.py\u001B[0m in \u001B[0;36m<module>\u001B[1;34m\u001B[0m\n\u001B[0;32m      1\u001B[0m \u001B[1;31m# Remove invalid images\u001B[0m\u001B[1;33m\u001B[0m\u001B[1;33m\u001B[0m\u001B[1;33m\u001B[0m\u001B[0m\n\u001B[1;32m----> 2\u001B[1;33m \u001B[0mdf\u001B[0m \u001B[1;33m=\u001B[0m \u001B[0mremove_invalid_images\u001B[0m\u001B[1;33m(\u001B[0m\u001B[0mdataset\u001B[0m\u001B[1;33m=\u001B[0m\u001B[0mdf\u001B[0m\u001B[1;33m,\u001B[0m \u001B[0mpath\u001B[0m\u001B[1;33m=\u001B[0m\u001B[0mMETADATA_DESTINATION\u001B[0m\u001B[1;33m,\u001B[0m \u001B[0msmallest_dim\u001B[0m\u001B[1;33m=\u001B[0m\u001B[0mSMALLEST_DIMENSION\u001B[0m\u001B[1;33m)\u001B[0m\u001B[1;33m\u001B[0m\u001B[1;33m\u001B[0m\u001B[0m\n\u001B[0m\u001B[0;32m      3\u001B[0m \u001B[1;33m\u001B[0m\u001B[0m\n",
      "\u001B[1;32m~\\PycharmProjects\\visual-processing-project\\src\\DataManager.py\u001B[0m in \u001B[0;36mremove_invalid_images\u001B[1;34m(dataset, path, smallest_dim)\u001B[0m\n\u001B[0;32m     98\u001B[0m             \u001B[0mimg\u001B[0m \u001B[1;33m=\u001B[0m \u001B[0mcv2\u001B[0m\u001B[1;33m.\u001B[0m\u001B[0mimread\u001B[0m\u001B[1;33m(\u001B[0m\u001B[0mpath\u001B[0m \u001B[1;33m+\u001B[0m \u001B[0mrow\u001B[0m\u001B[1;33m.\u001B[0m\u001B[0mfull_path\u001B[0m\u001B[1;33m)\u001B[0m\u001B[1;33m\u001B[0m\u001B[1;33m\u001B[0m\u001B[0m\n\u001B[0;32m     99\u001B[0m             \u001B[1;32mif\u001B[0m \u001B[0mis_image_too_little\u001B[0m\u001B[1;33m(\u001B[0m\u001B[0mimg\u001B[0m\u001B[1;33m,\u001B[0m \u001B[0msmallest_dim\u001B[0m\u001B[1;33m=\u001B[0m\u001B[0msmallest_dim\u001B[0m\u001B[1;33m)\u001B[0m \u001B[1;32mor\u001B[0m \u001B[0mis_image_padded\u001B[0m\u001B[1;33m(\u001B[0m\u001B[0mimg\u001B[0m\u001B[1;33m)\u001B[0m\u001B[1;33m:\u001B[0m\u001B[1;33m\u001B[0m\u001B[1;33m\u001B[0m\u001B[0m\n\u001B[1;32m--> 100\u001B[1;33m                 \u001B[0mdataset\u001B[0m\u001B[1;33m.\u001B[0m\u001B[0mdrop\u001B[0m\u001B[1;33m(\u001B[0m\u001B[0mindex\u001B[0m\u001B[1;33m,\u001B[0m \u001B[0minplace\u001B[0m\u001B[1;33m=\u001B[0m\u001B[1;32mTrue\u001B[0m\u001B[1;33m)\u001B[0m\u001B[1;33m\u001B[0m\u001B[1;33m\u001B[0m\u001B[0m\n\u001B[0m\u001B[0;32m    101\u001B[0m             \u001B[0mpbar\u001B[0m\u001B[1;33m.\u001B[0m\u001B[0mupdate\u001B[0m\u001B[1;33m(\u001B[0m\u001B[1;36m1\u001B[0m\u001B[1;33m)\u001B[0m\u001B[1;33m\u001B[0m\u001B[1;33m\u001B[0m\u001B[0m\n\u001B[0;32m    102\u001B[0m \u001B[1;33m\u001B[0m\u001B[0m\n",
      "\u001B[1;32mc:\\users\\lucre\\appdata\\local\\programs\\python\\python39\\lib\\site-packages\\pandas\\util\\_decorators.py\u001B[0m in \u001B[0;36mwrapper\u001B[1;34m(*args, **kwargs)\u001B[0m\n\u001B[0;32m    309\u001B[0m                     \u001B[0mstacklevel\u001B[0m\u001B[1;33m=\u001B[0m\u001B[0mstacklevel\u001B[0m\u001B[1;33m,\u001B[0m\u001B[1;33m\u001B[0m\u001B[1;33m\u001B[0m\u001B[0m\n\u001B[0;32m    310\u001B[0m                 )\n\u001B[1;32m--> 311\u001B[1;33m             \u001B[1;32mreturn\u001B[0m \u001B[0mfunc\u001B[0m\u001B[1;33m(\u001B[0m\u001B[1;33m*\u001B[0m\u001B[0margs\u001B[0m\u001B[1;33m,\u001B[0m \u001B[1;33m**\u001B[0m\u001B[0mkwargs\u001B[0m\u001B[1;33m)\u001B[0m\u001B[1;33m\u001B[0m\u001B[1;33m\u001B[0m\u001B[0m\n\u001B[0m\u001B[0;32m    312\u001B[0m \u001B[1;33m\u001B[0m\u001B[0m\n\u001B[0;32m    313\u001B[0m         \u001B[1;32mreturn\u001B[0m \u001B[0mwrapper\u001B[0m\u001B[1;33m\u001B[0m\u001B[1;33m\u001B[0m\u001B[0m\n",
      "\u001B[1;32mc:\\users\\lucre\\appdata\\local\\programs\\python\\python39\\lib\\site-packages\\pandas\\core\\frame.py\u001B[0m in \u001B[0;36mdrop\u001B[1;34m(self, labels, axis, index, columns, level, inplace, errors)\u001B[0m\n\u001B[0;32m   4904\u001B[0m                 \u001B[0mweight\u001B[0m  \u001B[1;36m1.0\u001B[0m     \u001B[1;36m0.8\u001B[0m\u001B[1;33m\u001B[0m\u001B[1;33m\u001B[0m\u001B[0m\n\u001B[0;32m   4905\u001B[0m         \"\"\"\n\u001B[1;32m-> 4906\u001B[1;33m         return super().drop(\n\u001B[0m\u001B[0;32m   4907\u001B[0m             \u001B[0mlabels\u001B[0m\u001B[1;33m=\u001B[0m\u001B[0mlabels\u001B[0m\u001B[1;33m,\u001B[0m\u001B[1;33m\u001B[0m\u001B[1;33m\u001B[0m\u001B[0m\n\u001B[0;32m   4908\u001B[0m             \u001B[0maxis\u001B[0m\u001B[1;33m=\u001B[0m\u001B[0maxis\u001B[0m\u001B[1;33m,\u001B[0m\u001B[1;33m\u001B[0m\u001B[1;33m\u001B[0m\u001B[0m\n",
      "\u001B[1;32mc:\\users\\lucre\\appdata\\local\\programs\\python\\python39\\lib\\site-packages\\pandas\\core\\generic.py\u001B[0m in \u001B[0;36mdrop\u001B[1;34m(self, labels, axis, index, columns, level, inplace, errors)\u001B[0m\n\u001B[0;32m   4148\u001B[0m         \u001B[1;32mfor\u001B[0m \u001B[0maxis\u001B[0m\u001B[1;33m,\u001B[0m \u001B[0mlabels\u001B[0m \u001B[1;32min\u001B[0m \u001B[0maxes\u001B[0m\u001B[1;33m.\u001B[0m\u001B[0mitems\u001B[0m\u001B[1;33m(\u001B[0m\u001B[1;33m)\u001B[0m\u001B[1;33m:\u001B[0m\u001B[1;33m\u001B[0m\u001B[1;33m\u001B[0m\u001B[0m\n\u001B[0;32m   4149\u001B[0m             \u001B[1;32mif\u001B[0m \u001B[0mlabels\u001B[0m \u001B[1;32mis\u001B[0m \u001B[1;32mnot\u001B[0m \u001B[1;32mNone\u001B[0m\u001B[1;33m:\u001B[0m\u001B[1;33m\u001B[0m\u001B[1;33m\u001B[0m\u001B[0m\n\u001B[1;32m-> 4150\u001B[1;33m                 \u001B[0mobj\u001B[0m \u001B[1;33m=\u001B[0m \u001B[0mobj\u001B[0m\u001B[1;33m.\u001B[0m\u001B[0m_drop_axis\u001B[0m\u001B[1;33m(\u001B[0m\u001B[0mlabels\u001B[0m\u001B[1;33m,\u001B[0m \u001B[0maxis\u001B[0m\u001B[1;33m,\u001B[0m \u001B[0mlevel\u001B[0m\u001B[1;33m=\u001B[0m\u001B[0mlevel\u001B[0m\u001B[1;33m,\u001B[0m \u001B[0merrors\u001B[0m\u001B[1;33m=\u001B[0m\u001B[0merrors\u001B[0m\u001B[1;33m)\u001B[0m\u001B[1;33m\u001B[0m\u001B[1;33m\u001B[0m\u001B[0m\n\u001B[0m\u001B[0;32m   4151\u001B[0m \u001B[1;33m\u001B[0m\u001B[0m\n\u001B[0;32m   4152\u001B[0m         \u001B[1;32mif\u001B[0m \u001B[0minplace\u001B[0m\u001B[1;33m:\u001B[0m\u001B[1;33m\u001B[0m\u001B[1;33m\u001B[0m\u001B[0m\n",
      "\u001B[1;32mc:\\users\\lucre\\appdata\\local\\programs\\python\\python39\\lib\\site-packages\\pandas\\core\\generic.py\u001B[0m in \u001B[0;36m_drop_axis\u001B[1;34m(self, labels, axis, level, errors)\u001B[0m\n\u001B[0;32m   4184\u001B[0m             \u001B[1;32melse\u001B[0m\u001B[1;33m:\u001B[0m\u001B[1;33m\u001B[0m\u001B[1;33m\u001B[0m\u001B[0m\n\u001B[0;32m   4185\u001B[0m                 \u001B[0mnew_axis\u001B[0m \u001B[1;33m=\u001B[0m \u001B[0maxis\u001B[0m\u001B[1;33m.\u001B[0m\u001B[0mdrop\u001B[0m\u001B[1;33m(\u001B[0m\u001B[0mlabels\u001B[0m\u001B[1;33m,\u001B[0m \u001B[0merrors\u001B[0m\u001B[1;33m=\u001B[0m\u001B[0merrors\u001B[0m\u001B[1;33m)\u001B[0m\u001B[1;33m\u001B[0m\u001B[1;33m\u001B[0m\u001B[0m\n\u001B[1;32m-> 4186\u001B[1;33m             \u001B[0mresult\u001B[0m \u001B[1;33m=\u001B[0m \u001B[0mself\u001B[0m\u001B[1;33m.\u001B[0m\u001B[0mreindex\u001B[0m\u001B[1;33m(\u001B[0m\u001B[1;33m**\u001B[0m\u001B[1;33m{\u001B[0m\u001B[0maxis_name\u001B[0m\u001B[1;33m:\u001B[0m \u001B[0mnew_axis\u001B[0m\u001B[1;33m}\u001B[0m\u001B[1;33m)\u001B[0m\u001B[1;33m\u001B[0m\u001B[1;33m\u001B[0m\u001B[0m\n\u001B[0m\u001B[0;32m   4187\u001B[0m \u001B[1;33m\u001B[0m\u001B[0m\n\u001B[0;32m   4188\u001B[0m         \u001B[1;31m# Case for non-unique axis\u001B[0m\u001B[1;33m\u001B[0m\u001B[1;33m\u001B[0m\u001B[1;33m\u001B[0m\u001B[0m\n",
      "\u001B[1;32mc:\\users\\lucre\\appdata\\local\\programs\\python\\python39\\lib\\site-packages\\pandas\\util\\_decorators.py\u001B[0m in \u001B[0;36mwrapper\u001B[1;34m(*args, **kwargs)\u001B[0m\n\u001B[0;32m    322\u001B[0m         \u001B[1;33m@\u001B[0m\u001B[0mwraps\u001B[0m\u001B[1;33m(\u001B[0m\u001B[0mfunc\u001B[0m\u001B[1;33m)\u001B[0m\u001B[1;33m\u001B[0m\u001B[1;33m\u001B[0m\u001B[0m\n\u001B[0;32m    323\u001B[0m         \u001B[1;32mdef\u001B[0m \u001B[0mwrapper\u001B[0m\u001B[1;33m(\u001B[0m\u001B[1;33m*\u001B[0m\u001B[0margs\u001B[0m\u001B[1;33m,\u001B[0m \u001B[1;33m**\u001B[0m\u001B[0mkwargs\u001B[0m\u001B[1;33m)\u001B[0m \u001B[1;33m->\u001B[0m \u001B[0mCallable\u001B[0m\u001B[1;33m[\u001B[0m\u001B[1;33m...\u001B[0m\u001B[1;33m,\u001B[0m \u001B[0mAny\u001B[0m\u001B[1;33m]\u001B[0m\u001B[1;33m:\u001B[0m\u001B[1;33m\u001B[0m\u001B[1;33m\u001B[0m\u001B[0m\n\u001B[1;32m--> 324\u001B[1;33m             \u001B[1;32mreturn\u001B[0m \u001B[0mfunc\u001B[0m\u001B[1;33m(\u001B[0m\u001B[1;33m*\u001B[0m\u001B[0margs\u001B[0m\u001B[1;33m,\u001B[0m \u001B[1;33m**\u001B[0m\u001B[0mkwargs\u001B[0m\u001B[1;33m)\u001B[0m\u001B[1;33m\u001B[0m\u001B[1;33m\u001B[0m\u001B[0m\n\u001B[0m\u001B[0;32m    325\u001B[0m \u001B[1;33m\u001B[0m\u001B[0m\n\u001B[0;32m    326\u001B[0m         \u001B[0mkind\u001B[0m \u001B[1;33m=\u001B[0m \u001B[0minspect\u001B[0m\u001B[1;33m.\u001B[0m\u001B[0mParameter\u001B[0m\u001B[1;33m.\u001B[0m\u001B[0mPOSITIONAL_OR_KEYWORD\u001B[0m\u001B[1;33m\u001B[0m\u001B[1;33m\u001B[0m\u001B[0m\n",
      "\u001B[1;32mc:\\users\\lucre\\appdata\\local\\programs\\python\\python39\\lib\\site-packages\\pandas\\core\\frame.py\u001B[0m in \u001B[0;36mreindex\u001B[1;34m(self, *args, **kwargs)\u001B[0m\n\u001B[0;32m   4770\u001B[0m         \u001B[0mkwargs\u001B[0m\u001B[1;33m.\u001B[0m\u001B[0mpop\u001B[0m\u001B[1;33m(\u001B[0m\u001B[1;34m\"axis\"\u001B[0m\u001B[1;33m,\u001B[0m \u001B[1;32mNone\u001B[0m\u001B[1;33m)\u001B[0m\u001B[1;33m\u001B[0m\u001B[1;33m\u001B[0m\u001B[0m\n\u001B[0;32m   4771\u001B[0m         \u001B[0mkwargs\u001B[0m\u001B[1;33m.\u001B[0m\u001B[0mpop\u001B[0m\u001B[1;33m(\u001B[0m\u001B[1;34m\"labels\"\u001B[0m\u001B[1;33m,\u001B[0m \u001B[1;32mNone\u001B[0m\u001B[1;33m)\u001B[0m\u001B[1;33m\u001B[0m\u001B[1;33m\u001B[0m\u001B[0m\n\u001B[1;32m-> 4772\u001B[1;33m         \u001B[1;32mreturn\u001B[0m \u001B[0msuper\u001B[0m\u001B[1;33m(\u001B[0m\u001B[1;33m)\u001B[0m\u001B[1;33m.\u001B[0m\u001B[0mreindex\u001B[0m\u001B[1;33m(\u001B[0m\u001B[1;33m**\u001B[0m\u001B[0mkwargs\u001B[0m\u001B[1;33m)\u001B[0m\u001B[1;33m\u001B[0m\u001B[1;33m\u001B[0m\u001B[0m\n\u001B[0m\u001B[0;32m   4773\u001B[0m \u001B[1;33m\u001B[0m\u001B[0m\n\u001B[0;32m   4774\u001B[0m     \u001B[1;33m@\u001B[0m\u001B[0mdeprecate_nonkeyword_arguments\u001B[0m\u001B[1;33m(\u001B[0m\u001B[0mversion\u001B[0m\u001B[1;33m=\u001B[0m\u001B[1;32mNone\u001B[0m\u001B[1;33m,\u001B[0m \u001B[0mallowed_args\u001B[0m\u001B[1;33m=\u001B[0m\u001B[1;33m[\u001B[0m\u001B[1;34m\"self\"\u001B[0m\u001B[1;33m,\u001B[0m \u001B[1;34m\"labels\"\u001B[0m\u001B[1;33m]\u001B[0m\u001B[1;33m)\u001B[0m\u001B[1;33m\u001B[0m\u001B[1;33m\u001B[0m\u001B[0m\n",
      "\u001B[1;32mc:\\users\\lucre\\appdata\\local\\programs\\python\\python39\\lib\\site-packages\\pandas\\core\\generic.py\u001B[0m in \u001B[0;36mreindex\u001B[1;34m(self, *args, **kwargs)\u001B[0m\n\u001B[0;32m   4816\u001B[0m \u001B[1;33m\u001B[0m\u001B[0m\n\u001B[0;32m   4817\u001B[0m         \u001B[1;31m# perform the reindex on the axes\u001B[0m\u001B[1;33m\u001B[0m\u001B[1;33m\u001B[0m\u001B[1;33m\u001B[0m\u001B[0m\n\u001B[1;32m-> 4818\u001B[1;33m         return self._reindex_axes(\n\u001B[0m\u001B[0;32m   4819\u001B[0m             \u001B[0maxes\u001B[0m\u001B[1;33m,\u001B[0m \u001B[0mlevel\u001B[0m\u001B[1;33m,\u001B[0m \u001B[0mlimit\u001B[0m\u001B[1;33m,\u001B[0m \u001B[0mtolerance\u001B[0m\u001B[1;33m,\u001B[0m \u001B[0mmethod\u001B[0m\u001B[1;33m,\u001B[0m \u001B[0mfill_value\u001B[0m\u001B[1;33m,\u001B[0m \u001B[0mcopy\u001B[0m\u001B[1;33m\u001B[0m\u001B[1;33m\u001B[0m\u001B[0m\n\u001B[0;32m   4820\u001B[0m         ).__finalize__(self, method=\"reindex\")\n",
      "\u001B[1;32mc:\\users\\lucre\\appdata\\local\\programs\\python\\python39\\lib\\site-packages\\pandas\\core\\frame.py\u001B[0m in \u001B[0;36m_reindex_axes\u001B[1;34m(self, axes, level, limit, tolerance, method, fill_value, copy)\u001B[0m\n\u001B[0;32m   4595\u001B[0m         \u001B[0mindex\u001B[0m \u001B[1;33m=\u001B[0m \u001B[0maxes\u001B[0m\u001B[1;33m[\u001B[0m\u001B[1;34m\"index\"\u001B[0m\u001B[1;33m]\u001B[0m\u001B[1;33m\u001B[0m\u001B[1;33m\u001B[0m\u001B[0m\n\u001B[0;32m   4596\u001B[0m         \u001B[1;32mif\u001B[0m \u001B[0mindex\u001B[0m \u001B[1;32mis\u001B[0m \u001B[1;32mnot\u001B[0m \u001B[1;32mNone\u001B[0m\u001B[1;33m:\u001B[0m\u001B[1;33m\u001B[0m\u001B[1;33m\u001B[0m\u001B[0m\n\u001B[1;32m-> 4597\u001B[1;33m             frame = frame._reindex_index(\n\u001B[0m\u001B[0;32m   4598\u001B[0m                 \u001B[0mindex\u001B[0m\u001B[1;33m,\u001B[0m \u001B[0mmethod\u001B[0m\u001B[1;33m,\u001B[0m \u001B[0mcopy\u001B[0m\u001B[1;33m,\u001B[0m \u001B[0mlevel\u001B[0m\u001B[1;33m,\u001B[0m \u001B[0mfill_value\u001B[0m\u001B[1;33m,\u001B[0m \u001B[0mlimit\u001B[0m\u001B[1;33m,\u001B[0m \u001B[0mtolerance\u001B[0m\u001B[1;33m\u001B[0m\u001B[1;33m\u001B[0m\u001B[0m\n\u001B[0;32m   4599\u001B[0m             )\n",
      "\u001B[1;32mc:\\users\\lucre\\appdata\\local\\programs\\python\\python39\\lib\\site-packages\\pandas\\core\\frame.py\u001B[0m in \u001B[0;36m_reindex_index\u001B[1;34m(self, new_index, method, copy, level, fill_value, limit, tolerance)\u001B[0m\n\u001B[0;32m   4614\u001B[0m             \u001B[0mnew_index\u001B[0m\u001B[1;33m,\u001B[0m \u001B[0mmethod\u001B[0m\u001B[1;33m=\u001B[0m\u001B[0mmethod\u001B[0m\u001B[1;33m,\u001B[0m \u001B[0mlevel\u001B[0m\u001B[1;33m=\u001B[0m\u001B[0mlevel\u001B[0m\u001B[1;33m,\u001B[0m \u001B[0mlimit\u001B[0m\u001B[1;33m=\u001B[0m\u001B[0mlimit\u001B[0m\u001B[1;33m,\u001B[0m \u001B[0mtolerance\u001B[0m\u001B[1;33m=\u001B[0m\u001B[0mtolerance\u001B[0m\u001B[1;33m\u001B[0m\u001B[1;33m\u001B[0m\u001B[0m\n\u001B[0;32m   4615\u001B[0m         )\n\u001B[1;32m-> 4616\u001B[1;33m         return self._reindex_with_indexers(\n\u001B[0m\u001B[0;32m   4617\u001B[0m             \u001B[1;33m{\u001B[0m\u001B[1;36m0\u001B[0m\u001B[1;33m:\u001B[0m \u001B[1;33m[\u001B[0m\u001B[0mnew_index\u001B[0m\u001B[1;33m,\u001B[0m \u001B[0mindexer\u001B[0m\u001B[1;33m]\u001B[0m\u001B[1;33m}\u001B[0m\u001B[1;33m,\u001B[0m\u001B[1;33m\u001B[0m\u001B[1;33m\u001B[0m\u001B[0m\n\u001B[0;32m   4618\u001B[0m             \u001B[0mcopy\u001B[0m\u001B[1;33m=\u001B[0m\u001B[0mcopy\u001B[0m\u001B[1;33m,\u001B[0m\u001B[1;33m\u001B[0m\u001B[1;33m\u001B[0m\u001B[0m\n",
      "\u001B[1;32mc:\\users\\lucre\\appdata\\local\\programs\\python\\python39\\lib\\site-packages\\pandas\\core\\generic.py\u001B[0m in \u001B[0;36m_reindex_with_indexers\u001B[1;34m(self, reindexers, fill_value, copy, allow_dups)\u001B[0m\n\u001B[0;32m   4881\u001B[0m \u001B[1;33m\u001B[0m\u001B[0m\n\u001B[0;32m   4882\u001B[0m             \u001B[1;31m# TODO: speed up on homogeneous DataFrame objects\u001B[0m\u001B[1;33m\u001B[0m\u001B[1;33m\u001B[0m\u001B[1;33m\u001B[0m\u001B[0m\n\u001B[1;32m-> 4883\u001B[1;33m             new_data = new_data.reindex_indexer(\n\u001B[0m\u001B[0;32m   4884\u001B[0m                 \u001B[0mindex\u001B[0m\u001B[1;33m,\u001B[0m\u001B[1;33m\u001B[0m\u001B[1;33m\u001B[0m\u001B[0m\n\u001B[0;32m   4885\u001B[0m                 \u001B[0mindexer\u001B[0m\u001B[1;33m,\u001B[0m\u001B[1;33m\u001B[0m\u001B[1;33m\u001B[0m\u001B[0m\n",
      "\u001B[1;32mc:\\users\\lucre\\appdata\\local\\programs\\python\\python39\\lib\\site-packages\\pandas\\core\\internals\\managers.py\u001B[0m in \u001B[0;36mreindex_indexer\u001B[1;34m(self, new_axis, indexer, axis, fill_value, allow_dups, copy, consolidate, only_slice)\u001B[0m\n\u001B[0;32m    678\u001B[0m             )\n\u001B[0;32m    679\u001B[0m         \u001B[1;32melse\u001B[0m\u001B[1;33m:\u001B[0m\u001B[1;33m\u001B[0m\u001B[1;33m\u001B[0m\u001B[0m\n\u001B[1;32m--> 680\u001B[1;33m             new_blocks = [\n\u001B[0m\u001B[0;32m    681\u001B[0m                 blk.take_nd(\n\u001B[0;32m    682\u001B[0m                     \u001B[0mindexer\u001B[0m\u001B[1;33m,\u001B[0m\u001B[1;33m\u001B[0m\u001B[1;33m\u001B[0m\u001B[0m\n",
      "\u001B[1;32mc:\\users\\lucre\\appdata\\local\\programs\\python\\python39\\lib\\site-packages\\pandas\\core\\internals\\managers.py\u001B[0m in \u001B[0;36m<listcomp>\u001B[1;34m(.0)\u001B[0m\n\u001B[0;32m    679\u001B[0m         \u001B[1;32melse\u001B[0m\u001B[1;33m:\u001B[0m\u001B[1;33m\u001B[0m\u001B[1;33m\u001B[0m\u001B[0m\n\u001B[0;32m    680\u001B[0m             new_blocks = [\n\u001B[1;32m--> 681\u001B[1;33m                 blk.take_nd(\n\u001B[0m\u001B[0;32m    682\u001B[0m                     \u001B[0mindexer\u001B[0m\u001B[1;33m,\u001B[0m\u001B[1;33m\u001B[0m\u001B[1;33m\u001B[0m\u001B[0m\n\u001B[0;32m    683\u001B[0m                     \u001B[0maxis\u001B[0m\u001B[1;33m=\u001B[0m\u001B[1;36m1\u001B[0m\u001B[1;33m,\u001B[0m\u001B[1;33m\u001B[0m\u001B[1;33m\u001B[0m\u001B[0m\n",
      "\u001B[1;32mc:\\users\\lucre\\appdata\\local\\programs\\python\\python39\\lib\\site-packages\\pandas\\core\\internals\\blocks.py\u001B[0m in \u001B[0;36mtake_nd\u001B[1;34m(self, indexer, axis, new_mgr_locs, fill_value)\u001B[0m\n\u001B[0;32m   1143\u001B[0m             \u001B[0mallow_fill\u001B[0m \u001B[1;33m=\u001B[0m \u001B[1;32mTrue\u001B[0m\u001B[1;33m\u001B[0m\u001B[1;33m\u001B[0m\u001B[0m\n\u001B[0;32m   1144\u001B[0m \u001B[1;33m\u001B[0m\u001B[0m\n\u001B[1;32m-> 1145\u001B[1;33m         new_values = algos.take_nd(\n\u001B[0m\u001B[0;32m   1146\u001B[0m             \u001B[0mvalues\u001B[0m\u001B[1;33m,\u001B[0m \u001B[0mindexer\u001B[0m\u001B[1;33m,\u001B[0m \u001B[0maxis\u001B[0m\u001B[1;33m=\u001B[0m\u001B[0maxis\u001B[0m\u001B[1;33m,\u001B[0m \u001B[0mallow_fill\u001B[0m\u001B[1;33m=\u001B[0m\u001B[0mallow_fill\u001B[0m\u001B[1;33m,\u001B[0m \u001B[0mfill_value\u001B[0m\u001B[1;33m=\u001B[0m\u001B[0mfill_value\u001B[0m\u001B[1;33m\u001B[0m\u001B[1;33m\u001B[0m\u001B[0m\n\u001B[0;32m   1147\u001B[0m         )\n",
      "\u001B[1;32mc:\\users\\lucre\\appdata\\local\\programs\\python\\python39\\lib\\site-packages\\pandas\\core\\array_algos\\take.py\u001B[0m in \u001B[0;36mtake_nd\u001B[1;34m(arr, indexer, axis, fill_value, allow_fill)\u001B[0m\n\u001B[0;32m    106\u001B[0m \u001B[1;33m\u001B[0m\u001B[0m\n\u001B[0;32m    107\u001B[0m     \u001B[0marr\u001B[0m \u001B[1;33m=\u001B[0m \u001B[0mnp\u001B[0m\u001B[1;33m.\u001B[0m\u001B[0masarray\u001B[0m\u001B[1;33m(\u001B[0m\u001B[0marr\u001B[0m\u001B[1;33m)\u001B[0m\u001B[1;33m\u001B[0m\u001B[1;33m\u001B[0m\u001B[0m\n\u001B[1;32m--> 108\u001B[1;33m     \u001B[1;32mreturn\u001B[0m \u001B[0m_take_nd_ndarray\u001B[0m\u001B[1;33m(\u001B[0m\u001B[0marr\u001B[0m\u001B[1;33m,\u001B[0m \u001B[0mindexer\u001B[0m\u001B[1;33m,\u001B[0m \u001B[0maxis\u001B[0m\u001B[1;33m,\u001B[0m \u001B[0mfill_value\u001B[0m\u001B[1;33m,\u001B[0m \u001B[0mallow_fill\u001B[0m\u001B[1;33m)\u001B[0m\u001B[1;33m\u001B[0m\u001B[1;33m\u001B[0m\u001B[0m\n\u001B[0m\u001B[0;32m    109\u001B[0m \u001B[1;33m\u001B[0m\u001B[0m\n\u001B[0;32m    110\u001B[0m \u001B[1;33m\u001B[0m\u001B[0m\n",
      "\u001B[1;32mc:\\users\\lucre\\appdata\\local\\programs\\python\\python39\\lib\\site-packages\\pandas\\core\\array_algos\\take.py\u001B[0m in \u001B[0;36m_take_nd_ndarray\u001B[1;34m(arr, indexer, axis, fill_value, allow_fill)\u001B[0m\n\u001B[0;32m    123\u001B[0m         \u001B[0mindexer\u001B[0m \u001B[1;33m=\u001B[0m \u001B[0mensure_platform_int\u001B[0m\u001B[1;33m(\u001B[0m\u001B[0mindexer\u001B[0m\u001B[1;33m)\u001B[0m\u001B[1;33m\u001B[0m\u001B[1;33m\u001B[0m\u001B[0m\n\u001B[0;32m    124\u001B[0m \u001B[1;33m\u001B[0m\u001B[0m\n\u001B[1;32m--> 125\u001B[1;33m     indexer, dtype, fill_value, mask_info = _take_preprocess_indexer_and_fill_value(\n\u001B[0m\u001B[0;32m    126\u001B[0m         \u001B[0marr\u001B[0m\u001B[1;33m,\u001B[0m \u001B[0mindexer\u001B[0m\u001B[1;33m,\u001B[0m \u001B[0mfill_value\u001B[0m\u001B[1;33m,\u001B[0m \u001B[0mallow_fill\u001B[0m\u001B[1;33m\u001B[0m\u001B[1;33m\u001B[0m\u001B[0m\n\u001B[0;32m    127\u001B[0m     )\n",
      "\u001B[1;32mc:\\users\\lucre\\appdata\\local\\programs\\python\\python39\\lib\\site-packages\\pandas\\core\\array_algos\\take.py\u001B[0m in \u001B[0;36m_take_preprocess_indexer_and_fill_value\u001B[1;34m(arr, indexer, fill_value, allow_fill)\u001B[0m\n\u001B[0;32m    532\u001B[0m         \u001B[1;32mif\u001B[0m \u001B[0mdtype\u001B[0m \u001B[1;33m!=\u001B[0m \u001B[0marr\u001B[0m\u001B[1;33m.\u001B[0m\u001B[0mdtype\u001B[0m\u001B[1;33m:\u001B[0m\u001B[1;33m\u001B[0m\u001B[1;33m\u001B[0m\u001B[0m\n\u001B[0;32m    533\u001B[0m             \u001B[1;31m# check if promotion is actually required based on indexer\u001B[0m\u001B[1;33m\u001B[0m\u001B[1;33m\u001B[0m\u001B[1;33m\u001B[0m\u001B[0m\n\u001B[1;32m--> 534\u001B[1;33m             \u001B[0mmask\u001B[0m \u001B[1;33m=\u001B[0m \u001B[0mindexer\u001B[0m \u001B[1;33m==\u001B[0m \u001B[1;33m-\u001B[0m\u001B[1;36m1\u001B[0m\u001B[1;33m\u001B[0m\u001B[1;33m\u001B[0m\u001B[0m\n\u001B[0m\u001B[0;32m    535\u001B[0m             \u001B[0mneeds_masking\u001B[0m \u001B[1;33m=\u001B[0m \u001B[0mmask\u001B[0m\u001B[1;33m.\u001B[0m\u001B[0many\u001B[0m\u001B[1;33m(\u001B[0m\u001B[1;33m)\u001B[0m\u001B[1;33m\u001B[0m\u001B[1;33m\u001B[0m\u001B[0m\n\u001B[0;32m    536\u001B[0m             \u001B[0mmask_info\u001B[0m \u001B[1;33m=\u001B[0m \u001B[0mmask\u001B[0m\u001B[1;33m,\u001B[0m \u001B[0mneeds_masking\u001B[0m\u001B[1;33m\u001B[0m\u001B[1;33m\u001B[0m\u001B[0m\n",
      "\u001B[1;31mKeyboardInterrupt\u001B[0m: "
     ]
    }
   ],
   "source": [
    "# Remove invalid images\n",
    "df = remove_invalid_images(dataset=df, path=METADATA_DESTINATION, smallest_dim=SMALLEST_DIMENSION)"
   ],
   "metadata": {
    "collapsed": false,
    "pycharm": {
     "name": "#%%\n"
    }
   }
  },
  {
   "cell_type": "code",
   "execution_count": 9,
   "outputs": [
    {
     "ename": "NameError",
     "evalue": "name 'df' is not defined",
     "output_type": "error",
     "traceback": [
      "\u001B[1;31m---------------------------------------------------------------------------\u001B[0m",
      "\u001B[1;31mNameError\u001B[0m                                 Traceback (most recent call last)",
      "\u001B[1;32m~\\AppData\\Local\\Temp/ipykernel_3432/94663437.py\u001B[0m in \u001B[0;36m<module>\u001B[1;34m\u001B[0m\n\u001B[0;32m      5\u001B[0m \u001B[1;33m\u001B[0m\u001B[0m\n\u001B[0;32m      6\u001B[0m \u001B[0mpath_serialized\u001B[0m \u001B[1;33m=\u001B[0m \u001B[0mpath\u001B[0m\u001B[1;33m.\u001B[0m\u001B[0mjoin\u001B[0m\u001B[1;33m(\u001B[0m\u001B[0mhead\u001B[0m\u001B[1;33m,\u001B[0m \u001B[1;34m'imdb.pickle'\u001B[0m\u001B[1;33m)\u001B[0m\u001B[1;33m\u001B[0m\u001B[1;33m\u001B[0m\u001B[0m\n\u001B[1;32m----> 7\u001B[1;33m \u001B[0mdf\u001B[0m\u001B[1;33m.\u001B[0m\u001B[0mto_pickle\u001B[0m\u001B[1;33m(\u001B[0m\u001B[0mpath_serialized\u001B[0m\u001B[1;33m)\u001B[0m\u001B[1;33m\u001B[0m\u001B[1;33m\u001B[0m\u001B[0m\n\u001B[0m\u001B[0;32m      8\u001B[0m \u001B[1;33m\u001B[0m\u001B[0m\n",
      "\u001B[1;31mNameError\u001B[0m: name 'df' is not defined"
     ]
    }
   ],
   "source": [
    "from os import path\n",
    "\n",
    "# Dump dataframe\n",
    "head, tail = path.split(METADATA_CROPPED_FILE_MATLAB)\n",
    "\n",
    "path_serialized = path.join(head, 'imdb.pickle')\n",
    "df.to_pickle(path_serialized)"
   ],
   "metadata": {
    "collapsed": false,
    "pycharm": {
     "name": "#%%\n"
    }
   }
  },
  {
   "cell_type": "code",
   "execution_count": 10,
   "outputs": [
    {
     "data": {
      "text/plain": "   age  gender                                     full_path           name  \\\n0   68     1.0   01/nm0000001_rm124825600_1899-5-10_1968.jpg   Fred Astaire   \n1   70     1.0  01/nm0000001_rm3343756032_1899-5-10_1970.jpg   Fred Astaire   \n3   68     1.0   01/nm0000001_rm946909184_1899-5-10_1968.jpg   Fred Astaire   \n4   68     1.0   01/nm0000001_rm980463616_1899-5-10_1968.jpg   Fred Astaire   \n5   66     0.0  02/nm0000002_rm1075631616_1924-9-16_1991.jpg  Lauren Bacall   \n\n                                       face_location  face_score  photo_taken  \\\n0  [1072.926, 161.838, 1214.7839999999999, 303.69...    1.459693         1968   \n1                [477.184, 100.352, 622.592, 245.76]    2.543198         1970   \n3  [622.8855056426588, 424.21750383700805, 844.33...    1.872117         1968   \n4  [1013.8590023603723, 233.8820422075853, 1201.5...    1.158766         1968   \n5  [686.6768205940973, 458.4672137293982, 1198.10...    3.490563         1991   \n\n   celeb_id  second_face_score     dob  standard_dob  \n0      6488           1.118973  693726          1900  \n1      6488           1.852008  693726          1900  \n3      6488                NaN  693726          1900  \n4      6488                NaN  693726          1900  \n5     11516           1.345335  702986          1925  ",
      "text/html": "<div>\n<style scoped>\n    .dataframe tbody tr th:only-of-type {\n        vertical-align: middle;\n    }\n\n    .dataframe tbody tr th {\n        vertical-align: top;\n    }\n\n    .dataframe thead th {\n        text-align: right;\n    }\n</style>\n<table border=\"1\" class=\"dataframe\">\n  <thead>\n    <tr style=\"text-align: right;\">\n      <th></th>\n      <th>age</th>\n      <th>gender</th>\n      <th>full_path</th>\n      <th>name</th>\n      <th>face_location</th>\n      <th>face_score</th>\n      <th>photo_taken</th>\n      <th>celeb_id</th>\n      <th>second_face_score</th>\n      <th>dob</th>\n      <th>standard_dob</th>\n    </tr>\n  </thead>\n  <tbody>\n    <tr>\n      <th>0</th>\n      <td>68</td>\n      <td>1.0</td>\n      <td>01/nm0000001_rm124825600_1899-5-10_1968.jpg</td>\n      <td>Fred Astaire</td>\n      <td>[1072.926, 161.838, 1214.7839999999999, 303.69...</td>\n      <td>1.459693</td>\n      <td>1968</td>\n      <td>6488</td>\n      <td>1.118973</td>\n      <td>693726</td>\n      <td>1900</td>\n    </tr>\n    <tr>\n      <th>1</th>\n      <td>70</td>\n      <td>1.0</td>\n      <td>01/nm0000001_rm3343756032_1899-5-10_1970.jpg</td>\n      <td>Fred Astaire</td>\n      <td>[477.184, 100.352, 622.592, 245.76]</td>\n      <td>2.543198</td>\n      <td>1970</td>\n      <td>6488</td>\n      <td>1.852008</td>\n      <td>693726</td>\n      <td>1900</td>\n    </tr>\n    <tr>\n      <th>3</th>\n      <td>68</td>\n      <td>1.0</td>\n      <td>01/nm0000001_rm946909184_1899-5-10_1968.jpg</td>\n      <td>Fred Astaire</td>\n      <td>[622.8855056426588, 424.21750383700805, 844.33...</td>\n      <td>1.872117</td>\n      <td>1968</td>\n      <td>6488</td>\n      <td>NaN</td>\n      <td>693726</td>\n      <td>1900</td>\n    </tr>\n    <tr>\n      <th>4</th>\n      <td>68</td>\n      <td>1.0</td>\n      <td>01/nm0000001_rm980463616_1899-5-10_1968.jpg</td>\n      <td>Fred Astaire</td>\n      <td>[1013.8590023603723, 233.8820422075853, 1201.5...</td>\n      <td>1.158766</td>\n      <td>1968</td>\n      <td>6488</td>\n      <td>NaN</td>\n      <td>693726</td>\n      <td>1900</td>\n    </tr>\n    <tr>\n      <th>5</th>\n      <td>66</td>\n      <td>0.0</td>\n      <td>02/nm0000002_rm1075631616_1924-9-16_1991.jpg</td>\n      <td>Lauren Bacall</td>\n      <td>[686.6768205940973, 458.4672137293982, 1198.10...</td>\n      <td>3.490563</td>\n      <td>1991</td>\n      <td>11516</td>\n      <td>1.345335</td>\n      <td>702986</td>\n      <td>1925</td>\n    </tr>\n  </tbody>\n</table>\n</div>"
     },
     "execution_count": 10,
     "metadata": {},
     "output_type": "execute_result"
    }
   ],
   "source": [
    "# Test read\n",
    "df = pd.read_pickle(path_serialized)\n",
    "df.head()"
   ],
   "metadata": {
    "collapsed": false,
    "pycharm": {
     "name": "#%%\n"
    }
   }
  },
  {
   "cell_type": "code",
   "execution_count": 11,
   "outputs": [
    {
     "data": {
      "text/plain": "                 age         gender     face_score    photo_taken  \\\ncount  178650.000000  178650.000000  178650.000000  178650.000000   \nmean       36.457246       0.588995       3.353406    2005.244489   \nstd        13.356509       0.492017       1.234366      11.174091   \nmin         0.000000       0.000000       0.730919    1961.000000   \n25%        27.000000       0.000000       2.435324    2003.000000   \n50%        35.000000       1.000000       3.369182    2010.000000   \n75%        44.000000       1.000000       4.299459    2012.000000   \nmax        99.000000       1.000000       7.381689    2015.000000   \n\n            celeb_id  second_face_score            dob   standard_dob  \ncount  178650.000000       97640.000000  178650.000000  178650.000000  \nmean    10143.653764           2.531453  718901.303297    1968.787243  \nstd      5740.381310           1.111198    5983.199815      16.383994  \nmin         1.000000           0.730926  687776.000000    1884.000000  \n25%      5377.000000           1.623601  715833.000000    1960.000000  \n50%     10078.000000           2.419551  719783.000000    1971.000000  \n75%     14988.000000           3.349847  723144.000000    1980.000000  \nmax     20284.000000           6.395435  733282.000000    2008.000000  ",
      "text/html": "<div>\n<style scoped>\n    .dataframe tbody tr th:only-of-type {\n        vertical-align: middle;\n    }\n\n    .dataframe tbody tr th {\n        vertical-align: top;\n    }\n\n    .dataframe thead th {\n        text-align: right;\n    }\n</style>\n<table border=\"1\" class=\"dataframe\">\n  <thead>\n    <tr style=\"text-align: right;\">\n      <th></th>\n      <th>age</th>\n      <th>gender</th>\n      <th>face_score</th>\n      <th>photo_taken</th>\n      <th>celeb_id</th>\n      <th>second_face_score</th>\n      <th>dob</th>\n      <th>standard_dob</th>\n    </tr>\n  </thead>\n  <tbody>\n    <tr>\n      <th>count</th>\n      <td>178650.000000</td>\n      <td>178650.000000</td>\n      <td>178650.000000</td>\n      <td>178650.000000</td>\n      <td>178650.000000</td>\n      <td>97640.000000</td>\n      <td>178650.000000</td>\n      <td>178650.000000</td>\n    </tr>\n    <tr>\n      <th>mean</th>\n      <td>36.457246</td>\n      <td>0.588995</td>\n      <td>3.353406</td>\n      <td>2005.244489</td>\n      <td>10143.653764</td>\n      <td>2.531453</td>\n      <td>718901.303297</td>\n      <td>1968.787243</td>\n    </tr>\n    <tr>\n      <th>std</th>\n      <td>13.356509</td>\n      <td>0.492017</td>\n      <td>1.234366</td>\n      <td>11.174091</td>\n      <td>5740.381310</td>\n      <td>1.111198</td>\n      <td>5983.199815</td>\n      <td>16.383994</td>\n    </tr>\n    <tr>\n      <th>min</th>\n      <td>0.000000</td>\n      <td>0.000000</td>\n      <td>0.730919</td>\n      <td>1961.000000</td>\n      <td>1.000000</td>\n      <td>0.730926</td>\n      <td>687776.000000</td>\n      <td>1884.000000</td>\n    </tr>\n    <tr>\n      <th>25%</th>\n      <td>27.000000</td>\n      <td>0.000000</td>\n      <td>2.435324</td>\n      <td>2003.000000</td>\n      <td>5377.000000</td>\n      <td>1.623601</td>\n      <td>715833.000000</td>\n      <td>1960.000000</td>\n    </tr>\n    <tr>\n      <th>50%</th>\n      <td>35.000000</td>\n      <td>1.000000</td>\n      <td>3.369182</td>\n      <td>2010.000000</td>\n      <td>10078.000000</td>\n      <td>2.419551</td>\n      <td>719783.000000</td>\n      <td>1971.000000</td>\n    </tr>\n    <tr>\n      <th>75%</th>\n      <td>44.000000</td>\n      <td>1.000000</td>\n      <td>4.299459</td>\n      <td>2012.000000</td>\n      <td>14988.000000</td>\n      <td>3.349847</td>\n      <td>723144.000000</td>\n      <td>1980.000000</td>\n    </tr>\n    <tr>\n      <th>max</th>\n      <td>99.000000</td>\n      <td>1.000000</td>\n      <td>7.381689</td>\n      <td>2015.000000</td>\n      <td>20284.000000</td>\n      <td>6.395435</td>\n      <td>733282.000000</td>\n      <td>2008.000000</td>\n    </tr>\n  </tbody>\n</table>\n</div>"
     },
     "execution_count": 11,
     "metadata": {},
     "output_type": "execute_result"
    }
   ],
   "source": [
    "df.describe()"
   ],
   "metadata": {
    "collapsed": false,
    "pycharm": {
     "name": "#%%\n"
    }
   }
  },
  {
   "cell_type": "code",
   "execution_count": null,
   "outputs": [],
   "source": [],
   "metadata": {
    "collapsed": false,
    "pycharm": {
     "name": "#%%\n"
    }
   }
  }
 ],
 "metadata": {
  "kernelspec": {
   "display_name": "Python 3",
   "language": "python",
   "name": "python3"
  },
  "language_info": {
   "codemirror_mode": {
    "name": "ipython",
    "version": 2
   },
   "file_extension": ".py",
   "mimetype": "text/x-python",
   "name": "python",
   "nbconvert_exporter": "python",
   "pygments_lexer": "ipython2",
   "version": "2.7.6"
  }
 },
 "nbformat": 4,
 "nbformat_minor": 0
}