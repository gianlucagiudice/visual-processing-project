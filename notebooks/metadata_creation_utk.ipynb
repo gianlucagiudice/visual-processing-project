{
 "cells": [
  {
   "cell_type": "markdown",
   "metadata": {
    "collapsed": true,
    "pycharm": {
     "name": "#%% md\n"
    }
   },
   "source": [
    "# METADATA CREATION\n",
    "\n",
    "Download dataset UTK - Aligned&Cropped Faces (107 MB) from https://susanqq.github.io/UTKFace/\n",
    "Copy the downloaded directory crop_part1 in the project folder dataset/utk, then run this notebook.\n",
    "\n",
    "This notebook creates a pickle file containing images metadata, so they can be used for training models.\n",
    "\n",
    "The ML models for classification must inherit from src/models/Model, the DataManager class reads the images and extracts the labels."
   ]
  },
  {
   "cell_type": "code",
   "execution_count": 1,
   "outputs": [],
   "source": [
    "import os\n",
    "\n",
    "import pandas as pd\n",
    "from tqdm import tqdm\n",
    "\n",
    "from src.DataManager import reorder_columns, remove_invalid_rows, remove_invalid_images"
   ],
   "metadata": {
    "collapsed": false,
    "pycharm": {
     "name": "#%%\n"
    }
   }
  },
  {
   "cell_type": "code",
   "execution_count": 2,
   "outputs": [],
   "source": [
    "METADATA_DESTINATION = '../dataset/utk'\n",
    "SMALLEST_DIMENSION = 124"
   ],
   "metadata": {
    "collapsed": false,
    "pycharm": {
     "name": "#%%\n"
    }
   }
  },
  {
   "cell_type": "code",
   "execution_count": 3,
   "outputs": [
    {
     "name": "stderr",
     "output_type": "stream",
     "text": [
      "100%|██████████| 9780/9780 [00:14<00:00, 673.30it/s]\n"
     ]
    },
    {
     "data": {
      "text/plain": "                                           full_path    age  gender\n0  crop_part1/100_1_0_20170110183726390.jpg.chip.jpg  100.0     1.0\n1  crop_part1/100_1_2_20170105174847679.jpg.chip.jpg  100.0     1.0\n2  crop_part1/101_1_2_20170105174739309.jpg.chip.jpg  101.0     1.0\n3   crop_part1/10_0_0_20161220222308131.jpg.chip.jpg   10.0     0.0\n4   crop_part1/10_0_0_20170103200329407.jpg.chip.jpg   10.0     0.0",
      "text/html": "<div>\n<style scoped>\n    .dataframe tbody tr th:only-of-type {\n        vertical-align: middle;\n    }\n\n    .dataframe tbody tr th {\n        vertical-align: top;\n    }\n\n    .dataframe thead th {\n        text-align: right;\n    }\n</style>\n<table border=\"1\" class=\"dataframe\">\n  <thead>\n    <tr style=\"text-align: right;\">\n      <th></th>\n      <th>full_path</th>\n      <th>age</th>\n      <th>gender</th>\n    </tr>\n  </thead>\n  <tbody>\n    <tr>\n      <th>0</th>\n      <td>crop_part1/100_1_0_20170110183726390.jpg.chip.jpg</td>\n      <td>100.0</td>\n      <td>1.0</td>\n    </tr>\n    <tr>\n      <th>1</th>\n      <td>crop_part1/100_1_2_20170105174847679.jpg.chip.jpg</td>\n      <td>100.0</td>\n      <td>1.0</td>\n    </tr>\n    <tr>\n      <th>2</th>\n      <td>crop_part1/101_1_2_20170105174739309.jpg.chip.jpg</td>\n      <td>101.0</td>\n      <td>1.0</td>\n    </tr>\n    <tr>\n      <th>3</th>\n      <td>crop_part1/10_0_0_20161220222308131.jpg.chip.jpg</td>\n      <td>10.0</td>\n      <td>0.0</td>\n    </tr>\n    <tr>\n      <th>4</th>\n      <td>crop_part1/10_0_0_20170103200329407.jpg.chip.jpg</td>\n      <td>10.0</td>\n      <td>0.0</td>\n    </tr>\n  </tbody>\n</table>\n</div>"
     },
     "execution_count": 3,
     "metadata": {},
     "output_type": "execute_result"
    }
   ],
   "source": [
    "df = pd.DataFrame()\n",
    "\n",
    "with tqdm(total=len(os.listdir(METADATA_DESTINATION + '/crop_part1'))) as pbar:\n",
    "    for file in os.listdir(METADATA_DESTINATION + '/crop_part1'):\n",
    "        d = {\"full_path\": 'crop_part1/' + file}\n",
    "        attr = file.split('_')\n",
    "        d[\"age\"] = int(attr[0])\n",
    "        # 0 male, 1 female\n",
    "        d[\"gender\"] = int(attr[1])\n",
    "        df = df.append(d, ignore_index=True)\n",
    "        pbar.update(1)\n",
    "\n",
    "df.head()"
   ],
   "metadata": {
    "collapsed": false,
    "pycharm": {
     "name": "#%%\n"
    }
   }
  },
  {
   "cell_type": "code",
   "execution_count": 4,
   "outputs": [
    {
     "data": {
      "text/plain": "     age  gender                                          full_path\n0  100.0     1.0  crop_part1/100_1_0_20170110183726390.jpg.chip.jpg\n1  100.0     1.0  crop_part1/100_1_2_20170105174847679.jpg.chip.jpg\n2  101.0     1.0  crop_part1/101_1_2_20170105174739309.jpg.chip.jpg\n3   10.0     0.0   crop_part1/10_0_0_20161220222308131.jpg.chip.jpg\n4   10.0     0.0   crop_part1/10_0_0_20170103200329407.jpg.chip.jpg",
      "text/html": "<div>\n<style scoped>\n    .dataframe tbody tr th:only-of-type {\n        vertical-align: middle;\n    }\n\n    .dataframe tbody tr th {\n        vertical-align: top;\n    }\n\n    .dataframe thead th {\n        text-align: right;\n    }\n</style>\n<table border=\"1\" class=\"dataframe\">\n  <thead>\n    <tr style=\"text-align: right;\">\n      <th></th>\n      <th>age</th>\n      <th>gender</th>\n      <th>full_path</th>\n    </tr>\n  </thead>\n  <tbody>\n    <tr>\n      <th>0</th>\n      <td>100.0</td>\n      <td>1.0</td>\n      <td>crop_part1/100_1_0_20170110183726390.jpg.chip.jpg</td>\n    </tr>\n    <tr>\n      <th>1</th>\n      <td>100.0</td>\n      <td>1.0</td>\n      <td>crop_part1/100_1_2_20170105174847679.jpg.chip.jpg</td>\n    </tr>\n    <tr>\n      <th>2</th>\n      <td>101.0</td>\n      <td>1.0</td>\n      <td>crop_part1/101_1_2_20170105174739309.jpg.chip.jpg</td>\n    </tr>\n    <tr>\n      <th>3</th>\n      <td>10.0</td>\n      <td>0.0</td>\n      <td>crop_part1/10_0_0_20161220222308131.jpg.chip.jpg</td>\n    </tr>\n    <tr>\n      <th>4</th>\n      <td>10.0</td>\n      <td>0.0</td>\n      <td>crop_part1/10_0_0_20170103200329407.jpg.chip.jpg</td>\n    </tr>\n  </tbody>\n</table>\n</div>"
     },
     "execution_count": 4,
     "metadata": {},
     "output_type": "execute_result"
    }
   ],
   "source": [
    "# Reorder columns\n",
    "head = ['age', 'gender', 'full_path']\n",
    "df = reorder_columns(dataset=df, head=head)\n",
    "df.head()"
   ],
   "metadata": {
    "collapsed": false,
    "pycharm": {
     "name": "#%%\n"
    }
   }
  },
  {
   "cell_type": "code",
   "execution_count": 5,
   "outputs": [
    {
     "name": "stdout",
     "output_type": "stream",
     "text": [
      "Len before:  9780\n",
      "Len after:  6831\n",
      "Invalid rows: 30.153%\n"
     ]
    }
   ],
   "source": [
    "# Remove invalid rows\n",
    "df = remove_invalid_rows(dataset=df)"
   ],
   "metadata": {
    "collapsed": false,
    "pycharm": {
     "name": "#%%\n"
    }
   }
  },
  {
   "cell_type": "code",
   "execution_count": 6,
   "outputs": [
    {
     "name": "stdout",
     "output_type": "stream",
     "text": [
      "Len before:  6831\n"
     ]
    },
    {
     "name": "stderr",
     "output_type": "stream",
     "text": [
      "100%|██████████| 6831/6831 [00:14<00:00, 461.43it/s]"
     ]
    },
    {
     "name": "stdout",
     "output_type": "stream",
     "text": [
      "Len after:  6721\n",
      "Invalid rows: 1.610%\n"
     ]
    },
    {
     "name": "stderr",
     "output_type": "stream",
     "text": [
      "\n"
     ]
    }
   ],
   "source": [
    "# Remove invalid images\n",
    "df = remove_invalid_images(dataset=df, path=METADATA_DESTINATION + '/', smallest_dim=SMALLEST_DIMENSION)"
   ],
   "metadata": {
    "collapsed": false,
    "pycharm": {
     "name": "#%%\n"
    }
   }
  },
  {
   "cell_type": "code",
   "execution_count": 7,
   "outputs": [],
   "source": [
    "path_serialized = METADATA_DESTINATION + '/utk.pickle'\n",
    "df.to_pickle(path_serialized)"
   ],
   "metadata": {
    "collapsed": false,
    "pycharm": {
     "name": "#%%\n"
    }
   }
  },
  {
   "cell_type": "code",
   "execution_count": 8,
   "outputs": [
    {
     "data": {
      "text/plain": "     age  gender                                          full_path\n0  100.0     1.0  crop_part1/100_1_0_20170110183726390.jpg.chip.jpg\n1  100.0     1.0  crop_part1/100_1_2_20170105174847679.jpg.chip.jpg\n3   10.0     0.0   crop_part1/10_0_0_20161220222308131.jpg.chip.jpg\n4   10.0     0.0   crop_part1/10_0_0_20170103200329407.jpg.chip.jpg\n5   10.0     0.0   crop_part1/10_0_0_20170103200522151.jpg.chip.jpg",
      "text/html": "<div>\n<style scoped>\n    .dataframe tbody tr th:only-of-type {\n        vertical-align: middle;\n    }\n\n    .dataframe tbody tr th {\n        vertical-align: top;\n    }\n\n    .dataframe thead th {\n        text-align: right;\n    }\n</style>\n<table border=\"1\" class=\"dataframe\">\n  <thead>\n    <tr style=\"text-align: right;\">\n      <th></th>\n      <th>age</th>\n      <th>gender</th>\n      <th>full_path</th>\n    </tr>\n  </thead>\n  <tbody>\n    <tr>\n      <th>0</th>\n      <td>100.0</td>\n      <td>1.0</td>\n      <td>crop_part1/100_1_0_20170110183726390.jpg.chip.jpg</td>\n    </tr>\n    <tr>\n      <th>1</th>\n      <td>100.0</td>\n      <td>1.0</td>\n      <td>crop_part1/100_1_2_20170105174847679.jpg.chip.jpg</td>\n    </tr>\n    <tr>\n      <th>3</th>\n      <td>10.0</td>\n      <td>0.0</td>\n      <td>crop_part1/10_0_0_20161220222308131.jpg.chip.jpg</td>\n    </tr>\n    <tr>\n      <th>4</th>\n      <td>10.0</td>\n      <td>0.0</td>\n      <td>crop_part1/10_0_0_20170103200329407.jpg.chip.jpg</td>\n    </tr>\n    <tr>\n      <th>5</th>\n      <td>10.0</td>\n      <td>0.0</td>\n      <td>crop_part1/10_0_0_20170103200522151.jpg.chip.jpg</td>\n    </tr>\n  </tbody>\n</table>\n</div>"
     },
     "execution_count": 8,
     "metadata": {},
     "output_type": "execute_result"
    }
   ],
   "source": [
    "# Test read\n",
    "df = pd.read_pickle(path_serialized)\n",
    "df.head()"
   ],
   "metadata": {
    "collapsed": false,
    "pycharm": {
     "name": "#%%\n"
    }
   }
  },
  {
   "cell_type": "code",
   "execution_count": 9,
   "outputs": [
    {
     "data": {
      "text/plain": "               age       gender\ncount  6721.000000  6721.000000\nmean     40.554679     0.565987\nstd      21.215792     0.496563\nmin      10.000000     0.000000\n25%      24.000000     0.000000\n50%      36.000000     1.000000\n75%      56.000000     1.000000\nmax     100.000000     3.000000",
      "text/html": "<div>\n<style scoped>\n    .dataframe tbody tr th:only-of-type {\n        vertical-align: middle;\n    }\n\n    .dataframe tbody tr th {\n        vertical-align: top;\n    }\n\n    .dataframe thead th {\n        text-align: right;\n    }\n</style>\n<table border=\"1\" class=\"dataframe\">\n  <thead>\n    <tr style=\"text-align: right;\">\n      <th></th>\n      <th>age</th>\n      <th>gender</th>\n    </tr>\n  </thead>\n  <tbody>\n    <tr>\n      <th>count</th>\n      <td>6721.000000</td>\n      <td>6721.000000</td>\n    </tr>\n    <tr>\n      <th>mean</th>\n      <td>40.554679</td>\n      <td>0.565987</td>\n    </tr>\n    <tr>\n      <th>std</th>\n      <td>21.215792</td>\n      <td>0.496563</td>\n    </tr>\n    <tr>\n      <th>min</th>\n      <td>10.000000</td>\n      <td>0.000000</td>\n    </tr>\n    <tr>\n      <th>25%</th>\n      <td>24.000000</td>\n      <td>0.000000</td>\n    </tr>\n    <tr>\n      <th>50%</th>\n      <td>36.000000</td>\n      <td>1.000000</td>\n    </tr>\n    <tr>\n      <th>75%</th>\n      <td>56.000000</td>\n      <td>1.000000</td>\n    </tr>\n    <tr>\n      <th>max</th>\n      <td>100.000000</td>\n      <td>3.000000</td>\n    </tr>\n  </tbody>\n</table>\n</div>"
     },
     "execution_count": 9,
     "metadata": {},
     "output_type": "execute_result"
    }
   ],
   "source": [
    "df.describe()"
   ],
   "metadata": {
    "collapsed": false,
    "pycharm": {
     "name": "#%%\n"
    }
   }
  },
  {
   "cell_type": "code",
   "execution_count": null,
   "outputs": [],
   "source": [],
   "metadata": {
    "collapsed": false,
    "pycharm": {
     "name": "#%%\n"
    }
   }
  }
 ],
 "metadata": {
  "kernelspec": {
   "display_name": "Python 3",
   "language": "python",
   "name": "python3"
  },
  "language_info": {
   "codemirror_mode": {
    "name": "ipython",
    "version": 2
   },
   "file_extension": ".py",
   "mimetype": "text/x-python",
   "name": "python",
   "nbconvert_exporter": "python",
   "pygments_lexer": "ipython2",
   "version": "2.7.6"
  }
 },
 "nbformat": 4,
 "nbformat_minor": 0
}