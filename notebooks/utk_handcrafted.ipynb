{
 "cells": [
  {
   "cell_type": "code",
   "execution_count": 1,
   "outputs": [],
   "source": [
    "\n",
    "import math\n",
    "\n",
    "import matplotlib.pyplot as plt\n",
    "import seaborn as sns\n",
    "from sklearn.metrics import accuracy_score\n",
    "from sklearn.metrics import confusion_matrix\n",
    "from sklearn.metrics import mean_squared_error, mean_absolute_error\n",
    "from sklearn.neighbors import KNeighborsClassifier\n",
    "from sklearn.svm import SVC\n",
    "from sklearn.tree import DecisionTreeRegressor\n",
    "\n",
    "from src.DataManager import DataManager\n",
    "from src.config import UTK_PATH, UTK_METADATA_FILENAME\n",
    "from src.models.HandcraftedModel import HandcraftedModel\n",
    "from src.models.Model import IMAGE_INPUT_SIZE\n"
   ],
   "metadata": {
    "collapsed": false,
    "pycharm": {
     "name": "#%%\n"
    }
   }
  },
  {
   "cell_type": "code",
   "execution_count": 2,
   "outputs": [],
   "source": [
    "N_SAMPLE = 0.1\n",
    "\n",
    "# Read the data\n",
    "data_manager = DataManager(UTK_PATH, UTK_METADATA_FILENAME, IMAGE_INPUT_SIZE,\n",
    "                           n_subset=N_SAMPLE, normalize_images=True, normalize_age=True)\n",
    "data = data_manager.get_dataset()"
   ],
   "metadata": {
    "collapsed": false,
    "pycharm": {
     "name": "#%%\n"
    }
   }
  },
  {
   "cell_type": "code",
   "execution_count": 3,
   "outputs": [
    {
     "data": {
      "text/plain": "               age      gender  \\\ncount   962.000000  962.000000   \nunique         NaN         NaN   \ntop            NaN         NaN   \nfreq           NaN         NaN   \nmean      0.283910    0.566528   \nstd       0.244663    0.495812   \nmin       0.000000    0.000000   \n25%       0.060606    0.000000   \n50%       0.242424    1.000000   \n75%       0.484848    1.000000   \nmax       0.959596    1.000000   \n\n                                               full_path  \\\ncount                                                962   \nunique                                               962   \ntop     crop_part1/53_0_2_20170104210010763.jpg.chip.jpg   \nfreq                                                   1   \nmean                                                 NaN   \nstd                                                  NaN   \nmin                                                  NaN   \n25%                                                  NaN   \n50%                                                  NaN   \n75%                                                  NaN   \nmax                                                  NaN   \n\n                                                     path  \ncount                                                 962  \nunique                                                962  \ntop     ../dataset/utk\\crop_part1/53_0_2_2017010421001...  \nfreq                                                    1  \nmean                                                  NaN  \nstd                                                   NaN  \nmin                                                   NaN  \n25%                                                   NaN  \n50%                                                   NaN  \n75%                                                   NaN  \nmax                                                   NaN  ",
      "text/html": "<div>\n<style scoped>\n    .dataframe tbody tr th:only-of-type {\n        vertical-align: middle;\n    }\n\n    .dataframe tbody tr th {\n        vertical-align: top;\n    }\n\n    .dataframe thead th {\n        text-align: right;\n    }\n</style>\n<table border=\"1\" class=\"dataframe\">\n  <thead>\n    <tr style=\"text-align: right;\">\n      <th></th>\n      <th>age</th>\n      <th>gender</th>\n      <th>full_path</th>\n      <th>path</th>\n    </tr>\n  </thead>\n  <tbody>\n    <tr>\n      <th>count</th>\n      <td>962.000000</td>\n      <td>962.000000</td>\n      <td>962</td>\n      <td>962</td>\n    </tr>\n    <tr>\n      <th>unique</th>\n      <td>NaN</td>\n      <td>NaN</td>\n      <td>962</td>\n      <td>962</td>\n    </tr>\n    <tr>\n      <th>top</th>\n      <td>NaN</td>\n      <td>NaN</td>\n      <td>crop_part1/53_0_2_20170104210010763.jpg.chip.jpg</td>\n      <td>../dataset/utk\\crop_part1/53_0_2_2017010421001...</td>\n    </tr>\n    <tr>\n      <th>freq</th>\n      <td>NaN</td>\n      <td>NaN</td>\n      <td>1</td>\n      <td>1</td>\n    </tr>\n    <tr>\n      <th>mean</th>\n      <td>0.283910</td>\n      <td>0.566528</td>\n      <td>NaN</td>\n      <td>NaN</td>\n    </tr>\n    <tr>\n      <th>std</th>\n      <td>0.244663</td>\n      <td>0.495812</td>\n      <td>NaN</td>\n      <td>NaN</td>\n    </tr>\n    <tr>\n      <th>min</th>\n      <td>0.000000</td>\n      <td>0.000000</td>\n      <td>NaN</td>\n      <td>NaN</td>\n    </tr>\n    <tr>\n      <th>25%</th>\n      <td>0.060606</td>\n      <td>0.000000</td>\n      <td>NaN</td>\n      <td>NaN</td>\n    </tr>\n    <tr>\n      <th>50%</th>\n      <td>0.242424</td>\n      <td>1.000000</td>\n      <td>NaN</td>\n      <td>NaN</td>\n    </tr>\n    <tr>\n      <th>75%</th>\n      <td>0.484848</td>\n      <td>1.000000</td>\n      <td>NaN</td>\n      <td>NaN</td>\n    </tr>\n    <tr>\n      <th>max</th>\n      <td>0.959596</td>\n      <td>1.000000</td>\n      <td>NaN</td>\n      <td>NaN</td>\n    </tr>\n  </tbody>\n</table>\n</div>"
     },
     "execution_count": 3,
     "metadata": {},
     "output_type": "execute_result"
    }
   ],
   "source": [
    "data.describe(include='all')"
   ],
   "metadata": {
    "collapsed": false,
    "pycharm": {
     "name": "#%%\n"
    }
   }
  },
  {
   "cell_type": "code",
   "execution_count": 4,
   "outputs": [
    {
     "name": "stdout",
     "output_type": "stream",
     "text": [
      "Read training images ...\n"
     ]
    },
    {
     "name": "stderr",
     "output_type": "stream",
     "text": [
      "100%|██████████| 572/572 [00:01<00:00, 569.99it/s]\n"
     ]
    },
    {
     "name": "stdout",
     "output_type": "stream",
     "text": [
      "Read validation images ...\n"
     ]
    },
    {
     "name": "stderr",
     "output_type": "stream",
     "text": [
      "100%|██████████| 101/101 [00:00<00:00, 640.43it/s]\n"
     ]
    },
    {
     "name": "stdout",
     "output_type": "stream",
     "text": [
      "Read test images ...\n"
     ]
    },
    {
     "name": "stderr",
     "output_type": "stream",
     "text": [
      "100%|██████████| 289/289 [00:00<00:00, 630.72it/s]\n"
     ]
    }
   ],
   "source": [
    "# Split into train, validation, test\n",
    "train, validation, test = data_manager.split_dataset(data)\n",
    "# Read images\n",
    "print('Read training images ...')\n",
    "X_train, y_train = data_manager.get_X(train), data_manager.get_y(train)\n",
    "print('Read validation images ...')\n",
    "X_val, y_val = data_manager.get_X(validation), data_manager.get_y(validation)\n",
    "print('Read test images ...')\n",
    "X_test, y_test = data_manager.get_X(test), data_manager.get_y(test)"
   ],
   "metadata": {
    "collapsed": false,
    "pycharm": {
     "name": "#%%\n"
    }
   }
  },
  {
   "cell_type": "code",
   "execution_count": 5,
   "outputs": [
    {
     "name": "stdout",
     "output_type": "stream",
     "text": [
      "(572, 224, 224, 3)\n",
      "(572, 2)\n",
      "(101, 224, 224, 3)\n",
      "(101, 2)\n",
      "(289, 224, 224, 3)\n",
      "(289, 2)\n"
     ]
    }
   ],
   "source": [
    "print(X_train.shape)\n",
    "print(y_train.shape)\n",
    "print(X_val.shape)\n",
    "print(y_val.shape)\n",
    "print(X_test.shape)\n",
    "print(y_test.shape)"
   ],
   "metadata": {
    "collapsed": false,
    "pycharm": {
     "name": "#%%\n"
    }
   }
  },
  {
   "cell_type": "code",
   "execution_count": 6,
   "outputs": [
    {
     "name": "stdout",
     "output_type": "stream",
     "text": [
      "Extracting dataset features ...\n"
     ]
    },
    {
     "name": "stderr",
     "output_type": "stream",
     "text": [
      "100%|██████████| 572/572 [00:16<00:00, 35.28it/s]\n"
     ]
    },
    {
     "name": "stdout",
     "output_type": "stream",
     "text": [
      "Extracting dataset features ...\n"
     ]
    },
    {
     "name": "stderr",
     "output_type": "stream",
     "text": [
      "100%|██████████| 101/101 [00:03<00:00, 30.70it/s]\n"
     ]
    },
    {
     "name": "stdout",
     "output_type": "stream",
     "text": [
      "Extracting dataset features ...\n"
     ]
    },
    {
     "name": "stderr",
     "output_type": "stream",
     "text": [
      "100%|██████████| 289/289 [00:08<00:00, 33.88it/s]\n"
     ]
    },
    {
     "name": "stdout",
     "output_type": "stream",
     "text": [
      "Deleted a maximum of 0 columns\n"
     ]
    }
   ],
   "source": [
    "n_sift = 50\n",
    "color_hist_bins = 128\n",
    "lbp_n_points = 24\n",
    "lbp_radius = 3\n",
    "compute_sift = False\n",
    "compute_hog = False\n",
    "compute_hist = True\n",
    "compute_lbp = False\n",
    "handcrafted_model = HandcraftedModel(n_sift, color_hist_bins, lbp_n_points, lbp_radius)\n",
    "\n",
    "# EXTRACTIONS\n",
    "df_train = handcrafted_model.extract_dataset_features(X_train, y_train, compute_sift, compute_hog, compute_hist,\n",
    "                                                      compute_lbp)\n",
    "df_val = handcrafted_model.extract_dataset_features(X_val, y_val, compute_sift, compute_hog, compute_hist, compute_lbp)\n",
    "df_test = handcrafted_model.extract_dataset_features(X_test, y_test, compute_sift, compute_hog, compute_hist,\n",
    "                                                     compute_lbp)\n",
    "\n",
    "# CLEANING FROM NANS\n",
    "data_manager.delete_nan_columns(df_train, df_val, df_test)"
   ],
   "metadata": {
    "collapsed": false,
    "pycharm": {
     "name": "#%%\n"
    }
   }
  },
  {
   "cell_type": "code",
   "execution_count": 7,
   "outputs": [
    {
     "name": "stdout",
     "output_type": "stream",
     "text": [
      "(572, 1538)\n",
      "(101, 1538)\n",
      "(289, 1538)\n"
     ]
    }
   ],
   "source": [
    "print(df_train.shape)\n",
    "print(df_val.shape)\n",
    "print(df_test.shape)"
   ],
   "metadata": {
    "collapsed": false,
    "pycharm": {
     "name": "#%%\n"
    }
   }
  },
  {
   "cell_type": "code",
   "execution_count": 8,
   "outputs": [
    {
     "data": {
      "text/plain": "SVC()"
     },
     "execution_count": 8,
     "metadata": {},
     "output_type": "execute_result"
    }
   ],
   "source": [
    "clf = SVC()\n",
    "clf.fit(df_train.drop(columns=[\"age\", \"gender\"], axis=1), df_train[\"gender\"])"
   ],
   "metadata": {
    "collapsed": false,
    "pycharm": {
     "name": "#%%\n"
    }
   }
  },
  {
   "cell_type": "code",
   "execution_count": 9,
   "outputs": [
    {
     "name": "stdout",
     "output_type": "stream",
     "text": [
      "0.5432525951557093\n",
      "[[  0 132]\n",
      " [  0 157]]\n"
     ]
    }
   ],
   "source": [
    "preds = clf.predict(df_test.drop(columns=[\"age\", \"gender\"], axis=1))\n",
    "acc_test = accuracy_score(df_test[\"gender\"], preds)\n",
    "conf_mat_test = confusion_matrix(df_test[\"gender\"], preds)\n",
    "print(acc_test)\n",
    "print(conf_mat_test)"
   ],
   "metadata": {
    "collapsed": false,
    "pycharm": {
     "name": "#%%\n"
    }
   }
  },
  {
   "cell_type": "code",
   "execution_count": 10,
   "outputs": [
    {
     "name": "stdout",
     "output_type": "stream",
     "text": [
      "0.6435643564356436\n",
      "[[ 0 36]\n",
      " [ 0 65]]\n"
     ]
    }
   ],
   "source": [
    "preds = clf.predict(df_val.drop(columns=[\"age\", \"gender\"], axis=1))\n",
    "acc_val = accuracy_score(df_val[\"gender\"], preds)\n",
    "conf_mat_val = confusion_matrix(df_val[\"gender\"], preds)\n",
    "print(acc_val)\n",
    "print(conf_mat_val)"
   ],
   "metadata": {
    "collapsed": false,
    "pycharm": {
     "name": "#%%\n"
    }
   }
  },
  {
   "cell_type": "code",
   "execution_count": 11,
   "outputs": [
    {
     "name": "stdout",
     "output_type": "stream",
     "text": [
      "0.5432525951557093\n",
      "[[  0 132]\n",
      " [  0 157]]\n"
     ]
    }
   ],
   "source": [
    "classifier = KNeighborsClassifier(n_neighbors=3, algorithm='brute')\n",
    "classifier.fit(df_train.drop(columns=[\"age\", \"gender\"], axis=1), df_train[\"gender\"])\n",
    "preds = classifier.predict(df_test.drop(columns=[\"age\", \"gender\"], axis=1))\n",
    "acc_test = accuracy_score(df_test[\"gender\"], preds)\n",
    "conf_mat_test = confusion_matrix(df_test[\"gender\"], preds)\n",
    "print(acc_test)\n",
    "print(conf_mat_test)"
   ],
   "metadata": {
    "collapsed": false,
    "pycharm": {
     "name": "#%%\n"
    }
   }
  },
  {
   "cell_type": "code",
   "execution_count": 22,
   "outputs": [
    {
     "data": {
      "text/plain": "DecisionTreeRegressor(random_state=0)"
     },
     "execution_count": 22,
     "metadata": {},
     "output_type": "execute_result"
    }
   ],
   "source": [
    "regressor = DecisionTreeRegressor(random_state=0)\n",
    "regressor.fit(df_train.drop(columns=[\"age\", \"gender\"], axis=1), df_train[\"age\"])"
   ],
   "metadata": {
    "collapsed": false,
    "pycharm": {
     "name": "#%%\n"
    }
   }
  },
  {
   "cell_type": "code",
   "execution_count": 34,
   "outputs": [
    {
     "name": "stdout",
     "output_type": "stream",
     "text": [
      "Mean squared error: 614.1690831490478\n",
      "Root mean squared error: 24.782434972154125\n",
      "Mean absolute error: 20.564352602414893\n"
     ]
    },
    {
     "data": {
      "text/plain": "<Figure size 432x288 with 2 Axes>",
      "image/png": "[encoded data removed]"
     },
     "metadata": {
      "needs_background": "light"
     },
     "output_type": "display_data"
    }
   ],
   "source": [
    "scaler = data_manager.get_scaler()\n",
    "\n",
    "preds_test = regressor.predict(df_test.drop(columns=[\"age\", \"gender\"], axis=1))\n",
    "age_test = data_manager.inverse_standardize_age([df_test[\"age\"]])[0]\n",
    "age_preds_test = data_manager.inverse_standardize_age([preds_test])[0]\n",
    "\n",
    "print('Mean squared error: ' + str(mean_squared_error(age_test, age_preds_test)))\n",
    "print('Root mean squared error: ' + str(math.sqrt(mean_squared_error(age_test, age_preds_test))))\n",
    "print('Mean absolute error: ' + str(mean_absolute_error(age_test, age_preds_test)))\n",
    "\n",
    "age_test = [math.floor(a) for a in age_test]\n",
    "age_preds_test = [math.floor(a) for a in age_preds_test]\n",
    "\n",
    "conf_mat_test = confusion_matrix(age_test, age_preds_test)\n",
    "\n",
    "sns.heatmap(conf_mat_test, linewidth=0.5)\n",
    "plt.show()"
   ],
   "metadata": {
    "collapsed": false,
    "pycharm": {
     "name": "#%%\n"
    }
   }
  },
  {
   "cell_type": "code",
   "execution_count": 35,
   "outputs": [
    {
     "name": "stdout",
     "output_type": "stream",
     "text": [
      "Mean squared error: 604.9772353243926\n",
      "Root mean squared error: 24.59628499030682\n",
      "Mean absolute error: 20.77975489856678\n"
     ]
    },
    {
     "data": {
      "text/plain": "<Figure size 432x288 with 2 Axes>",
      "image/png": "[encoded data removed]"
     },
     "metadata": {
      "needs_background": "light"
     },
     "output_type": "display_data"
    }
   ],
   "source": [
    "preds_val = regressor.predict(df_val.drop(columns=[\"age\", \"gender\"], axis=1))\n",
    "age_val = data_manager.inverse_standardize_age([df_val[\"age\"]])[0]\n",
    "age_preds_val = data_manager.inverse_standardize_age([preds_val])[0]\n",
    "\n",
    "print('Mean squared error: ' + str(mean_squared_error(age_val, age_preds_val)))\n",
    "print('Root mean squared error: ' + str(math.sqrt(mean_squared_error(age_val, age_preds_val))))\n",
    "print('Mean absolute error: ' + str(mean_absolute_error(age_val, age_preds_val)))\n",
    "\n",
    "age_val = [math.floor(a) for a in age_val]\n",
    "age_preds_val = [math.floor(a) for a in age_preds_val]\n",
    "\n",
    "conf_mat_val = confusion_matrix(age_val, age_preds_val)\n",
    "\n",
    "sns.heatmap(conf_mat_val, linewidth=0.5)\n",
    "plt.show()"
   ],
   "metadata": {
    "collapsed": false,
    "pycharm": {
     "name": "#%%\n"
    }
   }
  },
  {
   "cell_type": "code",
   "execution_count": 28,
   "outputs": [
    {
     "data": {
      "text/plain": "array([[34., 46., 25.,  2., 40., 29., 82., 18., 29., 25.,  1., 10.,  9.,\n        26., 13., 67.,  9.,  5., 52.,  1.,  5., 16., 37., 17., 21., 66.,\n        95., 15., 90., 60.,  1., 18., 37.,  6.,  1.,  1., 25., 24.,  1.,\n        21., 24., 67., 32., 41.,  2., 26.,  1.,  3.,  3., 39.,  3., 52.,\n        53., 52.,  1., 37., 15., 52.,  4., 43., 65., 61., 53., 17.,  2.,\n         2., 80., 15., 10.,  9., 55., 53.,  9., 35., 41., 64., 77., 35.,\n        28., 23.,  7., 57.,  8., 32., 36., 36., 72., 45., 36., 69., 31.,\n        60., 30., 85., 82., 12., 18., 23.,  1., 10., 22.,  1., 27., 20.,\n        54.,  1.,  1., 55., 66., 14., 47., 14.,  5.,  2.,  8., 88.,  4.,\n        37.,  1., 37.,  3.,  3., 65., 36.,  4., 32., 49.,  9., 30., 49.,\n         8., 22., 26., 63.,  1., 13., 16., 17., 60., 26., 80.,  1., 49.,\n        75., 85., 80.,  1., 14., 59.,  1., 16.,  1.,  1.,  1.,  3., 26.,\n        26., 60.,  1., 18., 43., 38.,  1.,  8., 14., 45., 17., 20.,  1.,\n         1., 22., 43., 31.,  8., 31., 18., 30.,  3., 66., 41., 45., 25.,\n         6., 40.,  4.,  1.,  4., 26.,  2., 56.,  2., 68., 54.,  5., 80.,\n        30., 30., 62., 12., 25., 50., 16., 18., 10., 10., 24.,  2.,  5.,\n        26., 28., 72., 60., 20., 18.,  1., 29., 92., 86.,  9., 26.,  2.,\n        12.,  3., 60., 11.,  4., 30., 18., 75.,  1.,  1., 29., 65., 79.,\n        37.,  1., 17., 50.,  4., 67., 30., 34., 49.,  7.,  3., 18.,  9.,\n        48., 80.,  1., 18., 26., 53., 23., 53., 20., 57., 38., 16., 49.,\n         4.,  6., 41., 85., 34., 80., 56.,  8., 61., 42., 10., 36.,  2.,\n        50., 32., 59.,  3., 54., 67., 48., 36., 31., 15., 30., 18.,  1.,\n         1.,  8.,  2.]])"
     },
     "execution_count": 28,
     "metadata": {},
     "output_type": "execute_result"
    }
   ],
   "source": [],
   "metadata": {
    "collapsed": false,
    "pycharm": {
     "name": "#%%\n"
    }
   }
  }
 ],
 "metadata": {
  "kernelspec": {
   "display_name": "Python 3",
   "language": "python",
   "name": "python3"
  },
  "language_info": {
   "codemirror_mode": {
    "name": "ipython",
    "version": 2
   },
   "file_extension": ".py",
   "mimetype": "text/x-python",
   "name": "python",
   "nbconvert_exporter": "python",
   "pygments_lexer": "ipython2",
   "version": "2.7.6"
  }
 },
 "nbformat": 4,
 "nbformat_minor": 0
}